{
  "nbformat": 4,
  "nbformat_minor": 0,
  "metadata": {
    "colab": {
      "name": "Analysis.ipynb",
      "provenance": [],
      "collapsed_sections": []
    },
    "kernelspec": {
      "name": "python3",
      "display_name": "Python 3"
    },
    "language_info": {
      "name": "python"
    }
  },
  "cells": [
    {
      "cell_type": "code",
      "metadata": {
        "colab": {
          "base_uri": "https://localhost:8080/"
        },
        "id": "kxfEbcWgeiBz",
        "outputId": "3807e948-cb75-46b5-c3e6-984a9b43993d"
      },
      "source": [
        "from google.colab import drive\n",
        "drive.mount('/content/drive')"
      ],
      "execution_count": null,
      "outputs": [
        {
          "output_type": "stream",
          "text": [
            "Mounted at /content/drive\n"
          ],
          "name": "stdout"
        }
      ]
    },
    {
      "cell_type": "markdown",
      "metadata": {
        "id": "Rq-2QoGPgN-2"
      },
      "source": [
        "#Explore Dataset\n",
        "######Some of the functions written in the first section (Dell) will be used later"
      ]
    },
    {
      "cell_type": "markdown",
      "metadata": {
        "id": "xKDm_TPIgYuq"
      },
      "source": [
        "##Dell"
      ]
    },
    {
      "cell_type": "code",
      "metadata": {
        "id": "HT5UTMgze0UT"
      },
      "source": [
        "import numpy as np\n",
        "import pandas as pd\n",
        "import matplotlib.pyplot as plt\n",
        "\n",
        "dell_dataset = pd.read_csv('/content/drive/My Drive/Web Crawling/csv/dell.csv')"
      ],
      "execution_count": null,
      "outputs": []
    },
    {
      "cell_type": "code",
      "metadata": {
        "colab": {
          "base_uri": "https://localhost:8080/"
        },
        "id": "ZT8TUjVtgmQ4",
        "outputId": "50e23a55-0cd4-4f03-9f74-aec77bc75f46"
      },
      "source": [
        "print(dell_dataset.shape) "
      ],
      "execution_count": null,
      "outputs": [
        {
          "output_type": "stream",
          "text": [
            "(167, 4)\n"
          ],
          "name": "stdout"
        }
      ]
    },
    {
      "cell_type": "code",
      "metadata": {
        "colab": {
          "base_uri": "https://localhost:8080/",
          "height": 206
        },
        "id": "olPDy2JWgonA",
        "outputId": "c68b0760-fb9f-473e-ddbe-9b7316b0ea1a"
      },
      "source": [
        "dell_dataset.head()"
      ],
      "execution_count": null,
      "outputs": [
        {
          "output_type": "execute_result",
          "data": {
            "text/html": [
              "<div>\n",
              "<style scoped>\n",
              "    .dataframe tbody tr th:only-of-type {\n",
              "        vertical-align: middle;\n",
              "    }\n",
              "\n",
              "    .dataframe tbody tr th {\n",
              "        vertical-align: top;\n",
              "    }\n",
              "\n",
              "    .dataframe thead th {\n",
              "        text-align: right;\n",
              "    }\n",
              "</style>\n",
              "<table border=\"1\" class=\"dataframe\">\n",
              "  <thead>\n",
              "    <tr style=\"text-align: right;\">\n",
              "      <th></th>\n",
              "      <th>page</th>\n",
              "      <th>item_name</th>\n",
              "      <th>score</th>\n",
              "      <th>review</th>\n",
              "    </tr>\n",
              "  </thead>\n",
              "  <tbody>\n",
              "    <tr>\n",
              "      <th>0</th>\n",
              "      <td>https://www.pcmag.com/categories/laptops/brand...</td>\n",
              "      <td>Dell Latitude 7390 2-in-1 Review</td>\n",
              "      <td>4.0</td>\n",
              "      <td>The Dell Latitude 7390's eighth-generation Int...</td>\n",
              "    </tr>\n",
              "    <tr>\n",
              "      <th>1</th>\n",
              "      <td>https://www.pcmag.com/categories/laptops/brand...</td>\n",
              "      <td>Dell XPS 13 (9370) Review</td>\n",
              "      <td>4.5</td>\n",
              "      <td>A new rose gold and white color scheme—well wo...</td>\n",
              "    </tr>\n",
              "    <tr>\n",
              "      <th>2</th>\n",
              "      <td>https://www.pcmag.com/categories/laptops/brand...</td>\n",
              "      <td>Dell Inspiron 13 7000 2-in-1 (7373) Review</td>\n",
              "      <td>2.5</td>\n",
              "      <td>Convertible laptops are about the freedom to w...</td>\n",
              "    </tr>\n",
              "    <tr>\n",
              "      <th>3</th>\n",
              "      <td>https://www.pcmag.com/categories/laptops/brand...</td>\n",
              "      <td>Dell Inspiron 13 5000 2-in-1 (5379) Review</td>\n",
              "      <td>2.5</td>\n",
              "      <td>Unless you need to wring as much computing pow...</td>\n",
              "    </tr>\n",
              "    <tr>\n",
              "      <th>4</th>\n",
              "      <td>https://www.pcmag.com/categories/laptops/brand...</td>\n",
              "      <td>Dell Latitude 7212 Rugged Extreme Tablet Review</td>\n",
              "      <td>4.0</td>\n",
              "      <td>The Dell Latitude 7212 is a well-designed, tou...</td>\n",
              "    </tr>\n",
              "  </tbody>\n",
              "</table>\n",
              "</div>"
            ],
            "text/plain": [
              "                                                page  ...                                             review\n",
              "0  https://www.pcmag.com/categories/laptops/brand...  ...  The Dell Latitude 7390's eighth-generation Int...\n",
              "1  https://www.pcmag.com/categories/laptops/brand...  ...  A new rose gold and white color scheme—well wo...\n",
              "2  https://www.pcmag.com/categories/laptops/brand...  ...  Convertible laptops are about the freedom to w...\n",
              "3  https://www.pcmag.com/categories/laptops/brand...  ...  Unless you need to wring as much computing pow...\n",
              "4  https://www.pcmag.com/categories/laptops/brand...  ...  The Dell Latitude 7212 is a well-designed, tou...\n",
              "\n",
              "[5 rows x 4 columns]"
            ]
          },
          "metadata": {
            "tags": []
          },
          "execution_count": 52
        }
      ]
    },
    {
      "cell_type": "code",
      "metadata": {
        "id": "Oojmo4ZUguX-"
      },
      "source": [
        "# write a piece of function to check null entries exsistence in each column\n",
        "def check_null_utility(col, df):\n",
        "  return df[col].isnull().values.any() # returns boolean\n",
        "\n",
        "def check_null(df):\n",
        "  col_names = [x for x in df.columns] # stores all column names\n",
        "  result = []\n",
        "  for x in col_names:\n",
        "    result.append(tuple([x,check_null_utility(x, df)])) # list of tuples\n",
        "\n",
        "  for x in result:\n",
        "    print(x[0],\":\",x[1])"
      ],
      "execution_count": null,
      "outputs": []
    },
    {
      "cell_type": "code",
      "metadata": {
        "colab": {
          "base_uri": "https://localhost:8080/"
        },
        "id": "csolHHBqgvsW",
        "outputId": "a8718985-2ded-4369-f25b-9310351cf6de"
      },
      "source": [
        "check_null(dell_dataset)"
      ],
      "execution_count": null,
      "outputs": [
        {
          "output_type": "stream",
          "text": [
            "page : False\n",
            "item_name : False\n",
            "score : False\n",
            "review : False\n"
          ],
          "name": "stdout"
        }
      ]
    },
    {
      "cell_type": "code",
      "metadata": {
        "colab": {
          "base_uri": "https://localhost:8080/"
        },
        "id": "qUrcB0izgxNT",
        "outputId": "2b8e1550-ff6c-4fc3-dc63-ff360f99d996"
      },
      "source": [
        "# drop unnecessary columns \n",
        "dell_dataset.drop(columns=['page'],inplace=True)\n",
        "print(\"Current Dell dataset columns:\",dell_dataset.columns)"
      ],
      "execution_count": null,
      "outputs": [
        {
          "output_type": "stream",
          "text": [
            "Current Dell dataset columns: Index(['item_name', 'score', 'review'], dtype='object')\n"
          ],
          "name": "stdout"
        }
      ]
    },
    {
      "cell_type": "code",
      "metadata": {
        "colab": {
          "base_uri": "https://localhost:8080/",
          "height": 206
        },
        "id": "vmlS5XHagyLO",
        "outputId": "da0dfcd1-33d3-41f5-f831-06eaf25e9f82"
      },
      "source": [
        "dell_dataset.head()"
      ],
      "execution_count": null,
      "outputs": [
        {
          "output_type": "execute_result",
          "data": {
            "text/html": [
              "<div>\n",
              "<style scoped>\n",
              "    .dataframe tbody tr th:only-of-type {\n",
              "        vertical-align: middle;\n",
              "    }\n",
              "\n",
              "    .dataframe tbody tr th {\n",
              "        vertical-align: top;\n",
              "    }\n",
              "\n",
              "    .dataframe thead th {\n",
              "        text-align: right;\n",
              "    }\n",
              "</style>\n",
              "<table border=\"1\" class=\"dataframe\">\n",
              "  <thead>\n",
              "    <tr style=\"text-align: right;\">\n",
              "      <th></th>\n",
              "      <th>item_name</th>\n",
              "      <th>score</th>\n",
              "      <th>review</th>\n",
              "    </tr>\n",
              "  </thead>\n",
              "  <tbody>\n",
              "    <tr>\n",
              "      <th>0</th>\n",
              "      <td>Dell Latitude 7390 2-in-1 Review</td>\n",
              "      <td>4.0</td>\n",
              "      <td>The Dell Latitude 7390's eighth-generation Int...</td>\n",
              "    </tr>\n",
              "    <tr>\n",
              "      <th>1</th>\n",
              "      <td>Dell XPS 13 (9370) Review</td>\n",
              "      <td>4.5</td>\n",
              "      <td>A new rose gold and white color scheme—well wo...</td>\n",
              "    </tr>\n",
              "    <tr>\n",
              "      <th>2</th>\n",
              "      <td>Dell Inspiron 13 7000 2-in-1 (7373) Review</td>\n",
              "      <td>2.5</td>\n",
              "      <td>Convertible laptops are about the freedom to w...</td>\n",
              "    </tr>\n",
              "    <tr>\n",
              "      <th>3</th>\n",
              "      <td>Dell Inspiron 13 5000 2-in-1 (5379) Review</td>\n",
              "      <td>2.5</td>\n",
              "      <td>Unless you need to wring as much computing pow...</td>\n",
              "    </tr>\n",
              "    <tr>\n",
              "      <th>4</th>\n",
              "      <td>Dell Latitude 7212 Rugged Extreme Tablet Review</td>\n",
              "      <td>4.0</td>\n",
              "      <td>The Dell Latitude 7212 is a well-designed, tou...</td>\n",
              "    </tr>\n",
              "  </tbody>\n",
              "</table>\n",
              "</div>"
            ],
            "text/plain": [
              "                                          item_name  ...                                             review\n",
              "0                  Dell Latitude 7390 2-in-1 Review  ...  The Dell Latitude 7390's eighth-generation Int...\n",
              "1                         Dell XPS 13 (9370) Review  ...  A new rose gold and white color scheme—well wo...\n",
              "2        Dell Inspiron 13 7000 2-in-1 (7373) Review  ...  Convertible laptops are about the freedom to w...\n",
              "3        Dell Inspiron 13 5000 2-in-1 (5379) Review  ...  Unless you need to wring as much computing pow...\n",
              "4   Dell Latitude 7212 Rugged Extreme Tablet Review  ...  The Dell Latitude 7212 is a well-designed, tou...\n",
              "\n",
              "[5 rows x 3 columns]"
            ]
          },
          "metadata": {
            "tags": []
          },
          "execution_count": 56
        }
      ]
    },
    {
      "cell_type": "markdown",
      "metadata": {
        "id": "Zva6z_nfg6pN"
      },
      "source": [
        "##Apple"
      ]
    },
    {
      "cell_type": "code",
      "metadata": {
        "id": "yH4yUoHlg8nS"
      },
      "source": [
        "apple_dataset = pd.read_csv('/content/drive/My Drive/Web Crawling/csv/apple.csv')"
      ],
      "execution_count": null,
      "outputs": []
    },
    {
      "cell_type": "code",
      "metadata": {
        "id": "paWdCuaNhgaH"
      },
      "source": [
        "#put everything into a single function and call it \n",
        "def explore(df):\n",
        "  print(\"Shape: \",df.shape)\n",
        "  print(\"------------\")\n",
        "  print(\"Check NULL =>\")\n",
        "  check_null(df)\n",
        "  print(\"------------\")\n",
        "  print(\"Original columns:\",df.columns)\n",
        "  df.drop(columns=['page'],inplace=True)\n",
        "  print(\"After dropping unnecessary columns:\",df.columns)\n"
      ],
      "execution_count": null,
      "outputs": []
    },
    {
      "cell_type": "code",
      "metadata": {
        "colab": {
          "base_uri": "https://localhost:8080/"
        },
        "id": "86OGrn6mic4x",
        "outputId": "10b0bb93-b499-4c65-b9af-fac2f59ac44a"
      },
      "source": [
        "explore(apple_dataset)"
      ],
      "execution_count": null,
      "outputs": [
        {
          "output_type": "stream",
          "text": [
            "Shape:  (62, 4)\n",
            "------------\n",
            "Check NULL =>\n",
            "page : False\n",
            "item_name : False\n",
            "score : False\n",
            "review : False\n",
            "------------\n",
            "Original columns: Index(['page', 'item_name', 'score', 'review'], dtype='object')\n",
            "After dropping unnecessary columns: Index(['item_name', 'score', 'review'], dtype='object')\n"
          ],
          "name": "stdout"
        }
      ]
    },
    {
      "cell_type": "code",
      "metadata": {
        "colab": {
          "base_uri": "https://localhost:8080/",
          "height": 206
        },
        "id": "AwnC4g-IieXX",
        "outputId": "67932c86-5fb6-4851-e66f-08cdc47f4485"
      },
      "source": [
        "apple_dataset.head()"
      ],
      "execution_count": null,
      "outputs": [
        {
          "output_type": "execute_result",
          "data": {
            "text/html": [
              "<div>\n",
              "<style scoped>\n",
              "    .dataframe tbody tr th:only-of-type {\n",
              "        vertical-align: middle;\n",
              "    }\n",
              "\n",
              "    .dataframe tbody tr th {\n",
              "        vertical-align: top;\n",
              "    }\n",
              "\n",
              "    .dataframe thead th {\n",
              "        text-align: right;\n",
              "    }\n",
              "</style>\n",
              "<table border=\"1\" class=\"dataframe\">\n",
              "  <thead>\n",
              "    <tr style=\"text-align: right;\">\n",
              "      <th></th>\n",
              "      <th>item_name</th>\n",
              "      <th>score</th>\n",
              "      <th>review</th>\n",
              "    </tr>\n",
              "  </thead>\n",
              "  <tbody>\n",
              "    <tr>\n",
              "      <th>0</th>\n",
              "      <td>Apple MacBook Pro 13-inch (Retina Display) Review</td>\n",
              "      <td>4.5</td>\n",
              "      <td>The Apple MacBook Pro 13-inch (Retina Display)...</td>\n",
              "    </tr>\n",
              "    <tr>\n",
              "      <th>1</th>\n",
              "      <td>Dell XPS 15 Review</td>\n",
              "      <td>4.5</td>\n",
              "      <td>The Dell XPS 15 is unlike any other desktop re...</td>\n",
              "    </tr>\n",
              "    <tr>\n",
              "      <th>2</th>\n",
              "      <td>Dell Venue 8 Pro Review</td>\n",
              "      <td>4.0</td>\n",
              "      <td>The Dell Venue 8 Pro is a Windows 8.1 entry-le...</td>\n",
              "    </tr>\n",
              "    <tr>\n",
              "      <th>3</th>\n",
              "      <td>HP Envy TouchSmart 15t-j100 Quad Edition Review</td>\n",
              "      <td>3.5</td>\n",
              "      <td>The HP TouchSmart 15t-j100 Quad Edition gives ...</td>\n",
              "    </tr>\n",
              "    <tr>\n",
              "      <th>4</th>\n",
              "      <td>Apple MacBook Pro 13-inch (2013) Review</td>\n",
              "      <td>4.5</td>\n",
              "      <td>The Apple MacBook Pro 13-inch (2013) uses Inte...</td>\n",
              "    </tr>\n",
              "  </tbody>\n",
              "</table>\n",
              "</div>"
            ],
            "text/plain": [
              "                                           item_name  ...                                             review\n",
              "0  Apple MacBook Pro 13-inch (Retina Display) Review  ...  The Apple MacBook Pro 13-inch (Retina Display)...\n",
              "1                                 Dell XPS 15 Review  ...  The Dell XPS 15 is unlike any other desktop re...\n",
              "2                            Dell Venue 8 Pro Review  ...  The Dell Venue 8 Pro is a Windows 8.1 entry-le...\n",
              "3    HP Envy TouchSmart 15t-j100 Quad Edition Review  ...  The HP TouchSmart 15t-j100 Quad Edition gives ...\n",
              "4            Apple MacBook Pro 13-inch (2013) Review  ...  The Apple MacBook Pro 13-inch (2013) uses Inte...\n",
              "\n",
              "[5 rows x 3 columns]"
            ]
          },
          "metadata": {
            "tags": []
          },
          "execution_count": 25
        }
      ]
    },
    {
      "cell_type": "markdown",
      "metadata": {
        "id": "vFNJjtK9itS-"
      },
      "source": [
        "##ASUS"
      ]
    },
    {
      "cell_type": "code",
      "metadata": {
        "id": "7etSKuM8inIQ"
      },
      "source": [
        "asus_dataset = pd.read_csv('/content/drive/My Drive/Web Crawling/csv/asus.csv')"
      ],
      "execution_count": null,
      "outputs": []
    },
    {
      "cell_type": "code",
      "metadata": {
        "colab": {
          "base_uri": "https://localhost:8080/"
        },
        "id": "nNiiCulJi5ZL",
        "outputId": "ce3c4e64-71ea-4f04-dfb4-691661b2deca"
      },
      "source": [
        "explore(asus_dataset)"
      ],
      "execution_count": null,
      "outputs": [
        {
          "output_type": "stream",
          "text": [
            "Shape:  (118, 4)\n",
            "------------\n",
            "Check NULL =>\n",
            "page : False\n",
            "item_name : False\n",
            "score : False\n",
            "review : False\n",
            "------------\n",
            "Original columns: Index(['page', 'item_name', 'score', 'review'], dtype='object')\n",
            "After dropping unnecessary columns: Index(['item_name', 'score', 'review'], dtype='object')\n"
          ],
          "name": "stdout"
        }
      ]
    },
    {
      "cell_type": "code",
      "metadata": {
        "colab": {
          "base_uri": "https://localhost:8080/",
          "height": 206
        },
        "id": "TTaFCTO-i-gT",
        "outputId": "cf249801-67b0-4f37-e48e-4a7dfd01d250"
      },
      "source": [
        "asus_dataset.head()"
      ],
      "execution_count": null,
      "outputs": [
        {
          "output_type": "execute_result",
          "data": {
            "text/html": [
              "<div>\n",
              "<style scoped>\n",
              "    .dataframe tbody tr th:only-of-type {\n",
              "        vertical-align: middle;\n",
              "    }\n",
              "\n",
              "    .dataframe tbody tr th {\n",
              "        vertical-align: top;\n",
              "    }\n",
              "\n",
              "    .dataframe thead th {\n",
              "        text-align: right;\n",
              "    }\n",
              "</style>\n",
              "<table border=\"1\" class=\"dataframe\">\n",
              "  <thead>\n",
              "    <tr style=\"text-align: right;\">\n",
              "      <th></th>\n",
              "      <th>item_name</th>\n",
              "      <th>score</th>\n",
              "      <th>review</th>\n",
              "    </tr>\n",
              "  </thead>\n",
              "  <tbody>\n",
              "    <tr>\n",
              "      <th>0</th>\n",
              "      <td>Asus Transformer Book T100TA (64GB) Review</td>\n",
              "      <td>4.5</td>\n",
              "      <td>For a sub-$400 price, the Asus Transformer Boo...</td>\n",
              "    </tr>\n",
              "    <tr>\n",
              "      <th>1</th>\n",
              "      <td>Lenovo IdeaPad Flex 14 Review</td>\n",
              "      <td>3.0</td>\n",
              "      <td>The Lenovo IdeaPad Flex 14 doesn't have as ful...</td>\n",
              "    </tr>\n",
              "    <tr>\n",
              "      <th>2</th>\n",
              "      <td>Apple MacBook Pro 15-inch (2013) Review</td>\n",
              "      <td>5.0</td>\n",
              "      <td>With an updated Intel processor and speedier F...</td>\n",
              "    </tr>\n",
              "    <tr>\n",
              "      <th>3</th>\n",
              "      <td>Sony VAIO Flip 15 (SVF15N190X) Review</td>\n",
              "      <td>3.5</td>\n",
              "      <td>The Sony VAIO Flip 15 supersizes the convertib...</td>\n",
              "    </tr>\n",
              "    <tr>\n",
              "      <th>4</th>\n",
              "      <td>Lenovo IdeaPad U430 Touch Review</td>\n",
              "      <td>4.0</td>\n",
              "      <td>With very few compromises and all-day battery ...</td>\n",
              "    </tr>\n",
              "  </tbody>\n",
              "</table>\n",
              "</div>"
            ],
            "text/plain": [
              "                                    item_name  ...                                             review\n",
              "0  Asus Transformer Book T100TA (64GB) Review  ...  For a sub-$400 price, the Asus Transformer Boo...\n",
              "1               Lenovo IdeaPad Flex 14 Review  ...  The Lenovo IdeaPad Flex 14 doesn't have as ful...\n",
              "2     Apple MacBook Pro 15-inch (2013) Review  ...  With an updated Intel processor and speedier F...\n",
              "3       Sony VAIO Flip 15 (SVF15N190X) Review  ...  The Sony VAIO Flip 15 supersizes the convertib...\n",
              "4            Lenovo IdeaPad U430 Touch Review  ...  With very few compromises and all-day battery ...\n",
              "\n",
              "[5 rows x 3 columns]"
            ]
          },
          "metadata": {
            "tags": []
          },
          "execution_count": 28
        }
      ]
    },
    {
      "cell_type": "markdown",
      "metadata": {
        "id": "Z_alVAbpixoT"
      },
      "source": [
        "##LENOVO"
      ]
    },
    {
      "cell_type": "code",
      "metadata": {
        "id": "lQ61bckDiyjT"
      },
      "source": [
        "lenovo_dataset = pd.read_csv('/content/drive/My Drive/Web Crawling/csv/lenovo.csv')"
      ],
      "execution_count": null,
      "outputs": []
    },
    {
      "cell_type": "code",
      "metadata": {
        "colab": {
          "base_uri": "https://localhost:8080/"
        },
        "id": "N9C1qgKPjR7m",
        "outputId": "a0a93f17-ef83-4f8c-fff7-506309e56cc2"
      },
      "source": [
        "explore(lenovo_dataset)"
      ],
      "execution_count": null,
      "outputs": [
        {
          "output_type": "stream",
          "text": [
            "Shape:  (192, 4)\n",
            "------------\n",
            "Check NULL =>\n",
            "page : False\n",
            "item_name : False\n",
            "score : False\n",
            "review : False\n",
            "------------\n",
            "Original columns: Index(['page', 'item_name', 'score', 'review'], dtype='object')\n",
            "After dropping unnecessary columns: Index(['item_name', 'score', 'review'], dtype='object')\n"
          ],
          "name": "stdout"
        }
      ]
    },
    {
      "cell_type": "code",
      "metadata": {
        "colab": {
          "base_uri": "https://localhost:8080/",
          "height": 206
        },
        "id": "WWSN6icvjWrL",
        "outputId": "cecdcb53-382c-49d2-bf77-2b3cb867319c"
      },
      "source": [
        "lenovo_dataset.head()"
      ],
      "execution_count": null,
      "outputs": [
        {
          "output_type": "execute_result",
          "data": {
            "text/html": [
              "<div>\n",
              "<style scoped>\n",
              "    .dataframe tbody tr th:only-of-type {\n",
              "        vertical-align: middle;\n",
              "    }\n",
              "\n",
              "    .dataframe tbody tr th {\n",
              "        vertical-align: top;\n",
              "    }\n",
              "\n",
              "    .dataframe thead th {\n",
              "        text-align: right;\n",
              "    }\n",
              "</style>\n",
              "<table border=\"1\" class=\"dataframe\">\n",
              "  <thead>\n",
              "    <tr style=\"text-align: right;\">\n",
              "      <th></th>\n",
              "      <th>item_name</th>\n",
              "      <th>score</th>\n",
              "      <th>review</th>\n",
              "    </tr>\n",
              "  </thead>\n",
              "  <tbody>\n",
              "    <tr>\n",
              "      <th>0</th>\n",
              "      <td>Lenovo ThinkPad 11e Chromebook Review</td>\n",
              "      <td>4.0</td>\n",
              "      <td>The Lenovo ThinkPad 11e Chromebook is a Celero...</td>\n",
              "    </tr>\n",
              "    <tr>\n",
              "      <th>1</th>\n",
              "      <td>Lenovo ThinkPad Yoga 15 Review</td>\n",
              "      <td>3.5</td>\n",
              "      <td>Part desktop-replacement laptop, part converti...</td>\n",
              "    </tr>\n",
              "    <tr>\n",
              "      <th>2</th>\n",
              "      <td>Lenovo OneLink Pro Dock Review</td>\n",
              "      <td>4.0</td>\n",
              "      <td>The OneLink Pro Dock works with several Lenovo...</td>\n",
              "    </tr>\n",
              "    <tr>\n",
              "      <th>3</th>\n",
              "      <td>Lenovo ThinkPad Helix 2nd Gen Review</td>\n",
              "      <td>3.5</td>\n",
              "      <td>Lenovo's ThinkPad Helix 2nd Gen detachable-hyb...</td>\n",
              "    </tr>\n",
              "    <tr>\n",
              "      <th>4</th>\n",
              "      <td>Lenovo LaVie Z 360 Review</td>\n",
              "      <td>3.0</td>\n",
              "      <td>The Lenovo LaVie Z 360 brings an almost imposs...</td>\n",
              "    </tr>\n",
              "  </tbody>\n",
              "</table>\n",
              "</div>"
            ],
            "text/plain": [
              "                               item_name  ...                                             review\n",
              "0  Lenovo ThinkPad 11e Chromebook Review  ...  The Lenovo ThinkPad 11e Chromebook is a Celero...\n",
              "1         Lenovo ThinkPad Yoga 15 Review  ...  Part desktop-replacement laptop, part converti...\n",
              "2         Lenovo OneLink Pro Dock Review  ...  The OneLink Pro Dock works with several Lenovo...\n",
              "3   Lenovo ThinkPad Helix 2nd Gen Review  ...  Lenovo's ThinkPad Helix 2nd Gen detachable-hyb...\n",
              "4              Lenovo LaVie Z 360 Review  ...  The Lenovo LaVie Z 360 brings an almost imposs...\n",
              "\n",
              "[5 rows x 3 columns]"
            ]
          },
          "metadata": {
            "tags": []
          },
          "execution_count": 31
        }
      ]
    },
    {
      "cell_type": "markdown",
      "metadata": {
        "id": "OnrJfYzKizD5"
      },
      "source": [
        "##MSI"
      ]
    },
    {
      "cell_type": "code",
      "metadata": {
        "id": "QbR2QN7ai005"
      },
      "source": [
        "msi_dataset = pd.read_csv('/content/drive/My Drive/Web Crawling/csv/msi.csv')"
      ],
      "execution_count": null,
      "outputs": []
    },
    {
      "cell_type": "code",
      "metadata": {
        "colab": {
          "base_uri": "https://localhost:8080/"
        },
        "id": "JStPJn3njdl3",
        "outputId": "564b99ca-23e7-4967-b854-b1987076e09e"
      },
      "source": [
        "explore(msi_dataset)"
      ],
      "execution_count": null,
      "outputs": [
        {
          "output_type": "stream",
          "text": [
            "Shape:  (48, 4)\n",
            "------------\n",
            "Check NULL =>\n",
            "page : False\n",
            "item_name : False\n",
            "score : False\n",
            "review : False\n",
            "------------\n",
            "Original columns: Index(['page', 'item_name', 'score', 'review'], dtype='object')\n",
            "After dropping unnecessary columns: Index(['item_name', 'score', 'review'], dtype='object')\n"
          ],
          "name": "stdout"
        }
      ]
    },
    {
      "cell_type": "code",
      "metadata": {
        "colab": {
          "base_uri": "https://localhost:8080/",
          "height": 206
        },
        "id": "FSrBygNbjf0o",
        "outputId": "85d071f1-4c8f-41c8-c00c-bf3840af519a"
      },
      "source": [
        "msi_dataset.head()"
      ],
      "execution_count": null,
      "outputs": [
        {
          "output_type": "execute_result",
          "data": {
            "text/html": [
              "<div>\n",
              "<style scoped>\n",
              "    .dataframe tbody tr th:only-of-type {\n",
              "        vertical-align: middle;\n",
              "    }\n",
              "\n",
              "    .dataframe tbody tr th {\n",
              "        vertical-align: top;\n",
              "    }\n",
              "\n",
              "    .dataframe thead th {\n",
              "        text-align: right;\n",
              "    }\n",
              "</style>\n",
              "<table border=\"1\" class=\"dataframe\">\n",
              "  <thead>\n",
              "    <tr style=\"text-align: right;\">\n",
              "      <th></th>\n",
              "      <th>item_name</th>\n",
              "      <th>score</th>\n",
              "      <th>review</th>\n",
              "    </tr>\n",
              "  </thead>\n",
              "  <tbody>\n",
              "    <tr>\n",
              "      <th>0</th>\n",
              "      <td>MSI P65 Creator Review</td>\n",
              "      <td>3.5</td>\n",
              "      <td>In the speedy, stylish P65 Creator, MSI reskin...</td>\n",
              "    </tr>\n",
              "    <tr>\n",
              "      <th>1</th>\n",
              "      <td>MSI GF63 8RD Review</td>\n",
              "      <td>3.5</td>\n",
              "      <td>Inspired by MSI's slick GS65 Stealth Thin, the...</td>\n",
              "    </tr>\n",
              "    <tr>\n",
              "      <th>2</th>\n",
              "      <td>MSI GE63 Raider RGB Review</td>\n",
              "      <td>3.5</td>\n",
              "      <td>Esports aficionados with an eye for bling will...</td>\n",
              "    </tr>\n",
              "    <tr>\n",
              "      <th>3</th>\n",
              "      <td>MSI PS42 (8RB) Review</td>\n",
              "      <td>3.0</td>\n",
              "      <td>An ultraportable from gaming-PC maker MSI, the...</td>\n",
              "    </tr>\n",
              "    <tr>\n",
              "      <th>4</th>\n",
              "      <td>MSI GL63 8RC Review</td>\n",
              "      <td>3.0</td>\n",
              "      <td>A budget-minded 15.6-inch gaming notebook, the...</td>\n",
              "    </tr>\n",
              "  </tbody>\n",
              "</table>\n",
              "</div>"
            ],
            "text/plain": [
              "                    item_name  ...                                             review\n",
              "0      MSI P65 Creator Review  ...  In the speedy, stylish P65 Creator, MSI reskin...\n",
              "1         MSI GF63 8RD Review  ...  Inspired by MSI's slick GS65 Stealth Thin, the...\n",
              "2  MSI GE63 Raider RGB Review  ...  Esports aficionados with an eye for bling will...\n",
              "3       MSI PS42 (8RB) Review  ...  An ultraportable from gaming-PC maker MSI, the...\n",
              "4         MSI GL63 8RC Review  ...  A budget-minded 15.6-inch gaming notebook, the...\n",
              "\n",
              "[5 rows x 3 columns]"
            ]
          },
          "metadata": {
            "tags": []
          },
          "execution_count": 34
        }
      ]
    },
    {
      "cell_type": "markdown",
      "metadata": {
        "id": "cC-45a8jjjdh"
      },
      "source": [
        "#Data Cleaning"
      ]
    },
    {
      "cell_type": "markdown",
      "metadata": {
        "id": "xVbeqeP8lEjn"
      },
      "source": [
        "##Dell"
      ]
    },
    {
      "cell_type": "code",
      "metadata": {
        "id": "SOm-7j25jhPz"
      },
      "source": [
        "#write a function for unique item name\n",
        "def items(df):\n",
        "  item_name = []\n",
        "  for i in range(len(df)):\n",
        "    item_name.append(df.loc[i, \"item_name\"])\n",
        "  def unique(lst):\n",
        "    unique_name = []\n",
        "    for x in lst:\n",
        "      if x not in unique_name:\n",
        "        unique_name.append(x)\n",
        "    return unique_name\n",
        "  return unique(item_name)"
      ],
      "execution_count": null,
      "outputs": []
    },
    {
      "cell_type": "code",
      "metadata": {
        "colab": {
          "base_uri": "https://localhost:8080/"
        },
        "id": "gACzoBa8j3Sn",
        "outputId": "e6dca3d0-3620-4177-8be4-b588cd4021e4"
      },
      "source": [
        "items(dell_dataset)"
      ],
      "execution_count": null,
      "outputs": [
        {
          "output_type": "execute_result",
          "data": {
            "text/plain": [
              "['Dell Latitude 7390 2-in-1 Review',\n",
              " 'Dell XPS 13 (9370) Review',\n",
              " 'Dell Inspiron 13 7000 2-in-1 (7373) Review',\n",
              " 'Dell Inspiron 13 5000 2-in-1 (5379) Review',\n",
              " ' Dell Latitude 7212 Rugged Extreme Tablet Review',\n",
              " 'Dell Latitude 7389 2-In-1 Review',\n",
              " 'Dell Latitude 7380 Review',\n",
              " 'Dell XPS 13 (9360) Review',\n",
              " 'Dell Latitude 5580 Review',\n",
              " 'Dell Precision 3520 Review',\n",
              " 'Dell Latitude 3189 2-in-1 Review',\n",
              " 'Dell Inspiron 13 7000 (7378) Review',\n",
              " 'Dell Inspiron 11 3000 Series 2-in-1 (3179) Review',\n",
              " 'Dell Latitude 5289 2-in-1 Review',\n",
              " 'Dell Latitude 7280 Review',\n",
              " 'Dell Latitude 5285 2-in-1 Review',\n",
              " 'Dell Latitude 14 5000 (5480) Review',\n",
              " 'Dell Latitude 14 7000 (7480) Review',\n",
              " 'Dell Chromebook 3189 Education 2-in-1 Review',\n",
              " 'Dell XPS 15 Touch (2017) Review',\n",
              " 'Dell Inspiron 14 (7437) Review',\n",
              " 'Dell Latitude 7400 Review',\n",
              " 'Dell Inspiron Chromebook 14 2-in-1 (7486) Review',\n",
              " 'Dell Chromebook 11 Touch Review',\n",
              " 'HP EliteBook 850 G1  Review',\n",
              " 'Alienware 17 (2014) Review',\n",
              " 'Dell Precision M3800 Review',\n",
              " 'Dell XPS 13 Touch (9333) Review',\n",
              " 'Toshiba Portege R30-A1302 Review',\n",
              " 'Toshiba Tecra Z50-A1503 Review',\n",
              " 'HP Elitebook Folio 1040 G1 Review',\n",
              " 'Sony VAIO Flip 11 Review',\n",
              " 'Dell Chromebook 11 Review',\n",
              " 'Dell Latitude E7440 Touch Review',\n",
              " 'Acer Aspire E1-572-6870  Review',\n",
              " 'Dell XPS 11 Review',\n",
              " 'Dell Latitude E5430 Review',\n",
              " 'Dell Latitude E7240 Touch Review',\n",
              " 'Dell XPS 15 (9530) Review',\n",
              " 'Lenovo IdeaPad Yoga 2 Pro Review',\n",
              " 'Dell Venue 8 Pro Review',\n",
              " 'Asus Transformer Book T100TA (64GB) Review',\n",
              " 'Lenovo IdeaPad Flex 14 Review',\n",
              " 'Dell Latitude 5300 2-in-1 Chromebook Enterprise Review',\n",
              " 'Dell XPS 13 (7390) Review',\n",
              " 'Dell Latitude 5300 2-in-1 Review',\n",
              " 'Dell XPS 13 2-in-1 (7390) Review',\n",
              " 'Dell Inspiron 11 3000 2-in-1 (2019) Review',\n",
              " 'Dell XPS 15 (7590, OLED) Review',\n",
              " 'Dell Latitude 7300 Review',\n",
              " 'Dell Latitude 7200 2-in-1 Review',\n",
              " 'Dell Inspiron 15 7000 2-in-1 Black Edition (7590) Review',\n",
              " 'Dell Precision 3540 Review',\n",
              " 'Dell Inspiron 13 7000 2-in-1 Black Edition (7390) Review',\n",
              " 'Dell G7 15 (2019) Review',\n",
              " 'Dell G5 15 SE (2019) Review',\n",
              " 'Dell Latitude 7400 2-in-1 Review',\n",
              " 'Alienware Area-51m Review',\n",
              " 'Dell Latitude 5424 Rugged Review',\n",
              " 'Dell Latitude 7424 Rugged Extreme Review',\n",
              " 'Dell Inspiron 14 5000 2-in-1 (5482) Review',\n",
              " 'Dell Inspiron 17 7000 2-in-1 (7786) Review',\n",
              " 'Dell XPS 13 (9380) Review',\n",
              " 'Dell Inspiron 13 7000 2-in-1 (7386) Review',\n",
              " 'Dell Inspiron 15 7000 2-in-1 (7586) Review',\n",
              " 'Alienware m15 Review',\n",
              " 'Dell Precision 5530 2-in-1 Review',\n",
              " 'Dell Precision 3530 Review',\n",
              " 'Dell Precision 7730 Review',\n",
              " 'Avita Clarus Review',\n",
              " 'Dell XPS 15 (9570) Review',\n",
              " 'Dell Precision 5530 Review',\n",
              " 'Dell G3 15 Review',\n",
              " 'Dell Latitude 5591 Review',\n",
              " 'Dell G7 15 Review',\n",
              " 'Dell Latitude 7390 Review',\n",
              " 'Dell Latitude 5490 Review',\n",
              " 'Dell Latitude 3490 Review',\n",
              " 'Dell Latitude 3390 Review',\n",
              " 'Dell XPS 15 2-in-1 (9575) Review',\n",
              " 'Dell Latitude 5290 2-in-1 Review',\n",
              " 'Alienware Graphics Amplifier Review',\n",
              " 'Alienware 15 Review',\n",
              " 'Dell XPS 15 Touch (9530)  Review',\n",
              " 'Dell Latitude 14 5000 Series (E5450) Review',\n",
              " 'Dell Precision M3800 (2015) Review',\n",
              " 'Dell Latitude 12 7000 Series (E7250) Review',\n",
              " 'Dell Latitude 14 7000 Series (E7450) Review',\n",
              " 'Dell Chromebook 11 (Intel Core i3) Review',\n",
              " 'Dell Inspiron 14 (5447) Review',\n",
              " 'Dell XPS 13 Touch (2015) Review',\n",
              " 'Dell Inspiron 13 7000 Series 2-in-1 Review',\n",
              " 'Dell Inspiron 17 5000 Series Non-Touch Review',\n",
              " 'Dell Inspiron 15 Non-Touch (3531) Review',\n",
              " 'Dell Latitude 12 Rugged Extreme Review',\n",
              " 'Dell Latitude 14 Rugged Extreme Review',\n",
              " 'Dell Inspiron 11 3000 Series 2-in-1 (3147) Review',\n",
              " 'Dell Precision M2800 Review',\n",
              " 'Dell Latitude 13 Education Series (3340) Review',\n",
              " 'Dell Inspiron 15 (7537) Review',\n",
              " 'Dell Inspiron 15 3000 (3505) Review',\n",
              " 'Dell Inspiron 15 7000 Gaming (7567) Review',\n",
              " 'Dell Inspiron 15 7000 2-in-1 (7506) Review',\n",
              " 'Dell Inspiron 17 3000 (3793) Review',\n",
              " 'Dell Inspiron 15 7000 2-in-1 Black Edition (7506) Review',\n",
              " 'Dell Precision 7550 Review',\n",
              " 'Dell Precision 3551 Review',\n",
              " 'Dell XPS 13 2-in-1 (9310) Review',\n",
              " 'Dell XPS 13 (9310) Review',\n",
              " 'Dell Latitude 9410 2-in-1 Review',\n",
              " 'Dell Latitude 7410 Review',\n",
              " 'Dell XPS 17 (9700) Review',\n",
              " 'Dell Latitude 9510 (2-in-1) Review',\n",
              " 'Dell XPS 15 (9500) Review',\n",
              " 'Dell G5 15 SE (2020) Review',\n",
              " 'Dell XPS 13 (9300) Review',\n",
              " 'Dell Precision 7540 Review',\n",
              " 'Dell Inspiron 13 5000 (5391) Review',\n",
              " 'Dell Latitude 7220 Rugged Extreme Tablet Review',\n",
              " 'Dell Inspiron 14 7000 (7490) Review',\n",
              " 'Dell Inspiron 14 5000 (5493) Review',\n",
              " 'Dell XPS 13 2-in-1 (9365) Review',\n",
              " 'Dell XPS 13 Touch (2016 Rose Gold Edition) Review',\n",
              " 'Dell Latitude 13 3000 Series 2-in-1 (3379) Review',\n",
              " 'Dell Inspiron 13 5000 Series 2-in-1 (5368) Review',\n",
              " 'Dell Inspiron 17 7000 Series (7778) Review',\n",
              " 'Dell Inspiron 15 3000 Series (3558) Review',\n",
              " 'Dell Inspiron 11 3000 Series (3162) Review',\n",
              " 'Dell Latitude 13 7000 (7370) Review',\n",
              " 'Dell XPS 13 Touch (2016 Gold Edition) Review',\n",
              " 'Dell XPS 15 Touch (9550) Review',\n",
              " 'Dell Precision 15 5000 Series (5510) Review',\n",
              " 'Dell Inspiron 11 3000 Series 2-in-1 Special Edition (3153) Review',\n",
              " 'Dell Chromebook 13 (7310) Review',\n",
              " 'Dell XPS 13 Touch (2016) Review',\n",
              " 'Dell Inspiron 15 7000 Series (7559) Review',\n",
              " 'Dell Venue 8 Pro 3000 Series Review',\n",
              " 'Dell Chromebook 11 Non-Touch Review',\n",
              " 'Dell Venue 10 Pro Tablet 5000 Series Review',\n",
              " 'Dell Inspiron 13 7000 Series 2-in-1 Special Edition (7352) Review',\n",
              " 'Dell Precision M4700 Review',\n",
              " 'Dell XPS 12 (2012) Review',\n",
              " 'Dell Inspiron 15R Special Edition (7520) Review',\n",
              " 'Dell Inspiron 17R Special Edition (7720) Review',\n",
              " 'Dell XPS 15 (Summer 2012) Review',\n",
              " 'Dell Vostro V130 Review',\n",
              " 'Dell XPS 15 Review',\n",
              " 'Dell Inspiron 14R-5437 Review',\n",
              " 'Gigabyte U2442T-CF1 Review',\n",
              " 'Asus VivoBook V500CA-DB71T Review',\n",
              " 'Lenovo ThinkPad Edge E431 Review',\n",
              " 'Dell XPS 12 Review',\n",
              " 'Sony VAIO Pro 13  Review',\n",
              " 'Dell Latitude E6540 Review',\n",
              " 'Dell Inspiron 15 (I15RV-6190 BLK) Review',\n",
              " 'Dell Latitude 6430u (HD+) Review',\n",
              " 'Lenovo ThinkPad T431s Review',\n",
              " 'Lenovo IdeaPad Yoga 11S Review',\n",
              " 'Lenovo ThinkPad X1 Carbon Touch  Review',\n",
              " 'Dell Inspiron 15z (I15Z-4801SLV) Review',\n",
              " 'Lenovo IdeaPad Yoga 11 Review',\n",
              " 'Dell Inspiron 17-3721  Review',\n",
              " 'Dell XPS 13-MLK  Review',\n",
              " 'HP Pavilion Sleekbook 15z-b000 Review',\n",
              " 'HP Spectre XT TouchSmart Ultrabook 15-4010nr Review',\n",
              " 'Dell Latitude 6430u Review',\n",
              " 'Dell Inspiron 15z-5523 Review']"
            ]
          },
          "metadata": {
            "tags": []
          },
          "execution_count": 58
        }
      ]
    },
    {
      "cell_type": "code",
      "metadata": {
        "colab": {
          "base_uri": "https://localhost:8080/"
        },
        "id": "BgD5oX_Nj6Bh",
        "outputId": "3b0c4246-9324-4e3a-9644-43b405485b3f"
      },
      "source": [
        "print(len(items(dell_dataset)))  "
      ],
      "execution_count": null,
      "outputs": [
        {
          "output_type": "stream",
          "text": [
            "167\n"
          ],
          "name": "stdout"
        }
      ]
    },
    {
      "cell_type": "code",
      "metadata": {
        "id": "-bO29NyLj8zo"
      },
      "source": [
        "'''\n",
        "observation:\n",
        "1. none of the reviews is repeating\n",
        "2. some items do not belong to Dell (e.g. HP, Asus, Lenovo)\n",
        "3. item names come with an unnecessary word 'Review'\n",
        "'''"
      ],
      "execution_count": null,
      "outputs": []
    },
    {
      "cell_type": "code",
      "metadata": {
        "id": "8N3bARMOkb_G"
      },
      "source": [
        "# write a function to remove 'non-dell items'\n",
        "# Dell item consists of either Dell or Alienware in its name\n",
        "def remove_outsider(lst):\n",
        "  clean = []\n",
        "  for i in lst:\n",
        "    if i.find('Dell') == -1 and i.find('Alienware') == -1:\n",
        "      continue\n",
        "    clean.append(i)\n",
        "  return clean"
      ],
      "execution_count": null,
      "outputs": []
    },
    {
      "cell_type": "code",
      "metadata": {
        "id": "CVkqK594kdos"
      },
      "source": [
        "clean_lst = remove_outsider(items(dell_dataset))"
      ],
      "execution_count": null,
      "outputs": []
    },
    {
      "cell_type": "code",
      "metadata": {
        "colab": {
          "base_uri": "https://localhost:8080/"
        },
        "id": "YJsmv4wekfPG",
        "outputId": "9dc2dbbc-db9e-4c96-9386-cf14ffef28a0"
      },
      "source": [
        "print(len(clean_lst)) # 20 items are removed from the list"
      ],
      "execution_count": null,
      "outputs": [
        {
          "output_type": "stream",
          "text": [
            "147\n"
          ],
          "name": "stdout"
        }
      ]
    },
    {
      "cell_type": "code",
      "metadata": {
        "id": "SYcpS2vDkiEs"
      },
      "source": [
        "# write a function to remove 'Review'\n",
        "def remove_word(lst):\n",
        "  removal = []\n",
        "  for i in lst:\n",
        "    removal.append(i.replace('Review',''))\n",
        "  return removal"
      ],
      "execution_count": null,
      "outputs": []
    },
    {
      "cell_type": "code",
      "metadata": {
        "colab": {
          "base_uri": "https://localhost:8080/"
        },
        "id": "QaeelttNkkQ1",
        "outputId": "43258c1b-750c-454c-845d-e1b5125f168f"
      },
      "source": [
        "clean_lst = remove_word(clean_lst)\n",
        "print(len(clean_lst))\n",
        "print(clean_lst)"
      ],
      "execution_count": null,
      "outputs": [
        {
          "output_type": "stream",
          "text": [
            "147\n",
            "['Dell Latitude 7390 2-in-1 ', 'Dell XPS 13 (9370) ', 'Dell Inspiron 13 7000 2-in-1 (7373) ', 'Dell Inspiron 13 5000 2-in-1 (5379) ', ' Dell Latitude 7212 Rugged Extreme Tablet ', 'Dell Latitude 7389 2-In-1 ', 'Dell Latitude 7380 ', 'Dell XPS 13 (9360) ', 'Dell Latitude 5580 ', 'Dell Precision 3520 ', 'Dell Latitude 3189 2-in-1 ', 'Dell Inspiron 13 7000 (7378) ', 'Dell Inspiron 11 3000 Series 2-in-1 (3179) ', 'Dell Latitude 5289 2-in-1 ', 'Dell Latitude 7280 ', 'Dell Latitude 5285 2-in-1 ', 'Dell Latitude 14 5000 (5480) ', 'Dell Latitude 14 7000 (7480) ', 'Dell Chromebook 3189 Education 2-in-1 ', 'Dell XPS 15 Touch (2017) ', 'Dell Inspiron 14 (7437) ', 'Dell Latitude 7400 ', 'Dell Inspiron Chromebook 14 2-in-1 (7486) ', 'Dell Chromebook 11 Touch ', 'Alienware 17 (2014) ', 'Dell Precision M3800 ', 'Dell XPS 13 Touch (9333) ', 'Dell Chromebook 11 ', 'Dell Latitude E7440 Touch ', 'Dell XPS 11 ', 'Dell Latitude E5430 ', 'Dell Latitude E7240 Touch ', 'Dell XPS 15 (9530) ', 'Dell Venue 8 Pro ', 'Dell Latitude 5300 2-in-1 Chromebook Enterprise ', 'Dell XPS 13 (7390) ', 'Dell Latitude 5300 2-in-1 ', 'Dell XPS 13 2-in-1 (7390) ', 'Dell Inspiron 11 3000 2-in-1 (2019) ', 'Dell XPS 15 (7590, OLED) ', 'Dell Latitude 7300 ', 'Dell Latitude 7200 2-in-1 ', 'Dell Inspiron 15 7000 2-in-1 Black Edition (7590) ', 'Dell Precision 3540 ', 'Dell Inspiron 13 7000 2-in-1 Black Edition (7390) ', 'Dell G7 15 (2019) ', 'Dell G5 15 SE (2019) ', 'Dell Latitude 7400 2-in-1 ', 'Alienware Area-51m ', 'Dell Latitude 5424 Rugged ', 'Dell Latitude 7424 Rugged Extreme ', 'Dell Inspiron 14 5000 2-in-1 (5482) ', 'Dell Inspiron 17 7000 2-in-1 (7786) ', 'Dell XPS 13 (9380) ', 'Dell Inspiron 13 7000 2-in-1 (7386) ', 'Dell Inspiron 15 7000 2-in-1 (7586) ', 'Alienware m15 ', 'Dell Precision 5530 2-in-1 ', 'Dell Precision 3530 ', 'Dell Precision 7730 ', 'Dell XPS 15 (9570) ', 'Dell Precision 5530 ', 'Dell G3 15 ', 'Dell Latitude 5591 ', 'Dell G7 15 ', 'Dell Latitude 7390 ', 'Dell Latitude 5490 ', 'Dell Latitude 3490 ', 'Dell Latitude 3390 ', 'Dell XPS 15 2-in-1 (9575) ', 'Dell Latitude 5290 2-in-1 ', 'Alienware Graphics Amplifier ', 'Alienware 15 ', 'Dell XPS 15 Touch (9530)  ', 'Dell Latitude 14 5000 Series (E5450) ', 'Dell Precision M3800 (2015) ', 'Dell Latitude 12 7000 Series (E7250) ', 'Dell Latitude 14 7000 Series (E7450) ', 'Dell Chromebook 11 (Intel Core i3) ', 'Dell Inspiron 14 (5447) ', 'Dell XPS 13 Touch (2015) ', 'Dell Inspiron 13 7000 Series 2-in-1 ', 'Dell Inspiron 17 5000 Series Non-Touch ', 'Dell Inspiron 15 Non-Touch (3531) ', 'Dell Latitude 12 Rugged Extreme ', 'Dell Latitude 14 Rugged Extreme ', 'Dell Inspiron 11 3000 Series 2-in-1 (3147) ', 'Dell Precision M2800 ', 'Dell Latitude 13 Education Series (3340) ', 'Dell Inspiron 15 (7537) ', 'Dell Inspiron 15 3000 (3505) ', 'Dell Inspiron 15 7000 Gaming (7567) ', 'Dell Inspiron 15 7000 2-in-1 (7506) ', 'Dell Inspiron 17 3000 (3793) ', 'Dell Inspiron 15 7000 2-in-1 Black Edition (7506) ', 'Dell Precision 7550 ', 'Dell Precision 3551 ', 'Dell XPS 13 2-in-1 (9310) ', 'Dell XPS 13 (9310) ', 'Dell Latitude 9410 2-in-1 ', 'Dell Latitude 7410 ', 'Dell XPS 17 (9700) ', 'Dell Latitude 9510 (2-in-1) ', 'Dell XPS 15 (9500) ', 'Dell G5 15 SE (2020) ', 'Dell XPS 13 (9300) ', 'Dell Precision 7540 ', 'Dell Inspiron 13 5000 (5391) ', 'Dell Latitude 7220 Rugged Extreme Tablet ', 'Dell Inspiron 14 7000 (7490) ', 'Dell Inspiron 14 5000 (5493) ', 'Dell XPS 13 2-in-1 (9365) ', 'Dell XPS 13 Touch (2016 Rose Gold Edition) ', 'Dell Latitude 13 3000 Series 2-in-1 (3379) ', 'Dell Inspiron 13 5000 Series 2-in-1 (5368) ', 'Dell Inspiron 17 7000 Series (7778) ', 'Dell Inspiron 15 3000 Series (3558) ', 'Dell Inspiron 11 3000 Series (3162) ', 'Dell Latitude 13 7000 (7370) ', 'Dell XPS 13 Touch (2016 Gold Edition) ', 'Dell XPS 15 Touch (9550) ', 'Dell Precision 15 5000 Series (5510) ', 'Dell Inspiron 11 3000 Series 2-in-1 Special Edition (3153) ', 'Dell Chromebook 13 (7310) ', 'Dell XPS 13 Touch (2016) ', 'Dell Inspiron 15 7000 Series (7559) ', 'Dell Venue 8 Pro 3000 Series ', 'Dell Chromebook 11 Non-Touch ', 'Dell Venue 10 Pro Tablet 5000 Series ', 'Dell Inspiron 13 7000 Series 2-in-1 Special Edition (7352) ', 'Dell Precision M4700 ', 'Dell XPS 12 (2012) ', 'Dell Inspiron 15R Special Edition (7520) ', 'Dell Inspiron 17R Special Edition (7720) ', 'Dell XPS 15 (Summer 2012) ', 'Dell Vostro V130 ', 'Dell XPS 15 ', 'Dell Inspiron 14R-5437 ', 'Dell XPS 12 ', 'Dell Latitude E6540 ', 'Dell Inspiron 15 (I15RV-6190 BLK) ', 'Dell Latitude 6430u (HD+) ', 'Dell Inspiron 15z (I15Z-4801SLV) ', 'Dell Inspiron 17-3721  ', 'Dell XPS 13-MLK  ', 'Dell Latitude 6430u ', 'Dell Inspiron 15z-5523 ']\n"
          ],
          "name": "stdout"
        }
      ]
    },
    {
      "cell_type": "code",
      "metadata": {
        "id": "2o0PaYV1ksam"
      },
      "source": [
        "# all the exploratories are done on lists\n",
        "# update the pandas dataframe now"
      ],
      "execution_count": null,
      "outputs": []
    },
    {
      "cell_type": "code",
      "metadata": {
        "colab": {
          "base_uri": "https://localhost:8080/",
          "height": 363
        },
        "id": "cOELbQ_LkvHr",
        "outputId": "e934a201-a1ba-4cd5-efe2-646e5f088e95"
      },
      "source": [
        "dell_dataset.head(10)#look at it one last time before we say goodbye"
      ],
      "execution_count": null,
      "outputs": [
        {
          "output_type": "execute_result",
          "data": {
            "text/html": [
              "<div>\n",
              "<style scoped>\n",
              "    .dataframe tbody tr th:only-of-type {\n",
              "        vertical-align: middle;\n",
              "    }\n",
              "\n",
              "    .dataframe tbody tr th {\n",
              "        vertical-align: top;\n",
              "    }\n",
              "\n",
              "    .dataframe thead th {\n",
              "        text-align: right;\n",
              "    }\n",
              "</style>\n",
              "<table border=\"1\" class=\"dataframe\">\n",
              "  <thead>\n",
              "    <tr style=\"text-align: right;\">\n",
              "      <th></th>\n",
              "      <th>item_name</th>\n",
              "      <th>score</th>\n",
              "      <th>review</th>\n",
              "    </tr>\n",
              "  </thead>\n",
              "  <tbody>\n",
              "    <tr>\n",
              "      <th>0</th>\n",
              "      <td>Dell Latitude 7390 2-in-1 Review</td>\n",
              "      <td>4.0</td>\n",
              "      <td>The Dell Latitude 7390's eighth-generation Int...</td>\n",
              "    </tr>\n",
              "    <tr>\n",
              "      <th>1</th>\n",
              "      <td>Dell XPS 13 (9370) Review</td>\n",
              "      <td>4.5</td>\n",
              "      <td>A new rose gold and white color scheme—well wo...</td>\n",
              "    </tr>\n",
              "    <tr>\n",
              "      <th>2</th>\n",
              "      <td>Dell Inspiron 13 7000 2-in-1 (7373) Review</td>\n",
              "      <td>2.5</td>\n",
              "      <td>Convertible laptops are about the freedom to w...</td>\n",
              "    </tr>\n",
              "    <tr>\n",
              "      <th>3</th>\n",
              "      <td>Dell Inspiron 13 5000 2-in-1 (5379) Review</td>\n",
              "      <td>2.5</td>\n",
              "      <td>Unless you need to wring as much computing pow...</td>\n",
              "    </tr>\n",
              "    <tr>\n",
              "      <th>4</th>\n",
              "      <td>Dell Latitude 7212 Rugged Extreme Tablet Review</td>\n",
              "      <td>4.0</td>\n",
              "      <td>The Dell Latitude 7212 is a well-designed, tou...</td>\n",
              "    </tr>\n",
              "    <tr>\n",
              "      <th>5</th>\n",
              "      <td>Dell Latitude 7389 2-In-1 Review</td>\n",
              "      <td>3.5</td>\n",
              "      <td>The Dell Latitude 7389 is a business-oriented ...</td>\n",
              "    </tr>\n",
              "    <tr>\n",
              "      <th>6</th>\n",
              "      <td>Dell Latitude 7380 Review</td>\n",
              "      <td>4.0</td>\n",
              "      <td>If you're shopping for a business laptop and p...</td>\n",
              "    </tr>\n",
              "    <tr>\n",
              "      <th>7</th>\n",
              "      <td>Dell XPS 13 (9360) Review</td>\n",
              "      <td>4.5</td>\n",
              "      <td>The XPS 13, Dell's venerable ultraportable wit...</td>\n",
              "    </tr>\n",
              "    <tr>\n",
              "      <th>8</th>\n",
              "      <td>Dell Latitude 5580 Review</td>\n",
              "      <td>4.0</td>\n",
              "      <td>What's big and beefy, but weighs only 4.2 poun...</td>\n",
              "    </tr>\n",
              "    <tr>\n",
              "      <th>9</th>\n",
              "      <td>Dell Precision 3520 Review</td>\n",
              "      <td>4.0</td>\n",
              "      <td>Despite its bland looks, the Dell Precision 35...</td>\n",
              "    </tr>\n",
              "  </tbody>\n",
              "</table>\n",
              "</div>"
            ],
            "text/plain": [
              "                                          item_name  ...                                             review\n",
              "0                  Dell Latitude 7390 2-in-1 Review  ...  The Dell Latitude 7390's eighth-generation Int...\n",
              "1                         Dell XPS 13 (9370) Review  ...  A new rose gold and white color scheme—well wo...\n",
              "2        Dell Inspiron 13 7000 2-in-1 (7373) Review  ...  Convertible laptops are about the freedom to w...\n",
              "3        Dell Inspiron 13 5000 2-in-1 (5379) Review  ...  Unless you need to wring as much computing pow...\n",
              "4   Dell Latitude 7212 Rugged Extreme Tablet Review  ...  The Dell Latitude 7212 is a well-designed, tou...\n",
              "5                  Dell Latitude 7389 2-In-1 Review  ...  The Dell Latitude 7389 is a business-oriented ...\n",
              "6                         Dell Latitude 7380 Review  ...  If you're shopping for a business laptop and p...\n",
              "7                         Dell XPS 13 (9360) Review  ...  The XPS 13, Dell's venerable ultraportable wit...\n",
              "8                         Dell Latitude 5580 Review  ...  What's big and beefy, but weighs only 4.2 poun...\n",
              "9                        Dell Precision 3520 Review  ...  Despite its bland looks, the Dell Precision 35...\n",
              "\n",
              "[10 rows x 3 columns]"
            ]
          },
          "metadata": {
            "tags": []
          },
          "execution_count": 65
        }
      ]
    },
    {
      "cell_type": "code",
      "metadata": {
        "colab": {
          "base_uri": "https://localhost:8080/",
          "height": 363
        },
        "id": "2rV6z9gzkxYl",
        "outputId": "23667307-9e2e-4e31-bde1-2072eaf8208a"
      },
      "source": [
        "dell_dataset.tail(10)"
      ],
      "execution_count": null,
      "outputs": [
        {
          "output_type": "execute_result",
          "data": {
            "text/html": [
              "<div>\n",
              "<style scoped>\n",
              "    .dataframe tbody tr th:only-of-type {\n",
              "        vertical-align: middle;\n",
              "    }\n",
              "\n",
              "    .dataframe tbody tr th {\n",
              "        vertical-align: top;\n",
              "    }\n",
              "\n",
              "    .dataframe thead th {\n",
              "        text-align: right;\n",
              "    }\n",
              "</style>\n",
              "<table border=\"1\" class=\"dataframe\">\n",
              "  <thead>\n",
              "    <tr style=\"text-align: right;\">\n",
              "      <th></th>\n",
              "      <th>item_name</th>\n",
              "      <th>score</th>\n",
              "      <th>review</th>\n",
              "    </tr>\n",
              "  </thead>\n",
              "  <tbody>\n",
              "    <tr>\n",
              "      <th>157</th>\n",
              "      <td>Lenovo IdeaPad Yoga 11S Review</td>\n",
              "      <td>3.0</td>\n",
              "      <td>The Lenovo IdeaPad Yoga 11S is a versatile tou...</td>\n",
              "    </tr>\n",
              "    <tr>\n",
              "      <th>158</th>\n",
              "      <td>Lenovo ThinkPad X1 Carbon Touch  Review</td>\n",
              "      <td>4.0</td>\n",
              "      <td>The Lenovo ThinkPad X Carbon Touch is the ultr...</td>\n",
              "    </tr>\n",
              "    <tr>\n",
              "      <th>159</th>\n",
              "      <td>Dell Inspiron 15z (I15Z-4801SLV) Review</td>\n",
              "      <td>4.0</td>\n",
              "      <td>Tipping the scales at the thick and heavy end ...</td>\n",
              "    </tr>\n",
              "    <tr>\n",
              "      <th>160</th>\n",
              "      <td>Lenovo IdeaPad Yoga 11 Review</td>\n",
              "      <td>3.5</td>\n",
              "      <td>The Lenovo IdeaPad Yoga 11 is a good Windows R...</td>\n",
              "    </tr>\n",
              "    <tr>\n",
              "      <th>161</th>\n",
              "      <td>Dell Inspiron 17-3721  Review</td>\n",
              "      <td>4.0</td>\n",
              "      <td>A large screen, good performance, nice price, ...</td>\n",
              "    </tr>\n",
              "    <tr>\n",
              "      <th>162</th>\n",
              "      <td>Dell XPS 13-MLK  Review</td>\n",
              "      <td>4.0</td>\n",
              "      <td>The new Dell XPS 13-MLK ultrabook is made for ...</td>\n",
              "    </tr>\n",
              "    <tr>\n",
              "      <th>163</th>\n",
              "      <td>HP Pavilion Sleekbook 15z-b000 Review</td>\n",
              "      <td>3.5</td>\n",
              "      <td>The HP Pavilion Sleekbook 15z-b000 is a decent...</td>\n",
              "    </tr>\n",
              "    <tr>\n",
              "      <th>164</th>\n",
              "      <td>HP Spectre XT TouchSmart Ultrabook 15-4010nr R...</td>\n",
              "      <td>4.0</td>\n",
              "      <td>If you share your household with Mac users, th...</td>\n",
              "    </tr>\n",
              "    <tr>\n",
              "      <th>165</th>\n",
              "      <td>Dell Latitude 6430u Review</td>\n",
              "      <td>4.0</td>\n",
              "      <td>With its slick design, excellent keyboard, and...</td>\n",
              "    </tr>\n",
              "    <tr>\n",
              "      <th>166</th>\n",
              "      <td>Dell Inspiron 15z-5523 Review</td>\n",
              "      <td>4.0</td>\n",
              "      <td>The Dell Inspiron 15z-5523 gives plenty of ban...</td>\n",
              "    </tr>\n",
              "  </tbody>\n",
              "</table>\n",
              "</div>"
            ],
            "text/plain": [
              "                                             item_name  ...                                             review\n",
              "157                     Lenovo IdeaPad Yoga 11S Review  ...  The Lenovo IdeaPad Yoga 11S is a versatile tou...\n",
              "158            Lenovo ThinkPad X1 Carbon Touch  Review  ...  The Lenovo ThinkPad X Carbon Touch is the ultr...\n",
              "159            Dell Inspiron 15z (I15Z-4801SLV) Review  ...  Tipping the scales at the thick and heavy end ...\n",
              "160                      Lenovo IdeaPad Yoga 11 Review  ...  The Lenovo IdeaPad Yoga 11 is a good Windows R...\n",
              "161                      Dell Inspiron 17-3721  Review  ...  A large screen, good performance, nice price, ...\n",
              "162                            Dell XPS 13-MLK  Review  ...  The new Dell XPS 13-MLK ultrabook is made for ...\n",
              "163              HP Pavilion Sleekbook 15z-b000 Review  ...  The HP Pavilion Sleekbook 15z-b000 is a decent...\n",
              "164  HP Spectre XT TouchSmart Ultrabook 15-4010nr R...  ...  If you share your household with Mac users, th...\n",
              "165                         Dell Latitude 6430u Review  ...  With its slick design, excellent keyboard, and...\n",
              "166                      Dell Inspiron 15z-5523 Review  ...  The Dell Inspiron 15z-5523 gives plenty of ban...\n",
              "\n",
              "[10 rows x 3 columns]"
            ]
          },
          "metadata": {
            "tags": []
          },
          "execution_count": 66
        }
      ]
    },
    {
      "cell_type": "code",
      "metadata": {
        "id": "fPgAmhDekynV"
      },
      "source": [
        "# write a function to combine both remove_outsider and remove_word \n",
        "# apply on pandas dataframe instead of list\n",
        "def update_dell(df):\n",
        "  def remove_word():\n",
        "    for i in range(len(df)):\n",
        "      df.loc[i, 'item_name'] = df.loc[i, 'item_name'].replace('Review','')\n",
        "\n",
        "  remove_word()\n",
        "  def remove_outsider():\n",
        "    outsider_indices = []\n",
        "    for i in range(len(df)):\n",
        "      if df.loc[i, 'item_name'].find('Dell') == -1 and df.loc[i, 'item_name'].find('Alienware') == -1:\n",
        "        outsider_indices.append(i)\n",
        "    df.drop(outsider_indices,inplace=True)\n",
        "    df.reset_index(inplace=True,drop = True)\n",
        "  remove_outsider()"
      ],
      "execution_count": null,
      "outputs": []
    },
    {
      "cell_type": "code",
      "metadata": {
        "id": "2PMMbrNJk4xZ"
      },
      "source": [
        "update_dell(dell_dataset)"
      ],
      "execution_count": null,
      "outputs": []
    },
    {
      "cell_type": "code",
      "metadata": {
        "colab": {
          "base_uri": "https://localhost:8080/",
          "height": 363
        },
        "id": "0Z7rntTkk6oF",
        "outputId": "fbcb2053-f9a4-42dd-a22f-d6e7906ce9b7"
      },
      "source": [
        "dell_dataset.tail(10) #compare it with the one displayed previously"
      ],
      "execution_count": null,
      "outputs": [
        {
          "output_type": "execute_result",
          "data": {
            "text/html": [
              "<div>\n",
              "<style scoped>\n",
              "    .dataframe tbody tr th:only-of-type {\n",
              "        vertical-align: middle;\n",
              "    }\n",
              "\n",
              "    .dataframe tbody tr th {\n",
              "        vertical-align: top;\n",
              "    }\n",
              "\n",
              "    .dataframe thead th {\n",
              "        text-align: right;\n",
              "    }\n",
              "</style>\n",
              "<table border=\"1\" class=\"dataframe\">\n",
              "  <thead>\n",
              "    <tr style=\"text-align: right;\">\n",
              "      <th></th>\n",
              "      <th>item_name</th>\n",
              "      <th>score</th>\n",
              "      <th>review</th>\n",
              "    </tr>\n",
              "  </thead>\n",
              "  <tbody>\n",
              "    <tr>\n",
              "      <th>137</th>\n",
              "      <td>Dell Inspiron 14R-5437</td>\n",
              "      <td>4.0</td>\n",
              "      <td>Ten hours of battery life in a well-equipped, ...</td>\n",
              "    </tr>\n",
              "    <tr>\n",
              "      <th>138</th>\n",
              "      <td>Dell XPS 12</td>\n",
              "      <td>4.0</td>\n",
              "      <td>If you can get over the Dell XPS 12's screen a...</td>\n",
              "    </tr>\n",
              "    <tr>\n",
              "      <th>139</th>\n",
              "      <td>Dell Latitude E6540</td>\n",
              "      <td>4.0</td>\n",
              "      <td>The Dell Latitude E6540 is a sturdy and versat...</td>\n",
              "    </tr>\n",
              "    <tr>\n",
              "      <th>140</th>\n",
              "      <td>Dell Inspiron 15 (I15RV-6190 BLK)</td>\n",
              "      <td>4.0</td>\n",
              "      <td>The Dell Inspiron 15 (I15RV-6190 BLK) is a rel...</td>\n",
              "    </tr>\n",
              "    <tr>\n",
              "      <th>141</th>\n",
              "      <td>Dell Latitude 6430u (HD+)</td>\n",
              "      <td>4.0</td>\n",
              "      <td>The Dell Latitude 6430u (HD+) adds a 1,600 by ...</td>\n",
              "    </tr>\n",
              "    <tr>\n",
              "      <th>142</th>\n",
              "      <td>Dell Inspiron 15z (I15Z-4801SLV)</td>\n",
              "      <td>4.0</td>\n",
              "      <td>Tipping the scales at the thick and heavy end ...</td>\n",
              "    </tr>\n",
              "    <tr>\n",
              "      <th>143</th>\n",
              "      <td>Dell Inspiron 17-3721</td>\n",
              "      <td>4.0</td>\n",
              "      <td>A large screen, good performance, nice price, ...</td>\n",
              "    </tr>\n",
              "    <tr>\n",
              "      <th>144</th>\n",
              "      <td>Dell XPS 13-MLK</td>\n",
              "      <td>4.0</td>\n",
              "      <td>The new Dell XPS 13-MLK ultrabook is made for ...</td>\n",
              "    </tr>\n",
              "    <tr>\n",
              "      <th>145</th>\n",
              "      <td>Dell Latitude 6430u</td>\n",
              "      <td>4.0</td>\n",
              "      <td>With its slick design, excellent keyboard, and...</td>\n",
              "    </tr>\n",
              "    <tr>\n",
              "      <th>146</th>\n",
              "      <td>Dell Inspiron 15z-5523</td>\n",
              "      <td>4.0</td>\n",
              "      <td>The Dell Inspiron 15z-5523 gives plenty of ban...</td>\n",
              "    </tr>\n",
              "  </tbody>\n",
              "</table>\n",
              "</div>"
            ],
            "text/plain": [
              "                              item_name  ...                                             review\n",
              "137             Dell Inspiron 14R-5437   ...  Ten hours of battery life in a well-equipped, ...\n",
              "138                        Dell XPS 12   ...  If you can get over the Dell XPS 12's screen a...\n",
              "139                Dell Latitude E6540   ...  The Dell Latitude E6540 is a sturdy and versat...\n",
              "140  Dell Inspiron 15 (I15RV-6190 BLK)   ...  The Dell Inspiron 15 (I15RV-6190 BLK) is a rel...\n",
              "141          Dell Latitude 6430u (HD+)   ...  The Dell Latitude 6430u (HD+) adds a 1,600 by ...\n",
              "142   Dell Inspiron 15z (I15Z-4801SLV)   ...  Tipping the scales at the thick and heavy end ...\n",
              "143             Dell Inspiron 17-3721    ...  A large screen, good performance, nice price, ...\n",
              "144                   Dell XPS 13-MLK    ...  The new Dell XPS 13-MLK ultrabook is made for ...\n",
              "145                Dell Latitude 6430u   ...  With its slick design, excellent keyboard, and...\n",
              "146             Dell Inspiron 15z-5523   ...  The Dell Inspiron 15z-5523 gives plenty of ban...\n",
              "\n",
              "[10 rows x 3 columns]"
            ]
          },
          "metadata": {
            "tags": []
          },
          "execution_count": 69
        }
      ]
    },
    {
      "cell_type": "code",
      "metadata": {
        "colab": {
          "base_uri": "https://localhost:8080/"
        },
        "id": "90kMLQFYk8BN",
        "outputId": "6c9f6e23-fe7b-4c05-be3d-6754d267d355"
      },
      "source": [
        "print(len(dell_dataset))"
      ],
      "execution_count": null,
      "outputs": [
        {
          "output_type": "stream",
          "text": [
            "147\n"
          ],
          "name": "stdout"
        }
      ]
    },
    {
      "cell_type": "markdown",
      "metadata": {
        "id": "7VPdA4I2lM0O"
      },
      "source": [
        "##Apple"
      ]
    },
    {
      "cell_type": "code",
      "metadata": {
        "colab": {
          "base_uri": "https://localhost:8080/"
        },
        "id": "XE-cKu9HlCXj",
        "outputId": "8e2ef77b-3a1a-433c-d583-bdb4791b9d95"
      },
      "source": [
        "print(len(items(apple_dataset)))  #all names are unique"
      ],
      "execution_count": null,
      "outputs": [
        {
          "output_type": "stream",
          "text": [
            "62\n"
          ],
          "name": "stdout"
        }
      ]
    },
    {
      "cell_type": "code",
      "metadata": {
        "id": "TRsXCc6Sl3Z-"
      },
      "source": [
        "# make this function not specifically for dell\n",
        "def update_df(df,keyword):\n",
        "  def remove_word():\n",
        "    for i in range(len(df)):\n",
        "      df.loc[i, 'item_name'] = df.loc[i, 'item_name'].replace('Review','')\n",
        "\n",
        "  remove_word()\n",
        "  def remove_outsider():\n",
        "    outsider_indices = []\n",
        "    for i in range(len(df)):\n",
        "      if df.loc[i, 'item_name'].find(keyword) == -1:\n",
        "        outsider_indices.append(i)\n",
        "    df.drop(outsider_indices,inplace=True)\n",
        "    df.reset_index(inplace=True,drop = True)\n",
        "  remove_outsider()"
      ],
      "execution_count": null,
      "outputs": []
    },
    {
      "cell_type": "code",
      "metadata": {
        "colab": {
          "base_uri": "https://localhost:8080/",
          "height": 363
        },
        "id": "IeUSCjPTlUJk",
        "outputId": "7623e63b-8cc3-4d6f-d4eb-46791114eb85"
      },
      "source": [
        "apple_dataset.head(10) "
      ],
      "execution_count": null,
      "outputs": [
        {
          "output_type": "execute_result",
          "data": {
            "text/html": [
              "<div>\n",
              "<style scoped>\n",
              "    .dataframe tbody tr th:only-of-type {\n",
              "        vertical-align: middle;\n",
              "    }\n",
              "\n",
              "    .dataframe tbody tr th {\n",
              "        vertical-align: top;\n",
              "    }\n",
              "\n",
              "    .dataframe thead th {\n",
              "        text-align: right;\n",
              "    }\n",
              "</style>\n",
              "<table border=\"1\" class=\"dataframe\">\n",
              "  <thead>\n",
              "    <tr style=\"text-align: right;\">\n",
              "      <th></th>\n",
              "      <th>item_name</th>\n",
              "      <th>score</th>\n",
              "      <th>review</th>\n",
              "    </tr>\n",
              "  </thead>\n",
              "  <tbody>\n",
              "    <tr>\n",
              "      <th>0</th>\n",
              "      <td>Apple MacBook Pro 13-inch (Retina Display) Review</td>\n",
              "      <td>4.5</td>\n",
              "      <td>The Apple MacBook Pro 13-inch (Retina Display)...</td>\n",
              "    </tr>\n",
              "    <tr>\n",
              "      <th>1</th>\n",
              "      <td>Dell XPS 15 Review</td>\n",
              "      <td>4.5</td>\n",
              "      <td>The Dell XPS 15 is unlike any other desktop re...</td>\n",
              "    </tr>\n",
              "    <tr>\n",
              "      <th>2</th>\n",
              "      <td>Dell Venue 8 Pro Review</td>\n",
              "      <td>4.0</td>\n",
              "      <td>The Dell Venue 8 Pro is a Windows 8.1 entry-le...</td>\n",
              "    </tr>\n",
              "    <tr>\n",
              "      <th>3</th>\n",
              "      <td>HP Envy TouchSmart 15t-j100 Quad Edition Review</td>\n",
              "      <td>3.5</td>\n",
              "      <td>The HP TouchSmart 15t-j100 Quad Edition gives ...</td>\n",
              "    </tr>\n",
              "    <tr>\n",
              "      <th>4</th>\n",
              "      <td>Apple MacBook Pro 13-inch (2013) Review</td>\n",
              "      <td>4.5</td>\n",
              "      <td>The Apple MacBook Pro 13-inch (2013) uses Inte...</td>\n",
              "    </tr>\n",
              "    <tr>\n",
              "      <th>5</th>\n",
              "      <td>Asus Zenbook VX51VZ-XB71 Review</td>\n",
              "      <td>3.0</td>\n",
              "      <td>The Asus Zenbook VX51VZ-XB71 is a power user s...</td>\n",
              "    </tr>\n",
              "    <tr>\n",
              "      <th>6</th>\n",
              "      <td>Asus Transformer Book T100TA (64GB) Review</td>\n",
              "      <td>4.5</td>\n",
              "      <td>For a sub-$400 price, the Asus Transformer Boo...</td>\n",
              "    </tr>\n",
              "    <tr>\n",
              "      <th>7</th>\n",
              "      <td>Apple MacBook Pro 15-inch (2013) Review</td>\n",
              "      <td>5.0</td>\n",
              "      <td>With an updated Intel processor and speedier F...</td>\n",
              "    </tr>\n",
              "    <tr>\n",
              "      <th>8</th>\n",
              "      <td>Sony VAIO Flip 15 (SVF15N190X) Review</td>\n",
              "      <td>3.5</td>\n",
              "      <td>The Sony VAIO Flip 15 supersizes the convertib...</td>\n",
              "    </tr>\n",
              "    <tr>\n",
              "      <th>9</th>\n",
              "      <td>Gigabyte U2442T-CF1 Review</td>\n",
              "      <td>4.0</td>\n",
              "      <td>The Gigabyte U2442T-CF1 has most of the featur...</td>\n",
              "    </tr>\n",
              "  </tbody>\n",
              "</table>\n",
              "</div>"
            ],
            "text/plain": [
              "                                           item_name  ...                                             review\n",
              "0  Apple MacBook Pro 13-inch (Retina Display) Review  ...  The Apple MacBook Pro 13-inch (Retina Display)...\n",
              "1                                 Dell XPS 15 Review  ...  The Dell XPS 15 is unlike any other desktop re...\n",
              "2                            Dell Venue 8 Pro Review  ...  The Dell Venue 8 Pro is a Windows 8.1 entry-le...\n",
              "3    HP Envy TouchSmart 15t-j100 Quad Edition Review  ...  The HP TouchSmart 15t-j100 Quad Edition gives ...\n",
              "4            Apple MacBook Pro 13-inch (2013) Review  ...  The Apple MacBook Pro 13-inch (2013) uses Inte...\n",
              "5                    Asus Zenbook VX51VZ-XB71 Review  ...  The Asus Zenbook VX51VZ-XB71 is a power user s...\n",
              "6         Asus Transformer Book T100TA (64GB) Review  ...  For a sub-$400 price, the Asus Transformer Boo...\n",
              "7            Apple MacBook Pro 15-inch (2013) Review  ...  With an updated Intel processor and speedier F...\n",
              "8              Sony VAIO Flip 15 (SVF15N190X) Review  ...  The Sony VAIO Flip 15 supersizes the convertib...\n",
              "9                         Gigabyte U2442T-CF1 Review  ...  The Gigabyte U2442T-CF1 has most of the featur...\n",
              "\n",
              "[10 rows x 3 columns]"
            ]
          },
          "metadata": {
            "tags": []
          },
          "execution_count": 71
        }
      ]
    },
    {
      "cell_type": "code",
      "metadata": {
        "id": "WMttrEYelvO1"
      },
      "source": [
        "update_df(apple_dataset,'Apple')"
      ],
      "execution_count": null,
      "outputs": []
    },
    {
      "cell_type": "code",
      "metadata": {
        "colab": {
          "base_uri": "https://localhost:8080/",
          "height": 363
        },
        "id": "hDOtNemSmlHG",
        "outputId": "f5cceb18-6911-454e-aa5d-1cb3ae28e616"
      },
      "source": [
        "apple_dataset.head(10) "
      ],
      "execution_count": null,
      "outputs": [
        {
          "output_type": "execute_result",
          "data": {
            "text/html": [
              "<div>\n",
              "<style scoped>\n",
              "    .dataframe tbody tr th:only-of-type {\n",
              "        vertical-align: middle;\n",
              "    }\n",
              "\n",
              "    .dataframe tbody tr th {\n",
              "        vertical-align: top;\n",
              "    }\n",
              "\n",
              "    .dataframe thead th {\n",
              "        text-align: right;\n",
              "    }\n",
              "</style>\n",
              "<table border=\"1\" class=\"dataframe\">\n",
              "  <thead>\n",
              "    <tr style=\"text-align: right;\">\n",
              "      <th></th>\n",
              "      <th>item_name</th>\n",
              "      <th>score</th>\n",
              "      <th>review</th>\n",
              "    </tr>\n",
              "  </thead>\n",
              "  <tbody>\n",
              "    <tr>\n",
              "      <th>0</th>\n",
              "      <td>Apple MacBook Pro 13-inch (Retina Display)</td>\n",
              "      <td>4.5</td>\n",
              "      <td>The Apple MacBook Pro 13-inch (Retina Display)...</td>\n",
              "    </tr>\n",
              "    <tr>\n",
              "      <th>1</th>\n",
              "      <td>Apple MacBook Pro 13-inch (2013)</td>\n",
              "      <td>4.5</td>\n",
              "      <td>The Apple MacBook Pro 13-inch (2013) uses Inte...</td>\n",
              "    </tr>\n",
              "    <tr>\n",
              "      <th>2</th>\n",
              "      <td>Apple MacBook Pro 15-inch (2013)</td>\n",
              "      <td>5.0</td>\n",
              "      <td>With an updated Intel processor and speedier F...</td>\n",
              "    </tr>\n",
              "    <tr>\n",
              "      <th>3</th>\n",
              "      <td>Apple MacBook Air 11-inch (Mid 2013)</td>\n",
              "      <td>4.0</td>\n",
              "      <td>The Apple MacBook Air 11-inch (Mid 2013) is th...</td>\n",
              "    </tr>\n",
              "    <tr>\n",
              "      <th>4</th>\n",
              "      <td>Apple MacBook Air 13-inch (Mid 2013)</td>\n",
              "      <td>4.5</td>\n",
              "      <td>Equipped with a fourth-generation Intel Core i...</td>\n",
              "    </tr>\n",
              "    <tr>\n",
              "      <th>5</th>\n",
              "      <td>Apple MacBook Pro 15-Inch With Retina Display ...</td>\n",
              "      <td>4.0</td>\n",
              "      <td>The latest Apple MacBook Pro 15-inch with Reti...</td>\n",
              "    </tr>\n",
              "    <tr>\n",
              "      <th>6</th>\n",
              "      <td>Apple MacBook Air 11-Inch (2015)</td>\n",
              "      <td>4.0</td>\n",
              "      <td>The latest MacBook Air 11-inch is Apple's smal...</td>\n",
              "    </tr>\n",
              "    <tr>\n",
              "      <th>7</th>\n",
              "      <td>Apple MacBook Air 13-Inch (2015)</td>\n",
              "      <td>4.0</td>\n",
              "      <td>The latest upgrade of the 13-inch Apple MacBoo...</td>\n",
              "    </tr>\n",
              "    <tr>\n",
              "      <th>8</th>\n",
              "      <td>Apple MacBook (2015)</td>\n",
              "      <td>4.0</td>\n",
              "      <td>The 12-inch Apple MacBook is the thinnest, lig...</td>\n",
              "    </tr>\n",
              "    <tr>\n",
              "      <th>9</th>\n",
              "      <td>Apple MacBook Pro 13-Inch, Retina Display (2015)</td>\n",
              "      <td>4.0</td>\n",
              "      <td>Although the fifth-generation Intel Core i5 pr...</td>\n",
              "    </tr>\n",
              "  </tbody>\n",
              "</table>\n",
              "</div>"
            ],
            "text/plain": [
              "                                           item_name  ...                                             review\n",
              "0        Apple MacBook Pro 13-inch (Retina Display)   ...  The Apple MacBook Pro 13-inch (Retina Display)...\n",
              "1                  Apple MacBook Pro 13-inch (2013)   ...  The Apple MacBook Pro 13-inch (2013) uses Inte...\n",
              "2                  Apple MacBook Pro 15-inch (2013)   ...  With an updated Intel processor and speedier F...\n",
              "3              Apple MacBook Air 11-inch (Mid 2013)   ...  The Apple MacBook Air 11-inch (Mid 2013) is th...\n",
              "4              Apple MacBook Air 13-inch (Mid 2013)   ...  Equipped with a fourth-generation Intel Core i...\n",
              "5  Apple MacBook Pro 15-Inch With Retina Display ...  ...  The latest Apple MacBook Pro 15-inch with Reti...\n",
              "6                  Apple MacBook Air 11-Inch (2015)   ...  The latest MacBook Air 11-inch is Apple's smal...\n",
              "7                  Apple MacBook Air 13-Inch (2015)   ...  The latest upgrade of the 13-inch Apple MacBoo...\n",
              "8                              Apple MacBook (2015)   ...  The 12-inch Apple MacBook is the thinnest, lig...\n",
              "9  Apple MacBook Pro 13-Inch, Retina Display (2015)   ...  Although the fifth-generation Intel Core i5 pr...\n",
              "\n",
              "[10 rows x 3 columns]"
            ]
          },
          "metadata": {
            "tags": []
          },
          "execution_count": 75
        }
      ]
    },
    {
      "cell_type": "code",
      "metadata": {
        "colab": {
          "base_uri": "https://localhost:8080/"
        },
        "id": "F75-79pMmp_e",
        "outputId": "9003f34d-daa6-4889-cf34-f99f8da66938"
      },
      "source": [
        "print(len(apple_dataset)) #after removing all non-Mac brands, 33 left"
      ],
      "execution_count": null,
      "outputs": [
        {
          "output_type": "stream",
          "text": [
            "33\n"
          ],
          "name": "stdout"
        }
      ]
    },
    {
      "cell_type": "markdown",
      "metadata": {
        "id": "jrXH71dEnGKU"
      },
      "source": [
        "##ASUS"
      ]
    },
    {
      "cell_type": "code",
      "metadata": {
        "colab": {
          "base_uri": "https://localhost:8080/"
        },
        "id": "TWltXLa1m1wE",
        "outputId": "312b64b9-e4f3-4d6e-c980-3e463001bd53"
      },
      "source": [
        "print(len(items(asus_dataset)))  #all names are unique"
      ],
      "execution_count": null,
      "outputs": [
        {
          "output_type": "stream",
          "text": [
            "118\n"
          ],
          "name": "stdout"
        }
      ]
    },
    {
      "cell_type": "code",
      "metadata": {
        "colab": {
          "base_uri": "https://localhost:8080/",
          "height": 363
        },
        "id": "0QmsE5A3nLU5",
        "outputId": "05f35541-0105-4161-f823-03af68a85c4b"
      },
      "source": [
        "asus_dataset.head(10)"
      ],
      "execution_count": null,
      "outputs": [
        {
          "output_type": "execute_result",
          "data": {
            "text/html": [
              "<div>\n",
              "<style scoped>\n",
              "    .dataframe tbody tr th:only-of-type {\n",
              "        vertical-align: middle;\n",
              "    }\n",
              "\n",
              "    .dataframe tbody tr th {\n",
              "        vertical-align: top;\n",
              "    }\n",
              "\n",
              "    .dataframe thead th {\n",
              "        text-align: right;\n",
              "    }\n",
              "</style>\n",
              "<table border=\"1\" class=\"dataframe\">\n",
              "  <thead>\n",
              "    <tr style=\"text-align: right;\">\n",
              "      <th></th>\n",
              "      <th>item_name</th>\n",
              "      <th>score</th>\n",
              "      <th>review</th>\n",
              "    </tr>\n",
              "  </thead>\n",
              "  <tbody>\n",
              "    <tr>\n",
              "      <th>0</th>\n",
              "      <td>Asus Transformer Book T100TA (64GB) Review</td>\n",
              "      <td>4.5</td>\n",
              "      <td>For a sub-$400 price, the Asus Transformer Boo...</td>\n",
              "    </tr>\n",
              "    <tr>\n",
              "      <th>1</th>\n",
              "      <td>Lenovo IdeaPad Flex 14 Review</td>\n",
              "      <td>3.0</td>\n",
              "      <td>The Lenovo IdeaPad Flex 14 doesn't have as ful...</td>\n",
              "    </tr>\n",
              "    <tr>\n",
              "      <th>2</th>\n",
              "      <td>Apple MacBook Pro 15-inch (2013) Review</td>\n",
              "      <td>5.0</td>\n",
              "      <td>With an updated Intel processor and speedier F...</td>\n",
              "    </tr>\n",
              "    <tr>\n",
              "      <th>3</th>\n",
              "      <td>Sony VAIO Flip 15 (SVF15N190X) Review</td>\n",
              "      <td>3.5</td>\n",
              "      <td>The Sony VAIO Flip 15 supersizes the convertib...</td>\n",
              "    </tr>\n",
              "    <tr>\n",
              "      <th>4</th>\n",
              "      <td>Lenovo IdeaPad U430 Touch Review</td>\n",
              "      <td>4.0</td>\n",
              "      <td>With very few compromises and all-day battery ...</td>\n",
              "    </tr>\n",
              "    <tr>\n",
              "      <th>5</th>\n",
              "      <td>Acer Aspire V7-582P-6673 Review</td>\n",
              "      <td>3.5</td>\n",
              "      <td>The Acer Aspire V7-582P-6673 just meets Intel'...</td>\n",
              "    </tr>\n",
              "    <tr>\n",
              "      <th>6</th>\n",
              "      <td>Asus N550JV-DB72T Review</td>\n",
              "      <td>4.0</td>\n",
              "      <td>Watching movies on a tablet is well and good, ...</td>\n",
              "    </tr>\n",
              "    <tr>\n",
              "      <th>7</th>\n",
              "      <td>Asus VivoBook V500CA-DB71T Review</td>\n",
              "      <td>3.0</td>\n",
              "      <td>The Asus VivoBook V500CA-DB71T is a decent, tr...</td>\n",
              "    </tr>\n",
              "    <tr>\n",
              "      <th>8</th>\n",
              "      <td>Acer Aspire S7-392-6411 Review</td>\n",
              "      <td>4.5</td>\n",
              "      <td>If you're looking for a svelte laptop to show ...</td>\n",
              "    </tr>\n",
              "    <tr>\n",
              "      <th>9</th>\n",
              "      <td>Vizio 15.6-inch Thin + Light Touch (CT15T-B1) ...</td>\n",
              "      <td>3.5</td>\n",
              "      <td>The Vizio 15.6-inch Thin + Light Touch (CT15T-...</td>\n",
              "    </tr>\n",
              "  </tbody>\n",
              "</table>\n",
              "</div>"
            ],
            "text/plain": [
              "                                           item_name  ...                                             review\n",
              "0         Asus Transformer Book T100TA (64GB) Review  ...  For a sub-$400 price, the Asus Transformer Boo...\n",
              "1                      Lenovo IdeaPad Flex 14 Review  ...  The Lenovo IdeaPad Flex 14 doesn't have as ful...\n",
              "2            Apple MacBook Pro 15-inch (2013) Review  ...  With an updated Intel processor and speedier F...\n",
              "3              Sony VAIO Flip 15 (SVF15N190X) Review  ...  The Sony VAIO Flip 15 supersizes the convertib...\n",
              "4                   Lenovo IdeaPad U430 Touch Review  ...  With very few compromises and all-day battery ...\n",
              "5                    Acer Aspire V7-582P-6673 Review  ...  The Acer Aspire V7-582P-6673 just meets Intel'...\n",
              "6                           Asus N550JV-DB72T Review  ...  Watching movies on a tablet is well and good, ...\n",
              "7                  Asus VivoBook V500CA-DB71T Review  ...  The Asus VivoBook V500CA-DB71T is a decent, tr...\n",
              "8                     Acer Aspire S7-392-6411 Review  ...  If you're looking for a svelte laptop to show ...\n",
              "9  Vizio 15.6-inch Thin + Light Touch (CT15T-B1) ...  ...  The Vizio 15.6-inch Thin + Light Touch (CT15T-...\n",
              "\n",
              "[10 rows x 3 columns]"
            ]
          },
          "metadata": {
            "tags": []
          },
          "execution_count": 78
        }
      ]
    },
    {
      "cell_type": "code",
      "metadata": {
        "colab": {
          "base_uri": "https://localhost:8080/",
          "height": 363
        },
        "id": "UdmFO4wQnQUB",
        "outputId": "c8403b33-71bd-439e-85f2-70f473498aca"
      },
      "source": [
        "update_df(asus_dataset,'Asus')\n",
        "asus_dataset.head(10)"
      ],
      "execution_count": null,
      "outputs": [
        {
          "output_type": "execute_result",
          "data": {
            "text/html": [
              "<div>\n",
              "<style scoped>\n",
              "    .dataframe tbody tr th:only-of-type {\n",
              "        vertical-align: middle;\n",
              "    }\n",
              "\n",
              "    .dataframe tbody tr th {\n",
              "        vertical-align: top;\n",
              "    }\n",
              "\n",
              "    .dataframe thead th {\n",
              "        text-align: right;\n",
              "    }\n",
              "</style>\n",
              "<table border=\"1\" class=\"dataframe\">\n",
              "  <thead>\n",
              "    <tr style=\"text-align: right;\">\n",
              "      <th></th>\n",
              "      <th>item_name</th>\n",
              "      <th>score</th>\n",
              "      <th>review</th>\n",
              "    </tr>\n",
              "  </thead>\n",
              "  <tbody>\n",
              "    <tr>\n",
              "      <th>0</th>\n",
              "      <td>Asus Transformer Book T100TA (64GB)</td>\n",
              "      <td>4.5</td>\n",
              "      <td>For a sub-$400 price, the Asus Transformer Boo...</td>\n",
              "    </tr>\n",
              "    <tr>\n",
              "      <th>1</th>\n",
              "      <td>Asus N550JV-DB72T</td>\n",
              "      <td>4.0</td>\n",
              "      <td>Watching movies on a tablet is well and good, ...</td>\n",
              "    </tr>\n",
              "    <tr>\n",
              "      <th>2</th>\n",
              "      <td>Asus VivoBook V500CA-DB71T</td>\n",
              "      <td>3.0</td>\n",
              "      <td>The Asus VivoBook V500CA-DB71T is a decent, tr...</td>\n",
              "    </tr>\n",
              "    <tr>\n",
              "      <th>3</th>\n",
              "      <td>Asus VivoBook V551LB-DB71T</td>\n",
              "      <td>4.0</td>\n",
              "      <td>The Asus VivoBook V551LB-DB71T desktop replace...</td>\n",
              "    </tr>\n",
              "    <tr>\n",
              "      <th>4</th>\n",
              "      <td>Asus Transformer Book TX300C</td>\n",
              "      <td>3.5</td>\n",
              "      <td>The Asus Transformer Book TX300C looks great, ...</td>\n",
              "    </tr>\n",
              "    <tr>\n",
              "      <th>5</th>\n",
              "      <td>Asus VivoBook S56CA-DH31-CA</td>\n",
              "      <td>3.0</td>\n",
              "      <td>Although the Asus VivoBook S56CA-DH31-CA boast...</td>\n",
              "    </tr>\n",
              "    <tr>\n",
              "      <th>6</th>\n",
              "      <td>Asus TUF Gaming FX504G</td>\n",
              "      <td>3.5</td>\n",
              "      <td>The Asus TUF Gaming FX504G pairs a 1080p IPS d...</td>\n",
              "    </tr>\n",
              "    <tr>\n",
              "      <th>7</th>\n",
              "      <td>Asus ZenBook UX331UN</td>\n",
              "      <td>4.0</td>\n",
              "      <td>Thanks to its trifecta of light weight, good g...</td>\n",
              "    </tr>\n",
              "    <tr>\n",
              "      <th>8</th>\n",
              "      <td>Asus ZenBook Flip 14 (UX461UN)</td>\n",
              "      <td>4.0</td>\n",
              "      <td>A 14-inch screen and dedicated graphics make t...</td>\n",
              "    </tr>\n",
              "    <tr>\n",
              "      <th>9</th>\n",
              "      <td>Asus ROG Strix Hero Edition (GL503VM)</td>\n",
              "      <td>3.5</td>\n",
              "      <td>The Asus Strix Hero Edition is an all-around c...</td>\n",
              "    </tr>\n",
              "  </tbody>\n",
              "</table>\n",
              "</div>"
            ],
            "text/plain": [
              "                                item_name  ...                                             review\n",
              "0    Asus Transformer Book T100TA (64GB)   ...  For a sub-$400 price, the Asus Transformer Boo...\n",
              "1                      Asus N550JV-DB72T   ...  Watching movies on a tablet is well and good, ...\n",
              "2             Asus VivoBook V500CA-DB71T   ...  The Asus VivoBook V500CA-DB71T is a decent, tr...\n",
              "3             Asus VivoBook V551LB-DB71T   ...  The Asus VivoBook V551LB-DB71T desktop replace...\n",
              "4           Asus Transformer Book TX300C   ...  The Asus Transformer Book TX300C looks great, ...\n",
              "5            Asus VivoBook S56CA-DH31-CA   ...  Although the Asus VivoBook S56CA-DH31-CA boast...\n",
              "6                 Asus TUF Gaming FX504G   ...  The Asus TUF Gaming FX504G pairs a 1080p IPS d...\n",
              "7                   Asus ZenBook UX331UN   ...  Thanks to its trifecta of light weight, good g...\n",
              "8        Asus ZenBook Flip 14 (UX461UN)    ...  A 14-inch screen and dedicated graphics make t...\n",
              "9  Asus ROG Strix Hero Edition (GL503VM)   ...  The Asus Strix Hero Edition is an all-around c...\n",
              "\n",
              "[10 rows x 3 columns]"
            ]
          },
          "metadata": {
            "tags": []
          },
          "execution_count": 79
        }
      ]
    },
    {
      "cell_type": "code",
      "metadata": {
        "colab": {
          "base_uri": "https://localhost:8080/"
        },
        "id": "AKw0To9KnbyS",
        "outputId": "27742f84-4d9a-4e98-eaa9-943dab637b11"
      },
      "source": [
        "print(len(asus_dataset)) "
      ],
      "execution_count": null,
      "outputs": [
        {
          "output_type": "stream",
          "text": [
            "87\n"
          ],
          "name": "stdout"
        }
      ]
    },
    {
      "cell_type": "markdown",
      "metadata": {
        "id": "wQJfF2kcnm6V"
      },
      "source": [
        "##LENOVO"
      ]
    },
    {
      "cell_type": "code",
      "metadata": {
        "colab": {
          "base_uri": "https://localhost:8080/"
        },
        "id": "wOV_A_2hnll-",
        "outputId": "a9e4d2ad-2534-4a4b-afa0-7b14c8e416ba"
      },
      "source": [
        "print(len(items(lenovo_dataset)))  #all names are unique"
      ],
      "execution_count": null,
      "outputs": [
        {
          "output_type": "stream",
          "text": [
            "192\n"
          ],
          "name": "stdout"
        }
      ]
    },
    {
      "cell_type": "code",
      "metadata": {
        "colab": {
          "base_uri": "https://localhost:8080/",
          "height": 363
        },
        "id": "SPlm9XUWnrwo",
        "outputId": "dc1255dc-e58f-41ed-c170-5723e39d6c71"
      },
      "source": [
        "lenovo_dataset.tail(10)"
      ],
      "execution_count": null,
      "outputs": [
        {
          "output_type": "execute_result",
          "data": {
            "text/html": [
              "<div>\n",
              "<style scoped>\n",
              "    .dataframe tbody tr th:only-of-type {\n",
              "        vertical-align: middle;\n",
              "    }\n",
              "\n",
              "    .dataframe tbody tr th {\n",
              "        vertical-align: top;\n",
              "    }\n",
              "\n",
              "    .dataframe thead th {\n",
              "        text-align: right;\n",
              "    }\n",
              "</style>\n",
              "<table border=\"1\" class=\"dataframe\">\n",
              "  <thead>\n",
              "    <tr style=\"text-align: right;\">\n",
              "      <th></th>\n",
              "      <th>item_name</th>\n",
              "      <th>score</th>\n",
              "      <th>review</th>\n",
              "    </tr>\n",
              "  </thead>\n",
              "  <tbody>\n",
              "    <tr>\n",
              "      <th>182</th>\n",
              "      <td>Lenovo IdeaPad Miix 10 Tablet Review</td>\n",
              "      <td>3.5</td>\n",
              "      <td>The Lenovo IdeaPad Miix 10 Tablet is a fairly ...</td>\n",
              "    </tr>\n",
              "    <tr>\n",
              "      <th>183</th>\n",
              "      <td>Lenovo ThinkPad Edge E431 Review</td>\n",
              "      <td>4.0</td>\n",
              "      <td>We recommend small business owners buy a true ...</td>\n",
              "    </tr>\n",
              "    <tr>\n",
              "      <th>184</th>\n",
              "      <td>Dell XPS 12 Review</td>\n",
              "      <td>4.0</td>\n",
              "      <td>If you can get over the Dell XPS 12's screen a...</td>\n",
              "    </tr>\n",
              "    <tr>\n",
              "      <th>185</th>\n",
              "      <td>Sony VAIO Pro 13  Review</td>\n",
              "      <td>4.0</td>\n",
              "      <td>The Sony VAIO Pro 13 shows that you can make l...</td>\n",
              "    </tr>\n",
              "    <tr>\n",
              "      <th>186</th>\n",
              "      <td>Toshiba Satellite P55-A5200 Review</td>\n",
              "      <td>3.5</td>\n",
              "      <td>The Toshiba Satellite P55-A5200 is a decent de...</td>\n",
              "    </tr>\n",
              "    <tr>\n",
              "      <th>187</th>\n",
              "      <td>Lenovo ThinkPad Helix Review</td>\n",
              "      <td>4.0</td>\n",
              "      <td>One of the better detachable hybrid tablets on...</td>\n",
              "    </tr>\n",
              "    <tr>\n",
              "      <th>188</th>\n",
              "      <td>Lenovo ThinkPad T431s Review</td>\n",
              "      <td>3.5</td>\n",
              "      <td>The Lenovo ThinkPad T431s is a solid business ...</td>\n",
              "    </tr>\n",
              "    <tr>\n",
              "      <th>189</th>\n",
              "      <td>Lenovo IdeaPad S405 Review</td>\n",
              "      <td>3.0</td>\n",
              "      <td>The Lenovo IdeaPad S405 budget laptop may not ...</td>\n",
              "    </tr>\n",
              "    <tr>\n",
              "      <th>190</th>\n",
              "      <td>Lenovo IdeaPad Yoga 11S Review</td>\n",
              "      <td>3.0</td>\n",
              "      <td>The Lenovo IdeaPad Yoga 11S is a versatile tou...</td>\n",
              "    </tr>\n",
              "    <tr>\n",
              "      <th>191</th>\n",
              "      <td>Lenovo ThinkPad X1 Carbon Touch  Review</td>\n",
              "      <td>4.0</td>\n",
              "      <td>The Lenovo ThinkPad X Carbon Touch is the ultr...</td>\n",
              "    </tr>\n",
              "  </tbody>\n",
              "</table>\n",
              "</div>"
            ],
            "text/plain": [
              "                                   item_name  ...                                             review\n",
              "182     Lenovo IdeaPad Miix 10 Tablet Review  ...  The Lenovo IdeaPad Miix 10 Tablet is a fairly ...\n",
              "183         Lenovo ThinkPad Edge E431 Review  ...  We recommend small business owners buy a true ...\n",
              "184                       Dell XPS 12 Review  ...  If you can get over the Dell XPS 12's screen a...\n",
              "185                 Sony VAIO Pro 13  Review  ...  The Sony VAIO Pro 13 shows that you can make l...\n",
              "186       Toshiba Satellite P55-A5200 Review  ...  The Toshiba Satellite P55-A5200 is a decent de...\n",
              "187             Lenovo ThinkPad Helix Review  ...  One of the better detachable hybrid tablets on...\n",
              "188             Lenovo ThinkPad T431s Review  ...  The Lenovo ThinkPad T431s is a solid business ...\n",
              "189               Lenovo IdeaPad S405 Review  ...  The Lenovo IdeaPad S405 budget laptop may not ...\n",
              "190           Lenovo IdeaPad Yoga 11S Review  ...  The Lenovo IdeaPad Yoga 11S is a versatile tou...\n",
              "191  Lenovo ThinkPad X1 Carbon Touch  Review  ...  The Lenovo ThinkPad X Carbon Touch is the ultr...\n",
              "\n",
              "[10 rows x 3 columns]"
            ]
          },
          "metadata": {
            "tags": []
          },
          "execution_count": 84
        }
      ]
    },
    {
      "cell_type": "code",
      "metadata": {
        "colab": {
          "base_uri": "https://localhost:8080/",
          "height": 363
        },
        "id": "fgXAfpbznwrE",
        "outputId": "a94ca5d5-b845-475e-c1e6-72ccbcd5b19a"
      },
      "source": [
        "update_df(lenovo_dataset,'Lenovo')\n",
        "lenovo_dataset.tail(10)"
      ],
      "execution_count": null,
      "outputs": [
        {
          "output_type": "execute_result",
          "data": {
            "text/html": [
              "<div>\n",
              "<style scoped>\n",
              "    .dataframe tbody tr th:only-of-type {\n",
              "        vertical-align: middle;\n",
              "    }\n",
              "\n",
              "    .dataframe tbody tr th {\n",
              "        vertical-align: top;\n",
              "    }\n",
              "\n",
              "    .dataframe thead th {\n",
              "        text-align: right;\n",
              "    }\n",
              "</style>\n",
              "<table border=\"1\" class=\"dataframe\">\n",
              "  <thead>\n",
              "    <tr style=\"text-align: right;\">\n",
              "      <th></th>\n",
              "      <th>item_name</th>\n",
              "      <th>score</th>\n",
              "      <th>review</th>\n",
              "    </tr>\n",
              "  </thead>\n",
              "  <tbody>\n",
              "    <tr>\n",
              "      <th>160</th>\n",
              "      <td>Lenovo IdeaPad Y510p</td>\n",
              "      <td>4.0</td>\n",
              "      <td>The Lenovo IdeaPad Y510p gaming laptop offers ...</td>\n",
              "    </tr>\n",
              "    <tr>\n",
              "      <th>161</th>\n",
              "      <td>Lenovo IdeaPad Flex 14</td>\n",
              "      <td>3.0</td>\n",
              "      <td>The Lenovo IdeaPad Flex 14 doesn't have as ful...</td>\n",
              "    </tr>\n",
              "    <tr>\n",
              "      <th>162</th>\n",
              "      <td>Lenovo IdeaPad U430 Touch</td>\n",
              "      <td>4.0</td>\n",
              "      <td>With very few compromises and all-day battery ...</td>\n",
              "    </tr>\n",
              "    <tr>\n",
              "      <th>163</th>\n",
              "      <td>Lenovo IdeaPad Miix 10 Tablet</td>\n",
              "      <td>3.5</td>\n",
              "      <td>The Lenovo IdeaPad Miix 10 Tablet is a fairly ...</td>\n",
              "    </tr>\n",
              "    <tr>\n",
              "      <th>164</th>\n",
              "      <td>Lenovo ThinkPad Edge E431</td>\n",
              "      <td>4.0</td>\n",
              "      <td>We recommend small business owners buy a true ...</td>\n",
              "    </tr>\n",
              "    <tr>\n",
              "      <th>165</th>\n",
              "      <td>Lenovo ThinkPad Helix</td>\n",
              "      <td>4.0</td>\n",
              "      <td>One of the better detachable hybrid tablets on...</td>\n",
              "    </tr>\n",
              "    <tr>\n",
              "      <th>166</th>\n",
              "      <td>Lenovo ThinkPad T431s</td>\n",
              "      <td>3.5</td>\n",
              "      <td>The Lenovo ThinkPad T431s is a solid business ...</td>\n",
              "    </tr>\n",
              "    <tr>\n",
              "      <th>167</th>\n",
              "      <td>Lenovo IdeaPad S405</td>\n",
              "      <td>3.0</td>\n",
              "      <td>The Lenovo IdeaPad S405 budget laptop may not ...</td>\n",
              "    </tr>\n",
              "    <tr>\n",
              "      <th>168</th>\n",
              "      <td>Lenovo IdeaPad Yoga 11S</td>\n",
              "      <td>3.0</td>\n",
              "      <td>The Lenovo IdeaPad Yoga 11S is a versatile tou...</td>\n",
              "    </tr>\n",
              "    <tr>\n",
              "      <th>169</th>\n",
              "      <td>Lenovo ThinkPad X1 Carbon Touch</td>\n",
              "      <td>4.0</td>\n",
              "      <td>The Lenovo ThinkPad X Carbon Touch is the ultr...</td>\n",
              "    </tr>\n",
              "  </tbody>\n",
              "</table>\n",
              "</div>"
            ],
            "text/plain": [
              "                             item_name  ...                                             review\n",
              "160              Lenovo IdeaPad Y510p   ...  The Lenovo IdeaPad Y510p gaming laptop offers ...\n",
              "161            Lenovo IdeaPad Flex 14   ...  The Lenovo IdeaPad Flex 14 doesn't have as ful...\n",
              "162         Lenovo IdeaPad U430 Touch   ...  With very few compromises and all-day battery ...\n",
              "163     Lenovo IdeaPad Miix 10 Tablet   ...  The Lenovo IdeaPad Miix 10 Tablet is a fairly ...\n",
              "164         Lenovo ThinkPad Edge E431   ...  We recommend small business owners buy a true ...\n",
              "165             Lenovo ThinkPad Helix   ...  One of the better detachable hybrid tablets on...\n",
              "166             Lenovo ThinkPad T431s   ...  The Lenovo ThinkPad T431s is a solid business ...\n",
              "167               Lenovo IdeaPad S405   ...  The Lenovo IdeaPad S405 budget laptop may not ...\n",
              "168           Lenovo IdeaPad Yoga 11S   ...  The Lenovo IdeaPad Yoga 11S is a versatile tou...\n",
              "169  Lenovo ThinkPad X1 Carbon Touch    ...  The Lenovo ThinkPad X Carbon Touch is the ultr...\n",
              "\n",
              "[10 rows x 3 columns]"
            ]
          },
          "metadata": {
            "tags": []
          },
          "execution_count": 85
        }
      ]
    },
    {
      "cell_type": "code",
      "metadata": {
        "colab": {
          "base_uri": "https://localhost:8080/"
        },
        "id": "PJBcCS_on5VY",
        "outputId": "b826673b-6aa6-4963-fda6-22d8d33b9fa8"
      },
      "source": [
        "print(len(lenovo_dataset))"
      ],
      "execution_count": null,
      "outputs": [
        {
          "output_type": "stream",
          "text": [
            "170\n"
          ],
          "name": "stdout"
        }
      ]
    },
    {
      "cell_type": "markdown",
      "metadata": {
        "id": "KDK_51YDn9cs"
      },
      "source": [
        "##MSI"
      ]
    },
    {
      "cell_type": "code",
      "metadata": {
        "colab": {
          "base_uri": "https://localhost:8080/"
        },
        "id": "6OZ9MMr1n8by",
        "outputId": "844acc9f-61f0-4695-d6af-bbabc89846fc"
      },
      "source": [
        "print(len(items(msi_dataset)))  #all names are unique"
      ],
      "execution_count": null,
      "outputs": [
        {
          "output_type": "stream",
          "text": [
            "48\n"
          ],
          "name": "stdout"
        }
      ]
    },
    {
      "cell_type": "code",
      "metadata": {
        "colab": {
          "base_uri": "https://localhost:8080/",
          "height": 363
        },
        "id": "8LkJHpUfoCVI",
        "outputId": "16e8f68d-a8fc-4269-b404-2abafc8c3133"
      },
      "source": [
        "msi_dataset.tail(10)"
      ],
      "execution_count": null,
      "outputs": [
        {
          "output_type": "execute_result",
          "data": {
            "text/html": [
              "<div>\n",
              "<style scoped>\n",
              "    .dataframe tbody tr th:only-of-type {\n",
              "        vertical-align: middle;\n",
              "    }\n",
              "\n",
              "    .dataframe tbody tr th {\n",
              "        vertical-align: top;\n",
              "    }\n",
              "\n",
              "    .dataframe thead th {\n",
              "        text-align: right;\n",
              "    }\n",
              "</style>\n",
              "<table border=\"1\" class=\"dataframe\">\n",
              "  <thead>\n",
              "    <tr style=\"text-align: right;\">\n",
              "      <th></th>\n",
              "      <th>item_name</th>\n",
              "      <th>score</th>\n",
              "      <th>review</th>\n",
              "    </tr>\n",
              "  </thead>\n",
              "  <tbody>\n",
              "    <tr>\n",
              "      <th>38</th>\n",
              "      <td>MSI GE62 Apache Review</td>\n",
              "      <td>4.0</td>\n",
              "      <td>The MSI GE62 Apache is a serious gaming laptop...</td>\n",
              "    </tr>\n",
              "    <tr>\n",
              "      <th>39</th>\n",
              "      <td>MSI GS60 Ghost Pro 3K Review</td>\n",
              "      <td>4.0</td>\n",
              "      <td>The MSI GS60 Ghost Pro 3K delivers a midrange ...</td>\n",
              "    </tr>\n",
              "    <tr>\n",
              "      <th>40</th>\n",
              "      <td>MSI GT70 2PC Dominator Review</td>\n",
              "      <td>4.0</td>\n",
              "      <td>The MSI GT70 2PC Dominator is a powerful midra...</td>\n",
              "    </tr>\n",
              "    <tr>\n",
              "      <th>41</th>\n",
              "      <td>MSI GS70 Stealth (GS70 2OD-002US) Review</td>\n",
              "      <td>4.0</td>\n",
              "      <td>The MSI GS70 Stealth (GS70 2OD-002US) is a sol...</td>\n",
              "    </tr>\n",
              "    <tr>\n",
              "      <th>42</th>\n",
              "      <td>iBuypower Battalion Ultra-Thin M1771 Review</td>\n",
              "      <td>4.0</td>\n",
              "      <td>The iBuypower Battalion Ultra-Thin M1771 is a ...</td>\n",
              "    </tr>\n",
              "    <tr>\n",
              "      <th>43</th>\n",
              "      <td>MSI GE40 2OC-009US Review</td>\n",
              "      <td>4.0</td>\n",
              "      <td>The MSI GE40 2OC-009US is a gaming ultrabook t...</td>\n",
              "    </tr>\n",
              "    <tr>\n",
              "      <th>44</th>\n",
              "      <td>MSI GX70 3Be-007US  Review</td>\n",
              "      <td>4.0</td>\n",
              "      <td>The MSI GX70 3Be-007US gaming laptop provides ...</td>\n",
              "    </tr>\n",
              "    <tr>\n",
              "      <th>45</th>\n",
              "      <td>iBuyPower Valkyrie CZ-17 Review</td>\n",
              "      <td>3.5</td>\n",
              "      <td>The iBuypower Valkyrie CZ-17 laptop is a multi...</td>\n",
              "    </tr>\n",
              "    <tr>\n",
              "      <th>46</th>\n",
              "      <td>MSI GX60 1AC-021US Review</td>\n",
              "      <td>4.0</td>\n",
              "      <td>When you're faced with a choice of overall per...</td>\n",
              "    </tr>\n",
              "    <tr>\n",
              "      <th>47</th>\n",
              "      <td>MSI GT70 One-609US Dragon Edition Review</td>\n",
              "      <td>4.0</td>\n",
              "      <td>The MSI GT70 One-609US Dragon Edition offers e...</td>\n",
              "    </tr>\n",
              "  </tbody>\n",
              "</table>\n",
              "</div>"
            ],
            "text/plain": [
              "                                      item_name  ...                                             review\n",
              "38                       MSI GE62 Apache Review  ...  The MSI GE62 Apache is a serious gaming laptop...\n",
              "39                 MSI GS60 Ghost Pro 3K Review  ...  The MSI GS60 Ghost Pro 3K delivers a midrange ...\n",
              "40                MSI GT70 2PC Dominator Review  ...  The MSI GT70 2PC Dominator is a powerful midra...\n",
              "41     MSI GS70 Stealth (GS70 2OD-002US) Review  ...  The MSI GS70 Stealth (GS70 2OD-002US) is a sol...\n",
              "42  iBuypower Battalion Ultra-Thin M1771 Review  ...  The iBuypower Battalion Ultra-Thin M1771 is a ...\n",
              "43                    MSI GE40 2OC-009US Review  ...  The MSI GE40 2OC-009US is a gaming ultrabook t...\n",
              "44                   MSI GX70 3Be-007US  Review  ...  The MSI GX70 3Be-007US gaming laptop provides ...\n",
              "45              iBuyPower Valkyrie CZ-17 Review  ...  The iBuypower Valkyrie CZ-17 laptop is a multi...\n",
              "46                    MSI GX60 1AC-021US Review  ...  When you're faced with a choice of overall per...\n",
              "47     MSI GT70 One-609US Dragon Edition Review  ...  The MSI GT70 One-609US Dragon Edition offers e...\n",
              "\n",
              "[10 rows x 3 columns]"
            ]
          },
          "metadata": {
            "tags": []
          },
          "execution_count": 89
        }
      ]
    },
    {
      "cell_type": "code",
      "metadata": {
        "colab": {
          "base_uri": "https://localhost:8080/",
          "height": 363
        },
        "id": "krtiAsn_oGNL",
        "outputId": "17ad9acc-425f-4bc9-9e1c-32ed91ea06f5"
      },
      "source": [
        "update_df(msi_dataset,'MSI')\n",
        "msi_dataset.tail(10)"
      ],
      "execution_count": null,
      "outputs": [
        {
          "output_type": "execute_result",
          "data": {
            "text/html": [
              "<div>\n",
              "<style scoped>\n",
              "    .dataframe tbody tr th:only-of-type {\n",
              "        vertical-align: middle;\n",
              "    }\n",
              "\n",
              "    .dataframe tbody tr th {\n",
              "        vertical-align: top;\n",
              "    }\n",
              "\n",
              "    .dataframe thead th {\n",
              "        text-align: right;\n",
              "    }\n",
              "</style>\n",
              "<table border=\"1\" class=\"dataframe\">\n",
              "  <thead>\n",
              "    <tr style=\"text-align: right;\">\n",
              "      <th></th>\n",
              "      <th>item_name</th>\n",
              "      <th>score</th>\n",
              "      <th>review</th>\n",
              "    </tr>\n",
              "  </thead>\n",
              "  <tbody>\n",
              "    <tr>\n",
              "      <th>36</th>\n",
              "      <td>MSI GE75 Raider</td>\n",
              "      <td>3.5</td>\n",
              "      <td>MSI's GE75 Raider slims down and adds performa...</td>\n",
              "    </tr>\n",
              "    <tr>\n",
              "      <th>37</th>\n",
              "      <td>MSI PS63 Modern</td>\n",
              "      <td>4.0</td>\n",
              "      <td>MSI continues to bolster its business-friendly...</td>\n",
              "    </tr>\n",
              "    <tr>\n",
              "      <th>38</th>\n",
              "      <td>MSI GE62 Apache</td>\n",
              "      <td>4.0</td>\n",
              "      <td>The MSI GE62 Apache is a serious gaming laptop...</td>\n",
              "    </tr>\n",
              "    <tr>\n",
              "      <th>39</th>\n",
              "      <td>MSI GS60 Ghost Pro 3K</td>\n",
              "      <td>4.0</td>\n",
              "      <td>The MSI GS60 Ghost Pro 3K delivers a midrange ...</td>\n",
              "    </tr>\n",
              "    <tr>\n",
              "      <th>40</th>\n",
              "      <td>MSI GT70 2PC Dominator</td>\n",
              "      <td>4.0</td>\n",
              "      <td>The MSI GT70 2PC Dominator is a powerful midra...</td>\n",
              "    </tr>\n",
              "    <tr>\n",
              "      <th>41</th>\n",
              "      <td>MSI GS70 Stealth (GS70 2OD-002US)</td>\n",
              "      <td>4.0</td>\n",
              "      <td>The MSI GS70 Stealth (GS70 2OD-002US) is a sol...</td>\n",
              "    </tr>\n",
              "    <tr>\n",
              "      <th>42</th>\n",
              "      <td>MSI GE40 2OC-009US</td>\n",
              "      <td>4.0</td>\n",
              "      <td>The MSI GE40 2OC-009US is a gaming ultrabook t...</td>\n",
              "    </tr>\n",
              "    <tr>\n",
              "      <th>43</th>\n",
              "      <td>MSI GX70 3Be-007US</td>\n",
              "      <td>4.0</td>\n",
              "      <td>The MSI GX70 3Be-007US gaming laptop provides ...</td>\n",
              "    </tr>\n",
              "    <tr>\n",
              "      <th>44</th>\n",
              "      <td>MSI GX60 1AC-021US</td>\n",
              "      <td>4.0</td>\n",
              "      <td>When you're faced with a choice of overall per...</td>\n",
              "    </tr>\n",
              "    <tr>\n",
              "      <th>45</th>\n",
              "      <td>MSI GT70 One-609US Dragon Edition</td>\n",
              "      <td>4.0</td>\n",
              "      <td>The MSI GT70 One-609US Dragon Edition offers e...</td>\n",
              "    </tr>\n",
              "  </tbody>\n",
              "</table>\n",
              "</div>"
            ],
            "text/plain": [
              "                             item_name  ...                                             review\n",
              "36                    MSI GE75 Raider   ...  MSI's GE75 Raider slims down and adds performa...\n",
              "37                    MSI PS63 Modern   ...  MSI continues to bolster its business-friendly...\n",
              "38                    MSI GE62 Apache   ...  The MSI GE62 Apache is a serious gaming laptop...\n",
              "39              MSI GS60 Ghost Pro 3K   ...  The MSI GS60 Ghost Pro 3K delivers a midrange ...\n",
              "40             MSI GT70 2PC Dominator   ...  The MSI GT70 2PC Dominator is a powerful midra...\n",
              "41  MSI GS70 Stealth (GS70 2OD-002US)   ...  The MSI GS70 Stealth (GS70 2OD-002US) is a sol...\n",
              "42                 MSI GE40 2OC-009US   ...  The MSI GE40 2OC-009US is a gaming ultrabook t...\n",
              "43                MSI GX70 3Be-007US    ...  The MSI GX70 3Be-007US gaming laptop provides ...\n",
              "44                 MSI GX60 1AC-021US   ...  When you're faced with a choice of overall per...\n",
              "45  MSI GT70 One-609US Dragon Edition   ...  The MSI GT70 One-609US Dragon Edition offers e...\n",
              "\n",
              "[10 rows x 3 columns]"
            ]
          },
          "metadata": {
            "tags": []
          },
          "execution_count": 90
        }
      ]
    },
    {
      "cell_type": "code",
      "metadata": {
        "colab": {
          "base_uri": "https://localhost:8080/"
        },
        "id": "ik9ZA9OkoOh-",
        "outputId": "655fe938-e408-469f-a211-aeeeb603e1fd"
      },
      "source": [
        "print(len(msi_dataset))"
      ],
      "execution_count": null,
      "outputs": [
        {
          "output_type": "stream",
          "text": [
            "46\n"
          ],
          "name": "stdout"
        }
      ]
    },
    {
      "cell_type": "markdown",
      "metadata": {
        "id": "V3X5IaXaoU7m"
      },
      "source": [
        "#Average Rating (Given max score = 5)"
      ]
    },
    {
      "cell_type": "markdown",
      "metadata": {
        "id": "0Jd41Pt7ocJo"
      },
      "source": [
        "##Dell"
      ]
    },
    {
      "cell_type": "code",
      "metadata": {
        "id": "2k0Yz0ffoRph"
      },
      "source": [
        "def average_score(df, col_name):\n",
        "  return df[col_name].sum()/len(df)"
      ],
      "execution_count": null,
      "outputs": []
    },
    {
      "cell_type": "code",
      "metadata": {
        "colab": {
          "base_uri": "https://localhost:8080/"
        },
        "id": "EVaq_TlVpcng",
        "outputId": "e44213d8-c45e-4284-9b86-7a77835acd7d"
      },
      "source": [
        "print(average_score(dell_dataset, 'score'))"
      ],
      "execution_count": null,
      "outputs": [
        {
          "output_type": "stream",
          "text": [
            "3.8095238095238093\n"
          ],
          "name": "stdout"
        }
      ]
    },
    {
      "cell_type": "markdown",
      "metadata": {
        "id": "oyK5iaPVpgEr"
      },
      "source": [
        "##Apple"
      ]
    },
    {
      "cell_type": "code",
      "metadata": {
        "colab": {
          "base_uri": "https://localhost:8080/"
        },
        "id": "5wONJbAfpi2u",
        "outputId": "51e4b20e-8583-4089-c64b-52b751a192da"
      },
      "source": [
        "print(average_score(apple_dataset, 'score'))"
      ],
      "execution_count": null,
      "outputs": [
        {
          "output_type": "stream",
          "text": [
            "4.075757575757576\n"
          ],
          "name": "stdout"
        }
      ]
    },
    {
      "cell_type": "markdown",
      "metadata": {
        "id": "R97EbOUwpnK6"
      },
      "source": [
        "##ASUS"
      ]
    },
    {
      "cell_type": "code",
      "metadata": {
        "colab": {
          "base_uri": "https://localhost:8080/"
        },
        "id": "Rs9RLi8ypeen",
        "outputId": "8fc26591-bcd6-4344-d48b-a70ab20cb519"
      },
      "source": [
        "print(average_score(asus_dataset, 'score'))"
      ],
      "execution_count": null,
      "outputs": [
        {
          "output_type": "stream",
          "text": [
            "3.7471264367816093\n"
          ],
          "name": "stdout"
        }
      ]
    },
    {
      "cell_type": "markdown",
      "metadata": {
        "id": "qzGIswV1psA-"
      },
      "source": [
        "##LENOVO"
      ]
    },
    {
      "cell_type": "code",
      "metadata": {
        "colab": {
          "base_uri": "https://localhost:8080/"
        },
        "id": "baDttlnTpp6y",
        "outputId": "c3ebbfb6-5b7c-4fb4-d61f-8e018d27517e"
      },
      "source": [
        "print(average_score(lenovo_dataset, 'score'))"
      ],
      "execution_count": null,
      "outputs": [
        {
          "output_type": "stream",
          "text": [
            "3.7676470588235293\n"
          ],
          "name": "stdout"
        }
      ]
    },
    {
      "cell_type": "markdown",
      "metadata": {
        "id": "_FV0w3yKpw2d"
      },
      "source": [
        "##MSI"
      ]
    },
    {
      "cell_type": "code",
      "metadata": {
        "colab": {
          "base_uri": "https://localhost:8080/"
        },
        "id": "iBfjDLBepu32",
        "outputId": "9fb86128-d2b3-4c69-8d98-f1a6a2a8f374"
      },
      "source": [
        "print(average_score(msi_dataset, 'score'))"
      ],
      "execution_count": null,
      "outputs": [
        {
          "output_type": "stream",
          "text": [
            "3.6630434782608696\n"
          ],
          "name": "stdout"
        }
      ]
    },
    {
      "cell_type": "markdown",
      "metadata": {
        "id": "dyVtWTrvqZph"
      },
      "source": [
        "##Visualization"
      ]
    },
    {
      "cell_type": "code",
      "metadata": {
        "id": "HegAXtRoqdR4"
      },
      "source": [
        "brand = ['Dell', 'Apple', 'ASUS', 'LENOVO', 'MSI']\n",
        "def scorelst(brandlst):\n",
        "  score = [] \n",
        "  for i in brandlst:\n",
        "    score.append(i['score'].sum()/len(i))\n",
        "  return score"
      ],
      "execution_count": null,
      "outputs": []
    },
    {
      "cell_type": "code",
      "metadata": {
        "colab": {
          "base_uri": "https://localhost:8080/"
        },
        "id": "tT3nn-wwrwJq",
        "outputId": "458d36b1-c3d6-4e2d-f993-391e7470b5fe"
      },
      "source": [
        "score = scorelst([dell_dataset,apple_dataset,asus_dataset,lenovo_dataset,msi_dataset])\n",
        "print(score)"
      ],
      "execution_count": null,
      "outputs": [
        {
          "output_type": "stream",
          "text": [
            "[3.8095238095238093, 4.075757575757576, 3.7471264367816093, 3.7676470588235293, 3.6630434782608696]\n"
          ],
          "name": "stdout"
        }
      ]
    },
    {
      "cell_type": "code",
      "metadata": {
        "colab": {
          "base_uri": "https://localhost:8080/",
          "height": 748
        },
        "id": "g6mDxQjfsOrF",
        "outputId": "cd2a6137-1363-4feb-c8dd-03d7462cd312"
      },
      "source": [
        "x_val = brand\n",
        "y_val = score\n",
        "\n",
        "plt.style.use(\"dark_background\")\n",
        "plt.figure(figsize=(12,12))\n",
        "plt.title(\"Average Rating Of Each Brand\",fontsize=25,fontweight=25)\n",
        "plt.plot(x_val,y_val)\n",
        "plt.plot(x_val,y_val,'or')\n",
        "plt.xlabel(\"Brand Name\",fontsize=20,fontweight=20)\n",
        "plt.ylabel(\"Average Rating\",fontsize=20,fontweight=20)\n",
        "#plt.savefig('/content/drive/My Drive/Web Crawling/csv/rating.ong', facecolor=\"black\", edgecolor=\"none\")\n",
        "plt.show()"
      ],
      "execution_count": null,
      "outputs": [
        {
          "output_type": "display_data",
          "data": {
            "image/png": "[encoded data removed]",
            "text/plain": [
              "<Figure size 864x864 with 1 Axes>"
            ]
          },
          "metadata": {
            "tags": []
          }
        }
      ]
    },
    {
      "cell_type": "code",
      "metadata": {
        "colab": {
          "base_uri": "https://localhost:8080/",
          "height": 748
        },
        "id": "o2wPm2xYtud9",
        "outputId": "d68fb03a-530d-4c90-ddff-50525211883b"
      },
      "source": [
        "x_val = brand\n",
        "y_val = score\n",
        "\n",
        "plt.style.use(\"dark_background\")\n",
        "plt.figure(figsize=(12,12))\n",
        "plt.title(\"Average Rating Of Each Brand\",fontsize=25,fontweight=25)\n",
        "plt.plot(x_val,y_val)\n",
        "plt.plot(x_val,y_val,'or')\n",
        "plt.xlabel(\"Brand Name\",fontsize=20,fontweight=20)\n",
        "plt.ylabel(\"Average Rating\",fontsize=20,fontweight=20)\n",
        "for x,y in zip(brand,score):\n",
        "  label = \"{:.2f}\".format(y)\n",
        "  plt.annotate(label, # this is the text\n",
        "                 (x,y), # this is the point to label\n",
        "                 textcoords=\"offset points\", # how to position the text\n",
        "                 xytext=(0,10), # distance from text to points (x,y)\n",
        "                 ha='center')\n",
        "plt.savefig('/content/drive/My Drive/Web Crawling/csv/rating.png', facecolor=\"black\", edgecolor=\"none\")\n",
        "plt.show()"
      ],
      "execution_count": null,
      "outputs": [
        {
          "output_type": "display_data",
          "data": {
            "image/png": "[encoded data removed]",
            "text/plain": [
              "<Figure size 864x864 with 1 Axes>"
            ]
          },
          "metadata": {
            "tags": []
          }
        }
      ]
    },
    {
      "cell_type": "code",
      "metadata": {
        "colab": {
          "base_uri": "https://localhost:8080/",
          "height": 748
        },
        "id": "XrAS0BYstubH",
        "outputId": "9cdea667-72aa-49ce-ccbc-ceb61ce23248"
      },
      "source": [
        "x_val = brand\n",
        "y_val = score\n",
        "\n",
        "plt.figure(figsize=(12,12))\n",
        "plt.bar(x_val,y_val)\n",
        "plt.title(\"Average Rating Of Each Brand\",fontsize=25,fontweight=25)\n",
        "plt.xlabel(\"Brand Name\",fontsize=20,fontweight=20)\n",
        "plt.ylabel(\"Average Rating\",fontsize=20,fontweight=20)\n",
        "for x,y in zip(x_val,y_val):\n",
        "  label = \"{:.2f}\".format(y)\n",
        "  plt.annotate(label, # this is the text\n",
        "                 (x,y), # this is the point to label\n",
        "                 textcoords=\"offset points\", # how to position the text\n",
        "                 xytext=(0,10), # distance from text to points (x,y)\n",
        "                 ha='center')\n",
        "plt.savefig('/content/drive/My Drive/Web Crawling/csv/ratingbar.png', facecolor=\"black\", edgecolor=\"none\")"
      ],
      "execution_count": null,
      "outputs": [
        {
          "output_type": "display_data",
          "data": {
            "image/png": "[encoded data removed]",
            "text/plain": [
              "<Figure size 864x864 with 1 Axes>"
            ]
          },
          "metadata": {
            "tags": []
          }
        }
      ]
    },
    {
      "cell_type": "code",
      "metadata": {
        "colab": {
          "base_uri": "https://localhost:8080/",
          "height": 701
        },
        "id": "3ALj3M5EyU_I",
        "outputId": "07a58be4-8809-4075-c099-18ba6d23abff"
      },
      "source": [
        "freq = []\n",
        "for i in [dell_dataset,apple_dataset,asus_dataset,lenovo_dataset,msi_dataset]:\n",
        "  freq.append(i.shape[0])\n",
        "counts = np.array(freq)\n",
        "myexplode = [0,0,0,0.15,0]\n",
        "plt.figure(figsize=(12,12))\n",
        "plt.subplot(title='Freqeuncy Distribution')\n",
        "_, _, autotexts = plt.pie(counts, labels = brand, explode = myexplode, shadow = True, autopct='%1.1f%%')\n",
        "for autotext in autotexts:\n",
        "  autotext.set_color('black')\n",
        "plt.savefig('/content/drive/My Drive/Web Crawling/csv/distribution.png', facecolor=\"black\", edgecolor=\"none\")\n",
        "plt.show() "
      ],
      "execution_count": null,
      "outputs": [
        {
          "output_type": "display_data",
          "data": {
            "image/png": "[encoded data removed]",
            "text/plain": [
              "<Figure size 864x864 with 1 Axes>"
            ]
          },
          "metadata": {
            "tags": []
          }
        }
      ]
    },
    {
      "cell_type": "markdown",
      "metadata": {
        "id": "mbqcu9h12KG-"
      },
      "source": [
        "#Excellent Product"
      ]
    },
    {
      "cell_type": "markdown",
      "metadata": {
        "id": "wYsbOqud3ek1"
      },
      "source": [
        "##Dell"
      ]
    },
    {
      "cell_type": "code",
      "metadata": {
        "id": "VvHzekUgzPsc"
      },
      "source": [
        "def excellent(df):\n",
        "  def sort(tup):\n",
        "    def last(tup):\n",
        "      return tup[1] # sort the list of tuples according to the score\n",
        "    return sorted(tup,key=last) \n",
        "\n",
        "  excel = []\n",
        "  for i in range(len(df)):\n",
        "    rate = df.loc[i, 'score']\n",
        "    if rate >= 4: \n",
        "      excel.append(tuple([df.loc[i,'item_name'],rate]))\n",
        "  return pd.DataFrame(sort(excel), columns=['Item', 'Rating'])"
      ],
      "execution_count": null,
      "outputs": []
    },
    {
      "cell_type": "code",
      "metadata": {
        "colab": {
          "base_uri": "https://localhost:8080/",
          "height": 520
        },
        "id": "1asK9j_r2-90",
        "outputId": "b76d2814-ffb5-4183-c340-69ed3aa1d0b5"
      },
      "source": [
        "excellent(dell_dataset).tail(15)"
      ],
      "execution_count": null,
      "outputs": [
        {
          "output_type": "execute_result",
          "data": {
            "text/html": [
              "<div>\n",
              "<style scoped>\n",
              "    .dataframe tbody tr th:only-of-type {\n",
              "        vertical-align: middle;\n",
              "    }\n",
              "\n",
              "    .dataframe tbody tr th {\n",
              "        vertical-align: top;\n",
              "    }\n",
              "\n",
              "    .dataframe thead th {\n",
              "        text-align: right;\n",
              "    }\n",
              "</style>\n",
              "<table border=\"1\" class=\"dataframe\">\n",
              "  <thead>\n",
              "    <tr style=\"text-align: right;\">\n",
              "      <th></th>\n",
              "      <th>Item</th>\n",
              "      <th>Rating</th>\n",
              "    </tr>\n",
              "  </thead>\n",
              "  <tbody>\n",
              "    <tr>\n",
              "      <th>80</th>\n",
              "      <td>Dell Inspiron 15z-5523</td>\n",
              "      <td>4.0</td>\n",
              "    </tr>\n",
              "    <tr>\n",
              "      <th>81</th>\n",
              "      <td>Dell XPS 13 (9370)</td>\n",
              "      <td>4.5</td>\n",
              "    </tr>\n",
              "    <tr>\n",
              "      <th>82</th>\n",
              "      <td>Dell XPS 13 (9360)</td>\n",
              "      <td>4.5</td>\n",
              "    </tr>\n",
              "    <tr>\n",
              "      <th>83</th>\n",
              "      <td>Dell XPS 13 (7390)</td>\n",
              "      <td>4.5</td>\n",
              "    </tr>\n",
              "    <tr>\n",
              "      <th>84</th>\n",
              "      <td>Dell XPS 13 2-in-1 (7390)</td>\n",
              "      <td>4.5</td>\n",
              "    </tr>\n",
              "    <tr>\n",
              "      <th>85</th>\n",
              "      <td>Dell XPS 13 2-in-1 (9310)</td>\n",
              "      <td>4.5</td>\n",
              "    </tr>\n",
              "    <tr>\n",
              "      <th>86</th>\n",
              "      <td>Dell XPS 13 (9310)</td>\n",
              "      <td>4.5</td>\n",
              "    </tr>\n",
              "    <tr>\n",
              "      <th>87</th>\n",
              "      <td>Dell XPS 17 (9700)</td>\n",
              "      <td>4.5</td>\n",
              "    </tr>\n",
              "    <tr>\n",
              "      <th>88</th>\n",
              "      <td>Dell XPS 15 (9500)</td>\n",
              "      <td>4.5</td>\n",
              "    </tr>\n",
              "    <tr>\n",
              "      <th>89</th>\n",
              "      <td>Dell Latitude 7220 Rugged Extreme Tablet</td>\n",
              "      <td>4.5</td>\n",
              "    </tr>\n",
              "    <tr>\n",
              "      <th>90</th>\n",
              "      <td>Dell Inspiron 14 7000 (7490)</td>\n",
              "      <td>4.5</td>\n",
              "    </tr>\n",
              "    <tr>\n",
              "      <th>91</th>\n",
              "      <td>Dell Precision 15 5000 Series (5510)</td>\n",
              "      <td>4.5</td>\n",
              "    </tr>\n",
              "    <tr>\n",
              "      <th>92</th>\n",
              "      <td>Dell XPS 13 Touch (2016)</td>\n",
              "      <td>4.5</td>\n",
              "    </tr>\n",
              "    <tr>\n",
              "      <th>93</th>\n",
              "      <td>Dell XPS 15</td>\n",
              "      <td>4.5</td>\n",
              "    </tr>\n",
              "    <tr>\n",
              "      <th>94</th>\n",
              "      <td>Dell XPS 13 (9380)</td>\n",
              "      <td>5.0</td>\n",
              "    </tr>\n",
              "  </tbody>\n",
              "</table>\n",
              "</div>"
            ],
            "text/plain": [
              "                                         Item  Rating\n",
              "80                    Dell Inspiron 15z-5523      4.0\n",
              "81                        Dell XPS 13 (9370)      4.5\n",
              "82                        Dell XPS 13 (9360)      4.5\n",
              "83                        Dell XPS 13 (7390)      4.5\n",
              "84                 Dell XPS 13 2-in-1 (7390)      4.5\n",
              "85                 Dell XPS 13 2-in-1 (9310)      4.5\n",
              "86                        Dell XPS 13 (9310)      4.5\n",
              "87                        Dell XPS 17 (9700)      4.5\n",
              "88                        Dell XPS 15 (9500)      4.5\n",
              "89  Dell Latitude 7220 Rugged Extreme Tablet      4.5\n",
              "90              Dell Inspiron 14 7000 (7490)      4.5\n",
              "91      Dell Precision 15 5000 Series (5510)      4.5\n",
              "92                  Dell XPS 13 Touch (2016)      4.5\n",
              "93                               Dell XPS 15      4.5\n",
              "94                        Dell XPS 13 (9380)      5.0"
            ]
          },
          "metadata": {
            "tags": []
          },
          "execution_count": 125
        }
      ]
    },
    {
      "cell_type": "code",
      "metadata": {
        "colab": {
          "base_uri": "https://localhost:8080/"
        },
        "id": "1HmD-p0C3CcP",
        "outputId": "f38db038-1d77-4815-d492-f85bbef0a15c"
      },
      "source": [
        "print(len(excellent(dell_dataset)))"
      ],
      "execution_count": null,
      "outputs": [
        {
          "output_type": "stream",
          "text": [
            "95\n"
          ],
          "name": "stdout"
        }
      ]
    },
    {
      "cell_type": "code",
      "metadata": {
        "colab": {
          "base_uri": "https://localhost:8080/"
        },
        "id": "3uSbquGL3QvS",
        "outputId": "5bc77300-c166-4840-adfc-d8ef3e930cc9"
      },
      "source": [
        "print(\"Percentage of products with good rating: \" + str((len(excellent(dell_dataset))/len(dell_dataset))*100))"
      ],
      "execution_count": null,
      "outputs": [
        {
          "output_type": "stream",
          "text": [
            "Percentage of products with good rating: 64.62585034013605\n"
          ],
          "name": "stdout"
        }
      ]
    },
    {
      "cell_type": "markdown",
      "metadata": {
        "id": "e_UMfgsv3gVO"
      },
      "source": [
        "##Apple"
      ]
    },
    {
      "cell_type": "code",
      "metadata": {
        "colab": {
          "base_uri": "https://localhost:8080/",
          "height": 363
        },
        "id": "7sQFD9GR3mmR",
        "outputId": "63c91283-7892-4878-ff16-aa3f72277aae"
      },
      "source": [
        "excellent(apple_dataset).tail(10)"
      ],
      "execution_count": null,
      "outputs": [
        {
          "output_type": "execute_result",
          "data": {
            "text/html": [
              "<div>\n",
              "<style scoped>\n",
              "    .dataframe tbody tr th:only-of-type {\n",
              "        vertical-align: middle;\n",
              "    }\n",
              "\n",
              "    .dataframe tbody tr th {\n",
              "        vertical-align: top;\n",
              "    }\n",
              "\n",
              "    .dataframe thead th {\n",
              "        text-align: right;\n",
              "    }\n",
              "</style>\n",
              "<table border=\"1\" class=\"dataframe\">\n",
              "  <thead>\n",
              "    <tr style=\"text-align: right;\">\n",
              "      <th></th>\n",
              "      <th>Item</th>\n",
              "      <th>Rating</th>\n",
              "    </tr>\n",
              "  </thead>\n",
              "  <tbody>\n",
              "    <tr>\n",
              "      <th>19</th>\n",
              "      <td>Apple MacBook Pro 13-Inch (2016, Touch Bar)</td>\n",
              "      <td>4.0</td>\n",
              "    </tr>\n",
              "    <tr>\n",
              "      <th>20</th>\n",
              "      <td>Apple MacBook Pro 13-Inch (2016)</td>\n",
              "      <td>4.0</td>\n",
              "    </tr>\n",
              "    <tr>\n",
              "      <th>21</th>\n",
              "      <td>Apple MacBook Pro 13-inch (Retina Display)</td>\n",
              "      <td>4.5</td>\n",
              "    </tr>\n",
              "    <tr>\n",
              "      <th>22</th>\n",
              "      <td>Apple MacBook Pro 13-inch (2013)</td>\n",
              "      <td>4.5</td>\n",
              "    </tr>\n",
              "    <tr>\n",
              "      <th>23</th>\n",
              "      <td>Apple MacBook Air 13-inch (Mid 2013)</td>\n",
              "      <td>4.5</td>\n",
              "    </tr>\n",
              "    <tr>\n",
              "      <th>24</th>\n",
              "      <td>Apple MacBook Pro 15-Inch Retina Display (2014)</td>\n",
              "      <td>4.5</td>\n",
              "    </tr>\n",
              "    <tr>\n",
              "      <th>25</th>\n",
              "      <td>Apple MacBook Pro 13-Inch, Retina Display (2014)</td>\n",
              "      <td>4.5</td>\n",
              "    </tr>\n",
              "    <tr>\n",
              "      <th>26</th>\n",
              "      <td>Apple MacBook Air (M1, Late 2020)</td>\n",
              "      <td>4.5</td>\n",
              "    </tr>\n",
              "    <tr>\n",
              "      <th>27</th>\n",
              "      <td>Apple MacBook Pro 15-Inch (2018)</td>\n",
              "      <td>4.5</td>\n",
              "    </tr>\n",
              "    <tr>\n",
              "      <th>28</th>\n",
              "      <td>Apple MacBook Pro 15-inch (2013)</td>\n",
              "      <td>5.0</td>\n",
              "    </tr>\n",
              "  </tbody>\n",
              "</table>\n",
              "</div>"
            ],
            "text/plain": [
              "                                                 Item  Rating\n",
              "19       Apple MacBook Pro 13-Inch (2016, Touch Bar)      4.0\n",
              "20                  Apple MacBook Pro 13-Inch (2016)      4.0\n",
              "21        Apple MacBook Pro 13-inch (Retina Display)      4.5\n",
              "22                  Apple MacBook Pro 13-inch (2013)      4.5\n",
              "23              Apple MacBook Air 13-inch (Mid 2013)      4.5\n",
              "24   Apple MacBook Pro 15-Inch Retina Display (2014)      4.5\n",
              "25  Apple MacBook Pro 13-Inch, Retina Display (2014)      4.5\n",
              "26                 Apple MacBook Air (M1, Late 2020)      4.5\n",
              "27                  Apple MacBook Pro 15-Inch (2018)      4.5\n",
              "28                  Apple MacBook Pro 15-inch (2013)      5.0"
            ]
          },
          "metadata": {
            "tags": []
          },
          "execution_count": 130
        }
      ]
    },
    {
      "cell_type": "code",
      "metadata": {
        "colab": {
          "base_uri": "https://localhost:8080/"
        },
        "id": "5sGguicQ3o_p",
        "outputId": "2e0f17e5-ca63-4ae0-ea63-7ac59826c03d"
      },
      "source": [
        "print(len(excellent(apple_dataset)))"
      ],
      "execution_count": null,
      "outputs": [
        {
          "output_type": "stream",
          "text": [
            "29\n"
          ],
          "name": "stdout"
        }
      ]
    },
    {
      "cell_type": "code",
      "metadata": {
        "colab": {
          "base_uri": "https://localhost:8080/"
        },
        "id": "irCn-1Bn3yFY",
        "outputId": "f6ae32e3-0986-4b67-dbc1-eae7b92a0520"
      },
      "source": [
        "print(\"Percentage of products with good rating: \" + str((len(excellent(apple_dataset))/len(apple_dataset))*100))"
      ],
      "execution_count": null,
      "outputs": [
        {
          "output_type": "stream",
          "text": [
            "Percentage of products with good rating: 87.87878787878788\n"
          ],
          "name": "stdout"
        }
      ]
    },
    {
      "cell_type": "markdown",
      "metadata": {
        "id": "hr6Fwvpu35nI"
      },
      "source": [
        "##ASUS"
      ]
    },
    {
      "cell_type": "code",
      "metadata": {
        "colab": {
          "base_uri": "https://localhost:8080/",
          "height": 363
        },
        "id": "-_vvrcXR33vf",
        "outputId": "5436a596-13e1-4b6e-eb13-475e8b4bd5b0"
      },
      "source": [
        "excellent(asus_dataset).tail(10)"
      ],
      "execution_count": null,
      "outputs": [
        {
          "output_type": "execute_result",
          "data": {
            "text/html": [
              "<div>\n",
              "<style scoped>\n",
              "    .dataframe tbody tr th:only-of-type {\n",
              "        vertical-align: middle;\n",
              "    }\n",
              "\n",
              "    .dataframe tbody tr th {\n",
              "        vertical-align: top;\n",
              "    }\n",
              "\n",
              "    .dataframe thead th {\n",
              "        text-align: right;\n",
              "    }\n",
              "</style>\n",
              "<table border=\"1\" class=\"dataframe\">\n",
              "  <thead>\n",
              "    <tr style=\"text-align: right;\">\n",
              "      <th></th>\n",
              "      <th>Item</th>\n",
              "      <th>Rating</th>\n",
              "    </tr>\n",
              "  </thead>\n",
              "  <tbody>\n",
              "    <tr>\n",
              "      <th>41</th>\n",
              "      <td>Asus VivoBook S15 S530UA</td>\n",
              "      <td>4.0</td>\n",
              "    </tr>\n",
              "    <tr>\n",
              "      <th>42</th>\n",
              "      <td>Asus ZenBook S (UX391UA)</td>\n",
              "      <td>4.0</td>\n",
              "    </tr>\n",
              "    <tr>\n",
              "      <th>43</th>\n",
              "      <td>Asus ZenBook Pro 15 (UX580G)</td>\n",
              "      <td>4.0</td>\n",
              "    </tr>\n",
              "    <tr>\n",
              "      <th>44</th>\n",
              "      <td>Asus VivoBook F510UA</td>\n",
              "      <td>4.0</td>\n",
              "    </tr>\n",
              "    <tr>\n",
              "      <th>45</th>\n",
              "      <td>Asus Transformer Book T100TA (64GB)</td>\n",
              "      <td>4.5</td>\n",
              "    </tr>\n",
              "    <tr>\n",
              "      <th>46</th>\n",
              "      <td>Asus ROG Strix GL753V</td>\n",
              "      <td>4.5</td>\n",
              "    </tr>\n",
              "    <tr>\n",
              "      <th>47</th>\n",
              "      <td>Asus Chromebook Flip (C100PA-DB02)</td>\n",
              "      <td>4.5</td>\n",
              "    </tr>\n",
              "    <tr>\n",
              "      <th>48</th>\n",
              "      <td>Asus ProArt StudioBook 15</td>\n",
              "      <td>4.5</td>\n",
              "    </tr>\n",
              "    <tr>\n",
              "      <th>49</th>\n",
              "      <td>Asus Chromebook Flip C436</td>\n",
              "      <td>4.5</td>\n",
              "    </tr>\n",
              "    <tr>\n",
              "      <th>50</th>\n",
              "      <td>Asus ROG Zephyrus S GX502</td>\n",
              "      <td>4.5</td>\n",
              "    </tr>\n",
              "  </tbody>\n",
              "</table>\n",
              "</div>"
            ],
            "text/plain": [
              "                                    Item  Rating\n",
              "41             Asus VivoBook S15 S530UA      4.0\n",
              "42             Asus ZenBook S (UX391UA)      4.0\n",
              "43         Asus ZenBook Pro 15 (UX580G)      4.0\n",
              "44                 Asus VivoBook F510UA      4.0\n",
              "45  Asus Transformer Book T100TA (64GB)      4.5\n",
              "46                Asus ROG Strix GL753V      4.5\n",
              "47   Asus Chromebook Flip (C100PA-DB02)      4.5\n",
              "48            Asus ProArt StudioBook 15      4.5\n",
              "49            Asus Chromebook Flip C436      4.5\n",
              "50            Asus ROG Zephyrus S GX502      4.5"
            ]
          },
          "metadata": {
            "tags": []
          },
          "execution_count": 134
        }
      ]
    },
    {
      "cell_type": "code",
      "metadata": {
        "colab": {
          "base_uri": "https://localhost:8080/"
        },
        "id": "HCOmIfZs39oB",
        "outputId": "6a205d9f-acb9-4cf6-bc5e-e8aacf8c1c72"
      },
      "source": [
        "print(len(excellent(asus_dataset)))"
      ],
      "execution_count": null,
      "outputs": [
        {
          "output_type": "stream",
          "text": [
            "51\n"
          ],
          "name": "stdout"
        }
      ]
    },
    {
      "cell_type": "code",
      "metadata": {
        "colab": {
          "base_uri": "https://localhost:8080/"
        },
        "id": "YwIgHIO14A74",
        "outputId": "fd019761-4713-4185-d020-d890646795ab"
      },
      "source": [
        "print(\"Percentage of products with good rating: \" + str((len(excellent(asus_dataset))/len(asus_dataset))*100))"
      ],
      "execution_count": null,
      "outputs": [
        {
          "output_type": "stream",
          "text": [
            "Percentage of products with good rating: 58.620689655172406\n"
          ],
          "name": "stdout"
        }
      ]
    },
    {
      "cell_type": "markdown",
      "metadata": {
        "id": "-QEGa5Mf4IS_"
      },
      "source": [
        "##LENOVO"
      ]
    },
    {
      "cell_type": "code",
      "metadata": {
        "colab": {
          "base_uri": "https://localhost:8080/",
          "height": 363
        },
        "id": "2IERCVgz4Dim",
        "outputId": "55a6224d-bbc2-4441-cb03-62482cfb7f20"
      },
      "source": [
        "excellent(lenovo_dataset).tail(10)"
      ],
      "execution_count": null,
      "outputs": [
        {
          "output_type": "execute_result",
          "data": {
            "text/html": [
              "<div>\n",
              "<style scoped>\n",
              "    .dataframe tbody tr th:only-of-type {\n",
              "        vertical-align: middle;\n",
              "    }\n",
              "\n",
              "    .dataframe tbody tr th {\n",
              "        vertical-align: top;\n",
              "    }\n",
              "\n",
              "    .dataframe thead th {\n",
              "        text-align: right;\n",
              "    }\n",
              "</style>\n",
              "<table border=\"1\" class=\"dataframe\">\n",
              "  <thead>\n",
              "    <tr style=\"text-align: right;\">\n",
              "      <th></th>\n",
              "      <th>Item</th>\n",
              "      <th>Rating</th>\n",
              "    </tr>\n",
              "  </thead>\n",
              "  <tbody>\n",
              "    <tr>\n",
              "      <th>95</th>\n",
              "      <td>Lenovo ThinkPad X1 Carbon Touch</td>\n",
              "      <td>4.0</td>\n",
              "    </tr>\n",
              "    <tr>\n",
              "      <th>96</th>\n",
              "      <td>Lenovo ThinkPad T450s</td>\n",
              "      <td>4.5</td>\n",
              "    </tr>\n",
              "    <tr>\n",
              "      <th>97</th>\n",
              "      <td>Lenovo ThinkPad T470</td>\n",
              "      <td>4.5</td>\n",
              "    </tr>\n",
              "    <tr>\n",
              "      <th>98</th>\n",
              "      <td>Lenovo Yoga 910</td>\n",
              "      <td>4.5</td>\n",
              "    </tr>\n",
              "    <tr>\n",
              "      <th>99</th>\n",
              "      <td>Lenovo Yoga C930</td>\n",
              "      <td>4.5</td>\n",
              "    </tr>\n",
              "    <tr>\n",
              "      <th>100</th>\n",
              "      <td>Lenovo Yoga 920</td>\n",
              "      <td>4.5</td>\n",
              "    </tr>\n",
              "    <tr>\n",
              "      <th>101</th>\n",
              "      <td>Lenovo ThinkPad X1 Extreme Gen 3</td>\n",
              "      <td>4.5</td>\n",
              "    </tr>\n",
              "    <tr>\n",
              "      <th>102</th>\n",
              "      <td>Lenovo Flex 5 Chromebook</td>\n",
              "      <td>4.5</td>\n",
              "    </tr>\n",
              "    <tr>\n",
              "      <th>103</th>\n",
              "      <td>Lenovo ThinkPad X1 Carbon Gen 7 (2019)</td>\n",
              "      <td>4.5</td>\n",
              "    </tr>\n",
              "    <tr>\n",
              "      <th>104</th>\n",
              "      <td>Lenovo ThinkPad X390</td>\n",
              "      <td>4.5</td>\n",
              "    </tr>\n",
              "  </tbody>\n",
              "</table>\n",
              "</div>"
            ],
            "text/plain": [
              "                                        Item  Rating\n",
              "95         Lenovo ThinkPad X1 Carbon Touch       4.0\n",
              "96                    Lenovo ThinkPad T450s      4.5\n",
              "97                     Lenovo ThinkPad T470      4.5\n",
              "98                          Lenovo Yoga 910      4.5\n",
              "99                         Lenovo Yoga C930      4.5\n",
              "100                         Lenovo Yoga 920      4.5\n",
              "101        Lenovo ThinkPad X1 Extreme Gen 3      4.5\n",
              "102                Lenovo Flex 5 Chromebook      4.5\n",
              "103  Lenovo ThinkPad X1 Carbon Gen 7 (2019)      4.5\n",
              "104                    Lenovo ThinkPad X390      4.5"
            ]
          },
          "metadata": {
            "tags": []
          },
          "execution_count": 137
        }
      ]
    },
    {
      "cell_type": "code",
      "metadata": {
        "colab": {
          "base_uri": "https://localhost:8080/"
        },
        "id": "2-RNq17G4LTj",
        "outputId": "f088ae42-2a3e-4714-ac73-341f7e15122c"
      },
      "source": [
        "print(len(excellent(lenovo_dataset)))"
      ],
      "execution_count": null,
      "outputs": [
        {
          "output_type": "stream",
          "text": [
            "105\n"
          ],
          "name": "stdout"
        }
      ]
    },
    {
      "cell_type": "code",
      "metadata": {
        "colab": {
          "base_uri": "https://localhost:8080/"
        },
        "id": "gfJr1Xz64N1z",
        "outputId": "bc7a444c-f842-4793-ff70-63f97a4de5ff"
      },
      "source": [
        "print(\"Percentage of products with good rating: \" + str((len(excellent(lenovo_dataset))/len(lenovo_dataset))*100))"
      ],
      "execution_count": null,
      "outputs": [
        {
          "output_type": "stream",
          "text": [
            "Percentage of products with good rating: 61.76470588235294\n"
          ],
          "name": "stdout"
        }
      ]
    },
    {
      "cell_type": "markdown",
      "metadata": {
        "id": "C6EGJ9Zz4Q2J"
      },
      "source": [
        "##MSI"
      ]
    },
    {
      "cell_type": "code",
      "metadata": {
        "colab": {
          "base_uri": "https://localhost:8080/",
          "height": 363
        },
        "id": "mjMCKlUQ4P9-",
        "outputId": "cd028795-9384-457d-db95-24397cd09969"
      },
      "source": [
        "excellent(msi_dataset).tail(10)"
      ],
      "execution_count": null,
      "outputs": [
        {
          "output_type": "execute_result",
          "data": {
            "text/html": [
              "<div>\n",
              "<style scoped>\n",
              "    .dataframe tbody tr th:only-of-type {\n",
              "        vertical-align: middle;\n",
              "    }\n",
              "\n",
              "    .dataframe tbody tr th {\n",
              "        vertical-align: top;\n",
              "    }\n",
              "\n",
              "    .dataframe thead th {\n",
              "        text-align: right;\n",
              "    }\n",
              "</style>\n",
              "<table border=\"1\" class=\"dataframe\">\n",
              "  <thead>\n",
              "    <tr style=\"text-align: right;\">\n",
              "      <th></th>\n",
              "      <th>Item</th>\n",
              "      <th>Rating</th>\n",
              "    </tr>\n",
              "  </thead>\n",
              "  <tbody>\n",
              "    <tr>\n",
              "      <th>14</th>\n",
              "      <td>MSI PS63 Modern</td>\n",
              "      <td>4.0</td>\n",
              "    </tr>\n",
              "    <tr>\n",
              "      <th>15</th>\n",
              "      <td>MSI GE62 Apache</td>\n",
              "      <td>4.0</td>\n",
              "    </tr>\n",
              "    <tr>\n",
              "      <th>16</th>\n",
              "      <td>MSI GS60 Ghost Pro 3K</td>\n",
              "      <td>4.0</td>\n",
              "    </tr>\n",
              "    <tr>\n",
              "      <th>17</th>\n",
              "      <td>MSI GT70 2PC Dominator</td>\n",
              "      <td>4.0</td>\n",
              "    </tr>\n",
              "    <tr>\n",
              "      <th>18</th>\n",
              "      <td>MSI GS70 Stealth (GS70 2OD-002US)</td>\n",
              "      <td>4.0</td>\n",
              "    </tr>\n",
              "    <tr>\n",
              "      <th>19</th>\n",
              "      <td>MSI GE40 2OC-009US</td>\n",
              "      <td>4.0</td>\n",
              "    </tr>\n",
              "    <tr>\n",
              "      <th>20</th>\n",
              "      <td>MSI GX70 3Be-007US</td>\n",
              "      <td>4.0</td>\n",
              "    </tr>\n",
              "    <tr>\n",
              "      <th>21</th>\n",
              "      <td>MSI GX60 1AC-021US</td>\n",
              "      <td>4.0</td>\n",
              "    </tr>\n",
              "    <tr>\n",
              "      <th>22</th>\n",
              "      <td>MSI GT70 One-609US Dragon Edition</td>\n",
              "      <td>4.0</td>\n",
              "    </tr>\n",
              "    <tr>\n",
              "      <th>23</th>\n",
              "      <td>MSI WS75</td>\n",
              "      <td>4.5</td>\n",
              "    </tr>\n",
              "  </tbody>\n",
              "</table>\n",
              "</div>"
            ],
            "text/plain": [
              "                                  Item  Rating\n",
              "14                    MSI PS63 Modern      4.0\n",
              "15                    MSI GE62 Apache      4.0\n",
              "16              MSI GS60 Ghost Pro 3K      4.0\n",
              "17             MSI GT70 2PC Dominator      4.0\n",
              "18  MSI GS70 Stealth (GS70 2OD-002US)      4.0\n",
              "19                 MSI GE40 2OC-009US      4.0\n",
              "20                MSI GX70 3Be-007US       4.0\n",
              "21                 MSI GX60 1AC-021US      4.0\n",
              "22  MSI GT70 One-609US Dragon Edition      4.0\n",
              "23                           MSI WS75      4.5"
            ]
          },
          "metadata": {
            "tags": []
          },
          "execution_count": 140
        }
      ]
    },
    {
      "cell_type": "code",
      "metadata": {
        "colab": {
          "base_uri": "https://localhost:8080/"
        },
        "id": "xby74H9o4TJd",
        "outputId": "4c7b5569-4890-4630-9bfe-d88dc4505fd2"
      },
      "source": [
        "print(len(excellent(msi_dataset)))"
      ],
      "execution_count": null,
      "outputs": [
        {
          "output_type": "stream",
          "text": [
            "24\n"
          ],
          "name": "stdout"
        }
      ]
    },
    {
      "cell_type": "code",
      "metadata": {
        "colab": {
          "base_uri": "https://localhost:8080/"
        },
        "id": "6pMB-eZN4Vb5",
        "outputId": "e8627528-e1f6-4262-fc67-bb733bc046ee"
      },
      "source": [
        "print(\"Percentage of products with good rating: \" + str((len(excellent(msi_dataset))/len(msi_dataset))*100))"
      ],
      "execution_count": null,
      "outputs": [
        {
          "output_type": "stream",
          "text": [
            "Percentage of products with good rating: 52.17391304347826\n"
          ],
          "name": "stdout"
        }
      ]
    },
    {
      "cell_type": "markdown",
      "metadata": {
        "id": "jfUjuT7c4gPJ"
      },
      "source": [
        "#Unpopular Product"
      ]
    },
    {
      "cell_type": "markdown",
      "metadata": {
        "id": "t7m5UdEp4zRl"
      },
      "source": [
        "##Dell"
      ]
    },
    {
      "cell_type": "code",
      "metadata": {
        "id": "gssiV2-M4XoV"
      },
      "source": [
        "def unpopular(df):\n",
        "  def sort(tup):\n",
        "    def last(tup):\n",
        "      return tup[1] # sort the list of tuples according to the score\n",
        "    return sorted(tup,key=last) \n",
        "\n",
        "  unpopular = []\n",
        "  for i in range(len(df)):\n",
        "    rate = df.loc[i, 'score']\n",
        "    if rate < 3: \n",
        "      unpopular.append(tuple([df.loc[i,'item_name'],rate,df.loc[i,'review']]))\n",
        "  return pd.DataFrame(sort(unpopular), columns=['Item', 'Rating', 'Review'])"
      ],
      "execution_count": null,
      "outputs": []
    },
    {
      "cell_type": "code",
      "metadata": {
        "colab": {
          "base_uri": "https://localhost:8080/",
          "height": 143
        },
        "id": "beLCNyFc4i8h",
        "outputId": "b33b3e76-dab5-4141-a173-85a75324a6b4"
      },
      "source": [
        "unpopular(dell_dataset).head(10)"
      ],
      "execution_count": null,
      "outputs": [
        {
          "output_type": "execute_result",
          "data": {
            "text/html": [
              "<div>\n",
              "<style scoped>\n",
              "    .dataframe tbody tr th:only-of-type {\n",
              "        vertical-align: middle;\n",
              "    }\n",
              "\n",
              "    .dataframe tbody tr th {\n",
              "        vertical-align: top;\n",
              "    }\n",
              "\n",
              "    .dataframe thead th {\n",
              "        text-align: right;\n",
              "    }\n",
              "</style>\n",
              "<table border=\"1\" class=\"dataframe\">\n",
              "  <thead>\n",
              "    <tr style=\"text-align: right;\">\n",
              "      <th></th>\n",
              "      <th>Item</th>\n",
              "      <th>Rating</th>\n",
              "      <th>Review</th>\n",
              "    </tr>\n",
              "  </thead>\n",
              "  <tbody>\n",
              "    <tr>\n",
              "      <th>0</th>\n",
              "      <td>Dell Inspiron 13 7000 2-in-1 (7373)</td>\n",
              "      <td>2.5</td>\n",
              "      <td>Convertible laptops are about the freedom to w...</td>\n",
              "    </tr>\n",
              "    <tr>\n",
              "      <th>1</th>\n",
              "      <td>Dell Inspiron 13 5000 2-in-1 (5379)</td>\n",
              "      <td>2.5</td>\n",
              "      <td>Unless you need to wring as much computing pow...</td>\n",
              "    </tr>\n",
              "    <tr>\n",
              "      <th>2</th>\n",
              "      <td>Dell Inspiron 11 3000 2-in-1 (2019)</td>\n",
              "      <td>2.5</td>\n",
              "      <td>Dell's latest rev of its Inspiron 3000 2-in-1 ...</td>\n",
              "    </tr>\n",
              "  </tbody>\n",
              "</table>\n",
              "</div>"
            ],
            "text/plain": [
              "                                   Item  ...                                             Review\n",
              "0  Dell Inspiron 13 7000 2-in-1 (7373)   ...  Convertible laptops are about the freedom to w...\n",
              "1  Dell Inspiron 13 5000 2-in-1 (5379)   ...  Unless you need to wring as much computing pow...\n",
              "2  Dell Inspiron 11 3000 2-in-1 (2019)   ...  Dell's latest rev of its Inspiron 3000 2-in-1 ...\n",
              "\n",
              "[3 rows x 3 columns]"
            ]
          },
          "metadata": {
            "tags": []
          },
          "execution_count": 144
        }
      ]
    },
    {
      "cell_type": "code",
      "metadata": {
        "colab": {
          "base_uri": "https://localhost:8080/"
        },
        "id": "DcmixKde4oiH",
        "outputId": "ddde1f95-73ff-4d83-9a9a-009419770672"
      },
      "source": [
        "print(\"Percentage of products with bad rating: \" + str((len(unpopular(dell_dataset))/len(dell_dataset))*100))"
      ],
      "execution_count": null,
      "outputs": [
        {
          "output_type": "stream",
          "text": [
            "Percentage of products with bad rating: 2.0408163265306123\n"
          ],
          "name": "stdout"
        }
      ]
    },
    {
      "cell_type": "markdown",
      "metadata": {
        "id": "a_0X2ODW4x0T"
      },
      "source": [
        "##Apple"
      ]
    },
    {
      "cell_type": "code",
      "metadata": {
        "colab": {
          "base_uri": "https://localhost:8080/",
          "height": 49
        },
        "id": "TlI7Fq9E4uJA",
        "outputId": "ff6e9d38-c4a4-4643-95ae-999154b00bc8"
      },
      "source": [
        "unpopular(apple_dataset).head(10)"
      ],
      "execution_count": null,
      "outputs": [
        {
          "output_type": "execute_result",
          "data": {
            "text/html": [
              "<div>\n",
              "<style scoped>\n",
              "    .dataframe tbody tr th:only-of-type {\n",
              "        vertical-align: middle;\n",
              "    }\n",
              "\n",
              "    .dataframe tbody tr th {\n",
              "        vertical-align: top;\n",
              "    }\n",
              "\n",
              "    .dataframe thead th {\n",
              "        text-align: right;\n",
              "    }\n",
              "</style>\n",
              "<table border=\"1\" class=\"dataframe\">\n",
              "  <thead>\n",
              "    <tr style=\"text-align: right;\">\n",
              "      <th></th>\n",
              "      <th>Item</th>\n",
              "      <th>Rating</th>\n",
              "      <th>Review</th>\n",
              "    </tr>\n",
              "  </thead>\n",
              "  <tbody>\n",
              "  </tbody>\n",
              "</table>\n",
              "</div>"
            ],
            "text/plain": [
              "Empty DataFrame\n",
              "Columns: [Item, Rating, Review]\n",
              "Index: []"
            ]
          },
          "metadata": {
            "tags": []
          },
          "execution_count": 146
        }
      ]
    },
    {
      "cell_type": "code",
      "metadata": {
        "colab": {
          "base_uri": "https://localhost:8080/"
        },
        "id": "b-q3HoSc42Pf",
        "outputId": "6f49e935-7753-40c5-8566-f90e8c9a1216"
      },
      "source": [
        "print(\"Percentage of products with bad rating: \" + str((len(unpopular(apple_dataset))/len(apple_dataset))*100))"
      ],
      "execution_count": null,
      "outputs": [
        {
          "output_type": "stream",
          "text": [
            "Percentage of products with bad rating: 0.0\n"
          ],
          "name": "stdout"
        }
      ]
    },
    {
      "cell_type": "markdown",
      "metadata": {
        "id": "3SQBNoAs45dW"
      },
      "source": [
        "##ASUS"
      ]
    },
    {
      "cell_type": "code",
      "metadata": {
        "colab": {
          "base_uri": "https://localhost:8080/",
          "height": 112
        },
        "id": "VWY4tXTH44xN",
        "outputId": "045c6f42-5e7d-4f3d-f391-1e24b4cb0b1c"
      },
      "source": [
        "unpopular(asus_dataset).head(10)"
      ],
      "execution_count": null,
      "outputs": [
        {
          "output_type": "execute_result",
          "data": {
            "text/html": [
              "<div>\n",
              "<style scoped>\n",
              "    .dataframe tbody tr th:only-of-type {\n",
              "        vertical-align: middle;\n",
              "    }\n",
              "\n",
              "    .dataframe tbody tr th {\n",
              "        vertical-align: top;\n",
              "    }\n",
              "\n",
              "    .dataframe thead th {\n",
              "        text-align: right;\n",
              "    }\n",
              "</style>\n",
              "<table border=\"1\" class=\"dataframe\">\n",
              "  <thead>\n",
              "    <tr style=\"text-align: right;\">\n",
              "      <th></th>\n",
              "      <th>Item</th>\n",
              "      <th>Rating</th>\n",
              "      <th>Review</th>\n",
              "    </tr>\n",
              "  </thead>\n",
              "  <tbody>\n",
              "    <tr>\n",
              "      <th>0</th>\n",
              "      <td>Asus VivoBook 11 (L203)</td>\n",
              "      <td>2.0</td>\n",
              "      <td>There's no shame in having a low laptop budget...</td>\n",
              "    </tr>\n",
              "    <tr>\n",
              "      <th>1</th>\n",
              "      <td>Asus Transformer Book Trio</td>\n",
              "      <td>2.5</td>\n",
              "      <td>The Asus Transformer Book Trio is an intriguin...</td>\n",
              "    </tr>\n",
              "  </tbody>\n",
              "</table>\n",
              "</div>"
            ],
            "text/plain": [
              "                          Item  ...                                             Review\n",
              "0     Asus VivoBook 11 (L203)   ...  There's no shame in having a low laptop budget...\n",
              "1  Asus Transformer Book Trio   ...  The Asus Transformer Book Trio is an intriguin...\n",
              "\n",
              "[2 rows x 3 columns]"
            ]
          },
          "metadata": {
            "tags": []
          },
          "execution_count": 148
        }
      ]
    },
    {
      "cell_type": "code",
      "metadata": {
        "colab": {
          "base_uri": "https://localhost:8080/"
        },
        "id": "QqlebODV48Q7",
        "outputId": "f46464e5-8136-4506-98d2-a1da1a25e127"
      },
      "source": [
        "print(\"Percentage of products with bad rating: \" + str((len(unpopular(asus_dataset))/len(asus_dataset))*100))"
      ],
      "execution_count": null,
      "outputs": [
        {
          "output_type": "stream",
          "text": [
            "Percentage of products with bad rating: 2.2988505747126435\n"
          ],
          "name": "stdout"
        }
      ]
    },
    {
      "cell_type": "markdown",
      "metadata": {
        "id": "5GgKIJP15A9k"
      },
      "source": [
        "##LENOVO"
      ]
    },
    {
      "cell_type": "code",
      "metadata": {
        "colab": {
          "base_uri": "https://localhost:8080/",
          "height": 112
        },
        "id": "ouMmtjgP4_St",
        "outputId": "cd2989b2-f28e-4b88-9038-3dfed213c9dd"
      },
      "source": [
        "unpopular(lenovo_dataset).head(10)"
      ],
      "execution_count": null,
      "outputs": [
        {
          "output_type": "execute_result",
          "data": {
            "text/html": [
              "<div>\n",
              "<style scoped>\n",
              "    .dataframe tbody tr th:only-of-type {\n",
              "        vertical-align: middle;\n",
              "    }\n",
              "\n",
              "    .dataframe tbody tr th {\n",
              "        vertical-align: top;\n",
              "    }\n",
              "\n",
              "    .dataframe thead th {\n",
              "        text-align: right;\n",
              "    }\n",
              "</style>\n",
              "<table border=\"1\" class=\"dataframe\">\n",
              "  <thead>\n",
              "    <tr style=\"text-align: right;\">\n",
              "      <th></th>\n",
              "      <th>Item</th>\n",
              "      <th>Rating</th>\n",
              "      <th>Review</th>\n",
              "    </tr>\n",
              "  </thead>\n",
              "  <tbody>\n",
              "    <tr>\n",
              "      <th>0</th>\n",
              "      <td>Lenovo Z50-75 Signature Edition</td>\n",
              "      <td>2.5</td>\n",
              "      <td>At less than $400, you may be tempted by the L...</td>\n",
              "    </tr>\n",
              "    <tr>\n",
              "      <th>1</th>\n",
              "      <td>Lenovo V330</td>\n",
              "      <td>2.5</td>\n",
              "      <td>Lenovo's V330 value laptop has minor appeal fo...</td>\n",
              "    </tr>\n",
              "  </tbody>\n",
              "</table>\n",
              "</div>"
            ],
            "text/plain": [
              "                               Item  ...                                             Review\n",
              "0  Lenovo Z50-75 Signature Edition   ...  At less than $400, you may be tempted by the L...\n",
              "1                      Lenovo V330   ...  Lenovo's V330 value laptop has minor appeal fo...\n",
              "\n",
              "[2 rows x 3 columns]"
            ]
          },
          "metadata": {
            "tags": []
          },
          "execution_count": 150
        }
      ]
    },
    {
      "cell_type": "code",
      "metadata": {
        "colab": {
          "base_uri": "https://localhost:8080/"
        },
        "id": "WGmzql4w5Dl0",
        "outputId": "e0577c66-1e16-4b1f-f499-df474f10fdc7"
      },
      "source": [
        "print(\"Percentage of products with bad rating: \" + str((len(unpopular(lenovo_dataset))/len(lenovo_dataset))*100))"
      ],
      "execution_count": null,
      "outputs": [
        {
          "output_type": "stream",
          "text": [
            "Percentage of products with bad rating: 1.1764705882352942\n"
          ],
          "name": "stdout"
        }
      ]
    },
    {
      "cell_type": "markdown",
      "metadata": {
        "id": "fQrIiAbg5HJa"
      },
      "source": [
        "##MSI"
      ]
    },
    {
      "cell_type": "code",
      "metadata": {
        "colab": {
          "base_uri": "https://localhost:8080/",
          "height": 112
        },
        "id": "MIE6HWM45F0j",
        "outputId": "aa1715d9-af14-4b9b-ff79-a250df811549"
      },
      "source": [
        "unpopular(msi_dataset).head(10)"
      ],
      "execution_count": null,
      "outputs": [
        {
          "output_type": "execute_result",
          "data": {
            "text/html": [
              "<div>\n",
              "<style scoped>\n",
              "    .dataframe tbody tr th:only-of-type {\n",
              "        vertical-align: middle;\n",
              "    }\n",
              "\n",
              "    .dataframe tbody tr th {\n",
              "        vertical-align: top;\n",
              "    }\n",
              "\n",
              "    .dataframe thead th {\n",
              "        text-align: right;\n",
              "    }\n",
              "</style>\n",
              "<table border=\"1\" class=\"dataframe\">\n",
              "  <thead>\n",
              "    <tr style=\"text-align: right;\">\n",
              "      <th></th>\n",
              "      <th>Item</th>\n",
              "      <th>Rating</th>\n",
              "      <th>Review</th>\n",
              "    </tr>\n",
              "  </thead>\n",
              "  <tbody>\n",
              "    <tr>\n",
              "      <th>0</th>\n",
              "      <td>MSI GT83VR Titan SLI Preview</td>\n",
              "      <td>2.0</td>\n",
              "      <td>The MSI GT83VR Titan SLI is a tour-de-force ga...</td>\n",
              "    </tr>\n",
              "    <tr>\n",
              "      <th>1</th>\n",
              "      <td>MSI WE62</td>\n",
              "      <td>2.5</td>\n",
              "      <td>MSI's 15.6-inch mobile workstation shows poten...</td>\n",
              "    </tr>\n",
              "  </tbody>\n",
              "</table>\n",
              "</div>"
            ],
            "text/plain": [
              "                           Item  ...                                             Review\n",
              "0  MSI GT83VR Titan SLI Preview  ...  The MSI GT83VR Titan SLI is a tour-de-force ga...\n",
              "1                     MSI WE62   ...  MSI's 15.6-inch mobile workstation shows poten...\n",
              "\n",
              "[2 rows x 3 columns]"
            ]
          },
          "metadata": {
            "tags": []
          },
          "execution_count": 152
        }
      ]
    },
    {
      "cell_type": "code",
      "metadata": {
        "colab": {
          "base_uri": "https://localhost:8080/"
        },
        "id": "s8-Ipz5t5Lso",
        "outputId": "4d1203b3-eb62-4089-e41c-69931b45d527"
      },
      "source": [
        "print(\"Percentage of products with bad rating: \" + str((len(unpopular(msi_dataset))/len(msi_dataset))*100))"
      ],
      "execution_count": null,
      "outputs": [
        {
          "output_type": "stream",
          "text": [
            "Percentage of products with bad rating: 4.3478260869565215\n"
          ],
          "name": "stdout"
        }
      ]
    },
    {
      "cell_type": "code",
      "metadata": {
        "id": "mAmAAVSO5OHz"
      },
      "source": [
        "#can generate a line graph rating vs frequency (for each brand)"
      ],
      "execution_count": null,
      "outputs": []
    },
    {
      "cell_type": "markdown",
      "metadata": {
        "id": "QEXiOwrR7gg6"
      },
      "source": [
        "#Rating Distribution"
      ]
    },
    {
      "cell_type": "markdown",
      "metadata": {
        "id": "EzpW-yYc71Z-"
      },
      "source": [
        "##Dell"
      ]
    },
    {
      "cell_type": "code",
      "metadata": {
        "id": "--V75hXc8e-y"
      },
      "source": [
        "def rate_dist(df):\n",
        "  score_count = {} #stores key:value\n",
        "  for i in range(len(df)):\n",
        "    rate = df.loc[i,'score']\n",
        "    if rate in score_count: #if this key exists\n",
        "      score_count.update({rate:score_count[rate]+1})\n",
        "    if rate not in score_count:\n",
        "      score_count[rate] = 1\n",
        "  return score_count"
      ],
      "execution_count": null,
      "outputs": []
    },
    {
      "cell_type": "code",
      "metadata": {
        "colab": {
          "base_uri": "https://localhost:8080/"
        },
        "id": "3h4iU8q2_ns0",
        "outputId": "051b8b6f-7b04-43e2-f3f1-b4b4336f8160"
      },
      "source": [
        "print(rate_dist(dell_dataset))"
      ],
      "execution_count": null,
      "outputs": [
        {
          "output_type": "stream",
          "text": [
            "{4.0: 81, 4.5: 13, 2.5: 3, 3.5: 36, 3.0: 13, 5.0: 1}\n"
          ],
          "name": "stdout"
        }
      ]
    },
    {
      "cell_type": "code",
      "metadata": {
        "id": "cbEX2PMDBESS"
      },
      "source": [
        "import collections\n",
        "ordered = collections.OrderedDict(sorted(rate_dist(dell_dataset).items()))"
      ],
      "execution_count": null,
      "outputs": []
    },
    {
      "cell_type": "code",
      "metadata": {
        "colab": {
          "base_uri": "https://localhost:8080/"
        },
        "id": "sPsLlkv2BlmO",
        "outputId": "f4dc3ac2-c74f-4c3e-cf04-819fc08e2b92"
      },
      "source": [
        "print(ordered)"
      ],
      "execution_count": null,
      "outputs": [
        {
          "output_type": "stream",
          "text": [
            "OrderedDict([(2.5, 3), (3.0, 13), (3.5, 36), (4.0, 81), (4.5, 13), (5.0, 1)])\n"
          ],
          "name": "stdout"
        }
      ]
    },
    {
      "cell_type": "code",
      "metadata": {
        "colab": {
          "base_uri": "https://localhost:8080/"
        },
        "id": "5jXeWRhPBm2f",
        "outputId": "ac289e60-1b11-4e8c-b6db-6510112b75a8"
      },
      "source": [
        "ordered[3.0]"
      ],
      "execution_count": null,
      "outputs": [
        {
          "output_type": "execute_result",
          "data": {
            "text/plain": [
              "13"
            ]
          },
          "metadata": {
            "tags": []
          },
          "execution_count": 164
        }
      ]
    },
    {
      "cell_type": "code",
      "metadata": {
        "id": "8qbQfrgmCJuN"
      },
      "source": [
        "x_val = []\n",
        "y_val = []\n",
        "for i,j in ordered.items(): #iterate ordered dictionary\n",
        "  x_val.append(i)\n",
        "  y_val.append(j)"
      ],
      "execution_count": null,
      "outputs": []
    },
    {
      "cell_type": "code",
      "metadata": {
        "colab": {
          "base_uri": "https://localhost:8080/"
        },
        "id": "yHlwighgC59J",
        "outputId": "bf0e36e8-399e-4c79-eaea-07b98c8ba981"
      },
      "source": [
        "print(x_val)"
      ],
      "execution_count": null,
      "outputs": [
        {
          "output_type": "stream",
          "text": [
            "[2.5, 3.0, 3.5, 4.0, 4.5, 5.0]\n"
          ],
          "name": "stdout"
        }
      ]
    },
    {
      "cell_type": "code",
      "metadata": {
        "colab": {
          "base_uri": "https://localhost:8080/"
        },
        "id": "QXqkSP9pC79I",
        "outputId": "101f0ee9-db25-4750-9762-cb9c06d8fbb1"
      },
      "source": [
        "print(y_val)"
      ],
      "execution_count": null,
      "outputs": [
        {
          "output_type": "stream",
          "text": [
            "[3, 13, 36, 81, 13, 1]\n"
          ],
          "name": "stdout"
        }
      ]
    },
    {
      "cell_type": "code",
      "metadata": {
        "colab": {
          "base_uri": "https://localhost:8080/",
          "height": 748
        },
        "id": "lr5HWmHKB3YP",
        "outputId": "a83d2ad7-e12b-4128-8895-b38a502df525"
      },
      "source": [
        "plt.figure(figsize=(12,12))\n",
        "plt.title(\"Dell\",fontsize=25,fontweight=25)\n",
        "plt.plot(x_val,y_val)\n",
        "plt.plot(x_val,y_val,'or')\n",
        "plt.xlabel(\"Rating\",fontsize=20,fontweight=20)\n",
        "plt.ylabel(\"Frequency\",fontsize=20,fontweight=20)\n",
        "for x,y in zip(x_val,y_val):\n",
        "  label = y\n",
        "  plt.annotate(label, # this is the text\n",
        "                 (x,y), # this is the point to label\n",
        "                 textcoords=\"offset points\", # how to position the text\n",
        "                 xytext=(0,10), # distance from text to points (x,y)\n",
        "                 ha='center')\n",
        "#plt.savefig('/content/drive/My Drive/Web Crawling/csv/dellrating.png', facecolor=\"black\", edgecolor=\"none\")\n",
        "plt.show()"
      ],
      "execution_count": null,
      "outputs": [
        {
          "output_type": "display_data",
          "data": {
            "image/png": "[encoded data removed]",
            "text/plain": [
              "<Figure size 864x864 with 1 Axes>"
            ]
          },
          "metadata": {
            "tags": []
          }
        }
      ]
    },
    {
      "cell_type": "code",
      "metadata": {
        "colab": {
          "base_uri": "https://localhost:8080/",
          "height": 699
        },
        "id": "F5uzeN8iC_Gd",
        "outputId": "5cf89ce8-25b7-40ca-8d1b-5f154dafe172"
      },
      "source": [
        "counts = np.array(y_val)\n",
        "myexplode = [0,0,0,0.15,0,0]\n",
        "plt.figure(figsize=(12,12))\n",
        "plt.subplot(title='Dell')\n",
        "_, _, autotexts = plt.pie(counts, labels = x_val, explode = myexplode, shadow = True, autopct='%1.1f%%')\n",
        "for autotext in autotexts:\n",
        "  autotext.set_color('black')\n",
        "#plt.savefig('/content/drive/My Drive/Web Crawling/csv/distribution.png', facecolor=\"black\", edgecolor=\"none\")\n",
        "plt.show() "
      ],
      "execution_count": null,
      "outputs": [
        {
          "output_type": "display_data",
          "data": {
            "image/png": "[encoded data removed]",
            "text/plain": [
              "<Figure size 864x864 with 1 Axes>"
            ]
          },
          "metadata": {
            "tags": []
          }
        }
      ]
    },
    {
      "cell_type": "markdown",
      "metadata": {
        "id": "u33izSTiD9Yo"
      },
      "source": [
        "##Apple"
      ]
    },
    {
      "cell_type": "code",
      "metadata": {
        "id": "l4ZCfYPXD08A"
      },
      "source": [
        "def rate_dist(df):\n",
        "  score_count = {} #stores key:value\n",
        "  for i in range(len(df)):\n",
        "    rate = df.loc[i,'score']\n",
        "    if rate in score_count: #if this key exists\n",
        "      score_count.update({rate:score_count[rate]+1})\n",
        "    if rate not in score_count:\n",
        "      score_count[rate] = 1\n",
        "  ordered = collections.OrderedDict(sorted(score_count.items()))\n",
        "\n",
        "  x_val = []\n",
        "  y_val = []\n",
        "  for i,j in ordered.items(): #iterate ordered dictionary\n",
        "    x_val.append(i)\n",
        "    y_val.append(j)\n",
        "\n",
        "  return x_val, y_val"
      ],
      "execution_count": null,
      "outputs": []
    },
    {
      "cell_type": "code",
      "metadata": {
        "id": "kBUybPqoEa3R"
      },
      "source": [
        "x_val,y_val = rate_dist(apple_dataset)"
      ],
      "execution_count": null,
      "outputs": []
    },
    {
      "cell_type": "code",
      "metadata": {
        "colab": {
          "base_uri": "https://localhost:8080/"
        },
        "id": "25LPxyKgEf2y",
        "outputId": "89e69e9f-bc02-42a1-b58f-1c90b9b8b6f3"
      },
      "source": [
        "print(x_val)\n",
        "print(y_val)"
      ],
      "execution_count": null,
      "outputs": [
        {
          "output_type": "stream",
          "text": [
            "[3.5, 4.0, 4.5, 5.0]\n",
            "[4, 21, 7, 1]\n"
          ],
          "name": "stdout"
        }
      ]
    },
    {
      "cell_type": "code",
      "metadata": {
        "colab": {
          "base_uri": "https://localhost:8080/",
          "height": 748
        },
        "id": "RmoycRWFEh-0",
        "outputId": "e2e17eaf-445e-4451-dae7-e7ad48a2d369"
      },
      "source": [
        "plt.figure(figsize=(12,12))\n",
        "plt.title(\"Apple\",fontsize=25,fontweight=25)\n",
        "plt.plot(x_val,y_val)\n",
        "plt.plot(x_val,y_val,'or')\n",
        "plt.xlabel(\"Rating\",fontsize=20,fontweight=20)\n",
        "plt.ylabel(\"Frequency\",fontsize=20,fontweight=20)\n",
        "for x,y in zip(x_val,y_val):\n",
        "  label = y\n",
        "  plt.annotate(label, # this is the text\n",
        "                 (x,y), # this is the point to label\n",
        "                 textcoords=\"offset points\", # how to position the text\n",
        "                 xytext=(0,10), # distance from text to points (x,y)\n",
        "                 ha='center')\n",
        "#plt.savefig('/content/drive/My Drive/Web Crawling/csv/dellrating.png', facecolor=\"black\", edgecolor=\"none\")\n",
        "plt.show()"
      ],
      "execution_count": null,
      "outputs": [
        {
          "output_type": "display_data",
          "data": {
            "image/png": "[encoded data removed]",
            "text/plain": [
              "<Figure size 864x864 with 1 Axes>"
            ]
          },
          "metadata": {
            "tags": []
          }
        }
      ]
    },
    {
      "cell_type": "code",
      "metadata": {
        "colab": {
          "base_uri": "https://localhost:8080/",
          "height": 699
        },
        "id": "3lDNez6wEniy",
        "outputId": "507bd61d-d965-4a0d-ed50-0844b8cdb232"
      },
      "source": [
        "counts = np.array(y_val)\n",
        "myexplode = [0,0.15,0,0]\n",
        "plt.figure(figsize=(12,12))\n",
        "plt.subplot(title='Apple')\n",
        "_, _, autotexts = plt.pie(counts, labels = x_val, explode = myexplode, shadow = True, autopct='%1.1f%%')\n",
        "for autotext in autotexts:\n",
        "  autotext.set_color('black')\n",
        "#plt.savefig('/content/drive/My Drive/Web Crawling/csv/distribution.png', facecolor=\"black\", edgecolor=\"none\")\n",
        "plt.show() "
      ],
      "execution_count": null,
      "outputs": [
        {
          "output_type": "display_data",
          "data": {
            "image/png": "[encoded data removed]",
            "text/plain": [
              "<Figure size 864x864 with 1 Axes>"
            ]
          },
          "metadata": {
            "tags": []
          }
        }
      ]
    },
    {
      "cell_type": "markdown",
      "metadata": {
        "id": "It_v14NjE1Qp"
      },
      "source": [
        "##ASUS"
      ]
    },
    {
      "cell_type": "code",
      "metadata": {
        "id": "Td3mtaTXEu-j"
      },
      "source": [
        "x_val,y_val = rate_dist(asus_dataset)"
      ],
      "execution_count": null,
      "outputs": []
    },
    {
      "cell_type": "code",
      "metadata": {
        "colab": {
          "base_uri": "https://localhost:8080/"
        },
        "id": "m39JyJxwE6Bu",
        "outputId": "7dd74c74-caae-472f-cadc-69bcc2486eeb"
      },
      "source": [
        "print(x_val)\n",
        "print(y_val)"
      ],
      "execution_count": null,
      "outputs": [
        {
          "output_type": "stream",
          "text": [
            "[2.0, 2.5, 3.0, 3.5, 4.0, 4.5]\n",
            "[1, 1, 9, 25, 45, 6]\n"
          ],
          "name": "stdout"
        }
      ]
    },
    {
      "cell_type": "code",
      "metadata": {
        "colab": {
          "base_uri": "https://localhost:8080/",
          "height": 748
        },
        "id": "VyA3aRxLE7wm",
        "outputId": "a34f9934-458e-47c5-9f92-f4191ccde200"
      },
      "source": [
        "plt.figure(figsize=(12,12))\n",
        "plt.title(\"ASUS\",fontsize=25,fontweight=25)\n",
        "plt.plot(x_val,y_val)\n",
        "plt.plot(x_val,y_val,'or')\n",
        "plt.xlabel(\"Rating\",fontsize=20,fontweight=20)\n",
        "plt.ylabel(\"Frequency\",fontsize=20,fontweight=20)\n",
        "for x,y in zip(x_val,y_val):\n",
        "  label = y\n",
        "  plt.annotate(label, # this is the text\n",
        "                 (x,y), # this is the point to label\n",
        "                 textcoords=\"offset points\", # how to position the text\n",
        "                 xytext=(0,10), # distance from text to points (x,y)\n",
        "                 ha='center')\n",
        "#plt.savefig('/content/drive/My Drive/Web Crawling/csv/dellrating.png', facecolor=\"black\", edgecolor=\"none\")\n",
        "plt.show()"
      ],
      "execution_count": null,
      "outputs": [
        {
          "output_type": "display_data",
          "data": {
            "image/png": "[encoded data removed]",
            "text/plain": [
              "<Figure size 864x864 with 1 Axes>"
            ]
          },
          "metadata": {
            "tags": []
          }
        }
      ]
    },
    {
      "cell_type": "code",
      "metadata": {
        "colab": {
          "base_uri": "https://localhost:8080/",
          "height": 699
        },
        "id": "wNuvNOgvE_cV",
        "outputId": "8e37e911-c762-4e6a-96ed-6e0244172d12"
      },
      "source": [
        "counts = np.array(y_val)\n",
        "myexplode = [0,0,0,0,0.15,0]\n",
        "plt.figure(figsize=(12,12))\n",
        "plt.subplot(title='ASUS')\n",
        "_, _, autotexts = plt.pie(counts, labels = x_val, explode = myexplode, shadow = True, autopct='%1.1f%%')\n",
        "for autotext in autotexts:\n",
        "  autotext.set_color('black')\n",
        "#plt.savefig('/content/drive/My Drive/Web Crawling/csv/distribution.png', facecolor=\"black\", edgecolor=\"none\")\n",
        "plt.show() "
      ],
      "execution_count": null,
      "outputs": [
        {
          "output_type": "display_data",
          "data": {
            "image/png": "[encoded data removed]",
            "text/plain": [
              "<Figure size 864x864 with 1 Axes>"
            ]
          },
          "metadata": {
            "tags": []
          }
        }
      ]
    },
    {
      "cell_type": "markdown",
      "metadata": {
        "id": "AQtAMs5NFIsH"
      },
      "source": [
        "##LENOVO"
      ]
    },
    {
      "cell_type": "code",
      "metadata": {
        "id": "lIAmpec_FFMu"
      },
      "source": [
        "x_val,y_val = rate_dist(lenovo_dataset)"
      ],
      "execution_count": null,
      "outputs": []
    },
    {
      "cell_type": "code",
      "metadata": {
        "colab": {
          "base_uri": "https://localhost:8080/"
        },
        "id": "LwOKGO8fFL0J",
        "outputId": "b4d64353-2829-4966-fbcb-1f678dc6bdc5"
      },
      "source": [
        "print(x_val)\n",
        "print(y_val)"
      ],
      "execution_count": null,
      "outputs": [
        {
          "output_type": "stream",
          "text": [
            "[2.5, 3.0, 3.5, 4.0, 4.5]\n",
            "[2, 19, 44, 96, 9]\n"
          ],
          "name": "stdout"
        }
      ]
    },
    {
      "cell_type": "code",
      "metadata": {
        "colab": {
          "base_uri": "https://localhost:8080/",
          "height": 748
        },
        "id": "fEmR4Y2LFNZC",
        "outputId": "ac4716b9-f6f2-49b2-c0d5-4b767a81b5dd"
      },
      "source": [
        "plt.figure(figsize=(12,12))\n",
        "plt.title(\"LENOVO\",fontsize=25,fontweight=25)\n",
        "plt.plot(x_val,y_val)\n",
        "plt.plot(x_val,y_val,'or')\n",
        "plt.xlabel(\"Rating\",fontsize=20,fontweight=20)\n",
        "plt.ylabel(\"Frequency\",fontsize=20,fontweight=20)\n",
        "for x,y in zip(x_val,y_val):\n",
        "  label = y\n",
        "  plt.annotate(label, # this is the text\n",
        "                 (x,y), # this is the point to label\n",
        "                 textcoords=\"offset points\", # how to position the text\n",
        "                 xytext=(0,10), # distance from text to points (x,y)\n",
        "                 ha='center')\n",
        "#plt.savefig('/content/drive/My Drive/Web Crawling/csv/dellrating.png', facecolor=\"black\", edgecolor=\"none\")\n",
        "plt.show()"
      ],
      "execution_count": null,
      "outputs": [
        {
          "output_type": "display_data",
          "data": {
            "image/png": "[encoded data removed]",
            "text/plain": [
              "<Figure size 864x864 with 1 Axes>"
            ]
          },
          "metadata": {
            "tags": []
          }
        }
      ]
    },
    {
      "cell_type": "code",
      "metadata": {
        "colab": {
          "base_uri": "https://localhost:8080/",
          "height": 699
        },
        "id": "ARH4SOZhFQy2",
        "outputId": "97b95d44-f0fd-446a-f3fb-ee9d173d3333"
      },
      "source": [
        "counts = np.array(y_val)\n",
        "myexplode = [0,0,0,0.15,0]\n",
        "plt.figure(figsize=(12,12))\n",
        "plt.subplot(title='LENOVO')\n",
        "_, _, autotexts = plt.pie(counts, labels = x_val, explode = myexplode, shadow = True, autopct='%1.1f%%')\n",
        "for autotext in autotexts:\n",
        "  autotext.set_color('black')\n",
        "#plt.savefig('/content/drive/My Drive/Web Crawling/csv/distribution.png', facecolor=\"black\", edgecolor=\"none\")\n",
        "plt.show() "
      ],
      "execution_count": null,
      "outputs": [
        {
          "output_type": "display_data",
          "data": {
            "image/png": "[encoded data removed]",
            "text/plain": [
              "<Figure size 864x864 with 1 Axes>"
            ]
          },
          "metadata": {
            "tags": []
          }
        }
      ]
    },
    {
      "cell_type": "markdown",
      "metadata": {
        "id": "yfZMN5KxFYtU"
      },
      "source": [
        "##MSI"
      ]
    },
    {
      "cell_type": "code",
      "metadata": {
        "id": "5otvLfTgFVhj"
      },
      "source": [
        "x_val,y_val = rate_dist(msi_dataset)"
      ],
      "execution_count": null,
      "outputs": []
    },
    {
      "cell_type": "code",
      "metadata": {
        "colab": {
          "base_uri": "https://localhost:8080/"
        },
        "id": "iTyVDW1nFbw5",
        "outputId": "34c4e6dc-d276-4b93-8e7b-37572355969d"
      },
      "source": [
        "print(x_val)\n",
        "print(y_val)"
      ],
      "execution_count": null,
      "outputs": [
        {
          "output_type": "stream",
          "text": [
            "[2.0, 2.5, 3.0, 3.5, 4.0, 4.5]\n",
            "[1, 1, 5, 15, 23, 1]\n"
          ],
          "name": "stdout"
        }
      ]
    },
    {
      "cell_type": "code",
      "metadata": {
        "colab": {
          "base_uri": "https://localhost:8080/",
          "height": 748
        },
        "id": "rzzl7OeSFdeT",
        "outputId": "915fa788-3c31-4015-cc7c-2ad4e2ae8203"
      },
      "source": [
        "plt.figure(figsize=(12,12))\n",
        "plt.title(\"MSI\",fontsize=25,fontweight=25)\n",
        "plt.plot(x_val,y_val)\n",
        "plt.plot(x_val,y_val,'or')\n",
        "plt.xlabel(\"Rating\",fontsize=20,fontweight=20)\n",
        "plt.ylabel(\"Frequency\",fontsize=20,fontweight=20)\n",
        "for x,y in zip(x_val,y_val):\n",
        "  label = y\n",
        "  plt.annotate(label, # this is the text\n",
        "                 (x,y), # this is the point to label\n",
        "                 textcoords=\"offset points\", # how to position the text\n",
        "                 xytext=(0,10), # distance from text to points (x,y)\n",
        "                 ha='center')\n",
        "#plt.savefig('/content/drive/My Drive/Web Crawling/csv/dellrating.png', facecolor=\"black\", edgecolor=\"none\")\n",
        "plt.show()"
      ],
      "execution_count": null,
      "outputs": [
        {
          "output_type": "display_data",
          "data": {
            "image/png": "[encoded data removed]",
            "text/plain": [
              "<Figure size 864x864 with 1 Axes>"
            ]
          },
          "metadata": {
            "tags": []
          }
        }
      ]
    },
    {
      "cell_type": "code",
      "metadata": {
        "colab": {
          "base_uri": "https://localhost:8080/",
          "height": 701
        },
        "id": "xkH4-BKiFgwo",
        "outputId": "d55a6f6e-a071-4610-a48b-44265604a0e6"
      },
      "source": [
        "counts = np.array(y_val)\n",
        "myexplode = [0,0,0,0,0.15,0]\n",
        "plt.figure(figsize=(12,12))\n",
        "plt.subplot(title='MSI')\n",
        "_, _, autotexts = plt.pie(counts, labels = x_val, explode = myexplode, shadow = True, autopct='%1.1f%%')\n",
        "for autotext in autotexts:\n",
        "  autotext.set_color('black')\n",
        "#plt.savefig('/content/drive/My Drive/Web Crawling/csv/distribution.png', facecolor=\"black\", edgecolor=\"none\")\n",
        "plt.show() "
      ],
      "execution_count": null,
      "outputs": [
        {
          "output_type": "display_data",
          "data": {
            "image/png": "[encoded data removed]",
            "text/plain": [
              "<Figure size 864x864 with 1 Axes>"
            ]
          },
          "metadata": {
            "tags": []
          }
        }
      ]
    },
    {
      "cell_type": "code",
      "metadata": {
        "id": "BHxuYXCPFnvd"
      },
      "source": [
        ""
      ],
      "execution_count": null,
      "outputs": []
    }
  ]
}